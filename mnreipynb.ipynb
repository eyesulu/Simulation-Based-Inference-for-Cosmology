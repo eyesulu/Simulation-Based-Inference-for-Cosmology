{
  "cells": [
    {
      "cell_type": "code",
      "source": [
        "!pip install camb\n",
        "!pip install swyft==0.4.5\n",
        "!pip install healpy"
      ],
      "outputs": [
        {
          "output_type": "stream",
          "name": "stdout",
          "text": "Requirement already satisfied: camb in /anaconda/envs/azureml_py38/lib/python3.8/site-packages (1.5.4)\nRequirement already satisfied: packaging in /anaconda/envs/azureml_py38/lib/python3.8/site-packages (from camb) (23.0)\nRequirement already satisfied: scipy>=1.0 in /anaconda/envs/azureml_py38/lib/python3.8/site-packages (from camb) (1.5.3)\nRequirement already satisfied: sympy>=1.0 in /anaconda/envs/azureml_py38/lib/python3.8/site-packages (from camb) (1.12)\nRequirement already satisfied: numpy>=1.14.5 in /anaconda/envs/azureml_py38/lib/python3.8/site-packages (from scipy>=1.0->camb) (1.21.6)\nRequirement already satisfied: mpmath>=0.19 in /anaconda/envs/azureml_py38/lib/python3.8/site-packages (from sympy>=1.0->camb) (1.3.0)\nRequirement already satisfied: swyft in /anaconda/envs/azureml_py38/lib/python3.8/site-packages (0.2.0)\nRequirement already satisfied: scipy>=1.4.1 in /anaconda/envs/azureml_py38/lib/python3.8/site-packages (from swyft) (1.5.3)\nRequirement already satisfied: tqdm>=4.46.0 in /anaconda/envs/azureml_py38/lib/python3.8/site-packages (from swyft) (4.65.0)\nRequirement already satisfied: scikit-learn>=0.23.2 in /anaconda/envs/azureml_py38/lib/python3.8/site-packages (from swyft) (1.3.2)\nRequirement already satisfied: numpy>=1.18.1 in /anaconda/envs/azureml_py38/lib/python3.8/site-packages (from swyft) (1.21.6)\nRequirement already satisfied: zarr>=2.5.0 in /anaconda/envs/azureml_py38/lib/python3.8/site-packages (from swyft) (2.16.1)\nRequirement already satisfied: matplotlib>=3.1.3 in /anaconda/envs/azureml_py38/lib/python3.8/site-packages (from swyft) (3.2.1)\nRequirement already satisfied: seaborn in /anaconda/envs/azureml_py38/lib/python3.8/site-packages (from swyft) (0.12.2)\nRequirement already satisfied: toolz in /anaconda/envs/azureml_py38/lib/python3.8/site-packages (from swyft) (0.12.0)\nRequirement already satisfied: torch>=1.4.0 in /anaconda/envs/azureml_py38/lib/python3.8/site-packages (from swyft) (1.12.0)\nRequirement already satisfied: pandas in /anaconda/envs/azureml_py38/lib/python3.8/site-packages (from swyft) (1.1.5)\nRequirement already satisfied: numcodecs>=0.7.2 in /anaconda/envs/azureml_py38/lib/python3.8/site-packages (from swyft) (0.12.1)\nRequirement already satisfied: fasteners==0.15 in /anaconda/envs/azureml_py38/lib/python3.8/site-packages (from swyft) (0.15)\nRequirement already satisfied: dask[complete]>=2021.3.0 in /anaconda/envs/azureml_py38/lib/python3.8/site-packages (from swyft) (2023.2.0)\nRequirement already satisfied: joblib>=1.1.1 in /anaconda/envs/azureml_py38/lib/python3.8/site-packages (from scikit-learn>=0.23.2->swyft) (1.2.0)\nRequirement already satisfied: threadpoolctl>=2.0.0 in /anaconda/envs/azureml_py38/lib/python3.8/site-packages (from scikit-learn>=0.23.2->swyft) (3.1.0)\nRequirement already satisfied: asciitree in /anaconda/envs/azureml_py38/lib/python3.8/site-packages (from zarr>=2.5.0->swyft) (0.3.3)\nRequirement already satisfied: cycler>=0.10 in /anaconda/envs/azureml_py38/lib/python3.8/site-packages (from matplotlib>=3.1.3->swyft) (0.11.0)\nRequirement already satisfied: pyparsing!=2.0.4,!=2.1.2,!=2.1.6,>=2.0.1 in /anaconda/envs/azureml_py38/lib/python3.8/site-packages (from matplotlib>=3.1.3->swyft) (3.1.0)\nRequirement already satisfied: python-dateutil>=2.1 in /anaconda/envs/azureml_py38/lib/python3.8/site-packages (from matplotlib>=3.1.3->swyft) (2.8.2)\nRequirement already satisfied: kiwisolver>=1.0.1 in /anaconda/envs/azureml_py38/lib/python3.8/site-packages (from matplotlib>=3.1.3->swyft) (1.4.4)\nRequirement already satisfied: typing-extensions in /anaconda/envs/azureml_py38/lib/python3.8/site-packages (from torch>=1.4.0->swyft) (4.9.0)\nRequirement already satisfied: pytz>=2017.2 in /anaconda/envs/azureml_py38/lib/python3.8/site-packages (from pandas->swyft) (2022.5)\nRequirement already satisfied: monotonic>=0.1 in /anaconda/envs/azureml_py38/lib/python3.8/site-packages (from fasteners==0.15->swyft) (1.6)\nRequirement already satisfied: six in /anaconda/envs/azureml_py38/lib/python3.8/site-packages (from fasteners==0.15->swyft) (1.16.0)\nRequirement already satisfied: partd>=0.3.10 in /anaconda/envs/azureml_py38/lib/python3.8/site-packages (from dask[complete]>=2021.3.0->swyft) (1.4.0)\nRequirement already satisfied: pyyaml>=5.3.1 in /anaconda/envs/azureml_py38/lib/python3.8/site-packages (from dask[complete]>=2021.3.0->swyft) (6.0)\nRequirement already satisfied: cloudpickle>=1.1.1 in /anaconda/envs/azureml_py38/lib/python3.8/site-packages (from dask[complete]>=2021.3.0->swyft) (1.6.0)\nRequirement already satisfied: fsspec>=0.6.0 in /anaconda/envs/azureml_py38/lib/python3.8/site-packages (from dask[complete]>=2021.3.0->swyft) (2023.5.0)\nRequirement already satisfied: packaging>=20.0 in /anaconda/envs/azureml_py38/lib/python3.8/site-packages (from dask[complete]>=2021.3.0->swyft) (23.0)\nRequirement already satisfied: click>=7.0 in /anaconda/envs/azureml_py38/lib/python3.8/site-packages (from dask[complete]>=2021.3.0->swyft) (8.1.3)\nRequirement already satisfied: distributed==2023.2.0; extra == \"complete\" in /anaconda/envs/azureml_py38/lib/python3.8/site-packages (from dask[complete]>=2021.3.0->swyft) (2023.2.0)\nRequirement already satisfied: jinja2; extra == \"complete\" in /anaconda/envs/azureml_py38/lib/python3.8/site-packages (from dask[complete]>=2021.3.0->swyft) (2.11.2)\nRequirement already satisfied: bokeh<3,>=2.4.2; extra == \"complete\" in /anaconda/envs/azureml_py38/lib/python3.8/site-packages (from dask[complete]>=2021.3.0->swyft) (2.4.3)\nRequirement already satisfied: locket in /anaconda/envs/azureml_py38/lib/python3.8/site-packages (from partd>=0.3.10->dask[complete]>=2021.3.0->swyft) (1.0.0)\nRequirement already satisfied: urllib3>=1.24.3 in /anaconda/envs/azureml_py38/lib/python3.8/site-packages (from distributed==2023.2.0; extra == \"complete\"->dask[complete]>=2021.3.0->swyft) (1.26.16)\nRequirement already satisfied: psutil>=5.7.0 in /anaconda/envs/azureml_py38/lib/python3.8/site-packages (from distributed==2023.2.0; extra == \"complete\"->dask[complete]>=2021.3.0->swyft) (5.9.5)\nRequirement already satisfied: sortedcontainers>=2.0.5 in /anaconda/envs/azureml_py38/lib/python3.8/site-packages (from distributed==2023.2.0; extra == \"complete\"->dask[complete]>=2021.3.0->swyft) (2.4.0)\nRequirement already satisfied: msgpack>=1.0.0 in /anaconda/envs/azureml_py38/lib/python3.8/site-packages (from distributed==2023.2.0; extra == \"complete\"->dask[complete]>=2021.3.0->swyft) (1.0.5)\nRequirement already satisfied: tblib>=1.6.0 in /anaconda/envs/azureml_py38/lib/python3.8/site-packages (from distributed==2023.2.0; extra == \"complete\"->dask[complete]>=2021.3.0->swyft) (1.7.0)\nRequirement already satisfied: tornado>=6.0.3 in /anaconda/envs/azureml_py38/lib/python3.8/site-packages (from distributed==2023.2.0; extra == \"complete\"->dask[complete]>=2021.3.0->swyft) (6.3.2)\nRequirement already satisfied: zict>=2.1.0 in /anaconda/envs/azureml_py38/lib/python3.8/site-packages (from distributed==2023.2.0; extra == \"complete\"->dask[complete]>=2021.3.0->swyft) (3.0.0)\nRequirement already satisfied: MarkupSafe>=0.23 in /anaconda/envs/azureml_py38/lib/python3.8/site-packages (from jinja2; extra == \"complete\"->dask[complete]>=2021.3.0->swyft) (2.1.4)\nRequirement already satisfied: pillow>=7.1.0 in /anaconda/envs/azureml_py38/lib/python3.8/site-packages (from bokeh<3,>=2.4.2; extra == \"complete\"->dask[complete]>=2021.3.0->swyft) (9.2.0)\nRequirement already satisfied: healpy in /anaconda/envs/azureml_py38/lib/python3.8/site-packages (1.16.5)\nRequirement already satisfied: astropy in /anaconda/envs/azureml_py38/lib/python3.8/site-packages (from healpy) (5.2.2)\nRequirement already satisfied: numpy>=1.13 in /anaconda/envs/azureml_py38/lib/python3.8/site-packages (from healpy) (1.21.6)\nRequirement already satisfied: matplotlib in /anaconda/envs/azureml_py38/lib/python3.8/site-packages (from healpy) (3.2.1)\nRequirement already satisfied: scipy in /anaconda/envs/azureml_py38/lib/python3.8/site-packages (from healpy) (1.5.3)\nRequirement already satisfied: packaging>=19.0 in /anaconda/envs/azureml_py38/lib/python3.8/site-packages (from astropy->healpy) (23.0)\nRequirement already satisfied: PyYAML>=3.13 in /anaconda/envs/azureml_py38/lib/python3.8/site-packages (from astropy->healpy) (6.0)\nRequirement already satisfied: pyerfa>=2.0 in /anaconda/envs/azureml_py38/lib/python3.8/site-packages (from astropy->healpy) (2.0.0.3)\nRequirement already satisfied: kiwisolver>=1.0.1 in /anaconda/envs/azureml_py38/lib/python3.8/site-packages (from matplotlib->healpy) (1.4.4)\nRequirement already satisfied: cycler>=0.10 in /anaconda/envs/azureml_py38/lib/python3.8/site-packages (from matplotlib->healpy) (0.11.0)\nRequirement already satisfied: python-dateutil>=2.1 in /anaconda/envs/azureml_py38/lib/python3.8/site-packages (from matplotlib->healpy) (2.8.2)\nRequirement already satisfied: pyparsing!=2.0.4,!=2.1.2,!=2.1.6,>=2.0.1 in /anaconda/envs/azureml_py38/lib/python3.8/site-packages (from matplotlib->healpy) (3.1.0)\nRequirement already satisfied: six>=1.5 in /anaconda/envs/azureml_py38/lib/python3.8/site-packages (from python-dateutil>=2.1->matplotlib->healpy) (1.16.0)\n"
        }
      ],
      "execution_count": 34,
      "metadata": {}
    },
    {
      "cell_type": "code",
      "source": [
        "import camb\n",
        "import matplotlib.pyplot as plt\n",
        "import numpy as np\n",
        "import torch\n",
        "import swyft\n",
        "import healpy as hp\n",
        "from copy import deepcopy\n",
        "#import os\n",
        "green1='#238E68'\n",
        "green2='#32CC99' \n",
        "green3='#76EEC6'\n",
        "blue1='#00688B'\n",
        "blue2='#0099CC'\n",
        "blue3='#87CEEB'\n",
        "orange1='#DD7500'\n",
        "orange2='#FF9912'\n",
        "orange3='#FFCC11'\n"
      ],
      "outputs": [],
      "execution_count": 35,
      "metadata": {
        "jupyter": {
          "source_hidden": false,
          "outputs_hidden": false
        },
        "nteract": {
          "transient": {
            "deleting": false
          }
        },
        "gather": {
          "logged": 1706131681621
        }
      }
    },
    {
      "cell_type": "code",
      "source": [
        "!pip freeze | grep swyft"
      ],
      "outputs": [
        {
          "output_type": "stream",
          "name": "stdout",
          "text": "swyft==0.2.0\r\n"
        }
      ],
      "execution_count": 36,
      "metadata": {
        "jupyter": {
          "source_hidden": false,
          "outputs_hidden": false
        },
        "nteract": {
          "transient": {
            "deleting": false
          }
        }
      }
    },
    {
      "cell_type": "code",
      "source": [
        "lmax=2500\n",
        "fsky=0.6\n",
        "ell=np.array([l for l in range(2,lmax+1)])\n",
        "ells=ell*(ell+1)/(2*np.pi)\n",
        "\n",
        "def generate_camb_cl(v = [67.5 , 0.022, 0.122, 0.06,  0.06, 3.05, 0.965]):\n",
        "    \"\"\" Generate a temperature power spectrum given cosmological parameters\"\"\"\n",
        "    V=np.around(v, decimals=6)\n",
        "    H0 , ombh2, omch2, mnu, tau, logA, ns = V[0], V[1], V[2], V[3], V[4], V[5], V[6]\n",
        "    As = 1e-10 * np.exp(logA)\n",
        "    pars = camb.CAMBparams()\n",
        "    try:\n",
        "        pars.set_cosmology( H0 = H0, ombh2=ombh2, omch2=omch2, mnu=mnu, omk=0, tau=tau)\n",
        "        pars.InitPower.set_params(As=As, ns=ns, r=0)\n",
        "        pars.set_for_lmax(2500, lens_potential_accuracy=0);\n",
        "        pars.NonLinear = camb.model.NonLinear_none\n",
        "        results = camb.get_results(pars)\n",
        "        powers = results.get_cmb_power_spectra(pars, CMB_unit='muK')\n",
        "        totCL = powers['total']\n",
        "        return totCL[:2499, 0]\n",
        "    except:\n",
        "        print('Failed simulation')\n",
        "        return None\n",
        "def noise(obs):\n",
        "    nside = 1024\n",
        "    cmb_map = hp.sphtfunc.synfast(obs, nside=nside)\n",
        "    cl_hat = hp.sphtfunc.anafast(cmb_map)[:2499]\n",
        "    return cl_hat\n"
      ],
      "outputs": [],
      "execution_count": 3,
      "metadata": {
        "jupyter": {
          "source_hidden": false,
          "outputs_hidden": false
        },
        "nteract": {
          "transient": {
            "deleting": false
          }
        },
        "gather": {
          "logged": 1706130877986
        }
      }
    },
    {
      "cell_type": "code",
      "source": [
        "obs = generate_camb_cl()"
      ],
      "outputs": [],
      "execution_count": 4,
      "metadata": {
        "jupyter": {
          "source_hidden": false,
          "outputs_hidden": false
        },
        "nteract": {
          "transient": {
            "deleting": false
          }
        },
        "gather": {
          "logged": 1706130880471
        }
      }
    },
    {
      "cell_type": "code",
      "source": [
        "plt.plot(noise(obs))\n",
        "plt.plot(obs)"
      ],
      "outputs": [
        {
          "output_type": "execute_result",
          "execution_count": 5,
          "data": {
            "text/plain": "[<matplotlib.lines.Line2D at 0x7f5135389a60>]"
          },
          "metadata": {}
        },
        {
          "output_type": "display_data",
          "data": {
            "text/plain": "<Figure size 640x480 with 1 Axes>",
            "image/png": "[encoded data removed]"
          },
          "metadata": {}
        }
      ],
      "execution_count": 5,
      "metadata": {
        "jupyter": {
          "source_hidden": false,
          "outputs_hidden": false
        },
        "nteract": {
          "transient": {
            "deleting": false
          }
        },
        "gather": {
          "logged": 1706130891401
        }
      }
    },
    {
      "cell_type": "code",
      "source": [
        "def calc_cov_theory(cl):\n",
        "    '''\n",
        "    A function that calculates the covariance matrix\n",
        "    Assumes that Cls are given for 2<l<2500\n",
        "    \n",
        "    Parameters\n",
        "    ----------\n",
        "    cl: ndarray or list \n",
        "        1D array or list of Cls \n",
        "        \n",
        "    Returns\n",
        "    -------\n",
        "    A covariance matrix (NxN)\n",
        "    '''\n",
        "    lls = np.arange(2, 2499)\n",
        "    return (np.diag(2 / (2 * lls + 1)  * cl[2:]**2))"
      ],
      "outputs": [],
      "execution_count": 6,
      "metadata": {
        "jupyter": {
          "source_hidden": false,
          "outputs_hidden": false
        },
        "nteract": {
          "transient": {
            "deleting": false
          }
        },
        "gather": {
          "logged": 1706130892689
        }
      }
    },
    {
      "cell_type": "code",
      "source": [
        "covmat = calc_cov_theory(obs)"
      ],
      "outputs": [],
      "execution_count": 7,
      "metadata": {
        "jupyter": {
          "source_hidden": false,
          "outputs_hidden": false
        },
        "nteract": {
          "transient": {
            "deleting": false
          }
        },
        "gather": {
          "logged": 1706130894562
        }
      }
    },
    {
      "cell_type": "code",
      "source": [
        "icovmat=np.linalg.inv(covmat)"
      ],
      "outputs": [],
      "execution_count": 8,
      "metadata": {
        "jupyter": {
          "source_hidden": false,
          "outputs_hidden": false
        },
        "nteract": {
          "transient": {
            "deleting": false
          }
        },
        "gather": {
          "logged": 1706130896140
        }
      }
    },
    {
      "cell_type": "code",
      "source": [
        "pl = [67.5 , 0.022, 0.122, 0.06, 0.06, 3.05, 0.965]\n",
        "def finiteD(k, eps=1e-2):\n",
        "    parr=list(pl)\n",
        "    parr[k]=pl[k]*(1+eps)\n",
        "    parr2=list(pl)\n",
        "    parr2[k]=pl[k]*(1-eps)\n",
        "    m1=generate_camb_cl(parr)[2:]\n",
        "    m2=generate_camb_cl(parr2)[2:]\n",
        "    output=(m1-m2)/(pl[k]*(2*eps))\n",
        "    return output"
      ],
      "outputs": [],
      "execution_count": 9,
      "metadata": {
        "jupyter": {
          "source_hidden": false,
          "outputs_hidden": false
        },
        "nteract": {
          "transient": {
            "deleting": false
          }
        },
        "gather": {
          "logged": 1706130897281
        }
      }
    },
    {
      "cell_type": "code",
      "source": [
        "ders=[finiteD(i) for i in range(7)]"
      ],
      "outputs": [],
      "execution_count": 10,
      "metadata": {
        "jupyter": {
          "source_hidden": false,
          "outputs_hidden": false
        },
        "nteract": {
          "transient": {
            "deleting": false
          }
        },
        "gather": {
          "logged": 1706130917141
        }
      }
    },
    {
      "cell_type": "code",
      "source": [
        "F=np.zeros((7,7))\n",
        "for i in range(7):\n",
        "    for j in range(7):\n",
        "        d1=ders[i]\n",
        "        if i != j: \n",
        "            d2=ders[j]\n",
        "        else: \n",
        "            d2=d1\n",
        "        term1=np.dot(d1,np.matmul(icovmat,d2))\n",
        "        F[i,j]=term1"
      ],
      "outputs": [],
      "execution_count": 11,
      "metadata": {
        "jupyter": {
          "source_hidden": false,
          "outputs_hidden": false
        },
        "nteract": {
          "transient": {
            "deleting": false
          }
        },
        "gather": {
          "logged": 1706130928740
        }
      }
    },
    {
      "cell_type": "code",
      "source": [
        "Finv=np.linalg.inv(F)"
      ],
      "outputs": [],
      "execution_count": 12,
      "metadata": {
        "jupyter": {
          "source_hidden": false,
          "outputs_hidden": false
        },
        "nteract": {
          "transient": {
            "deleting": false
          }
        },
        "gather": {
          "logged": 1706130930238
        }
      }
    },
    {
      "cell_type": "code",
      "source": [
        "def lnL(test, fid, cov_matrix = covmat):\n",
        "    d_minus_mu = test - fid\n",
        "    d_minus_mu_vector = [[i] for i in d_minus_mu ]\n",
        "    e_factor = -0.5*np.matmul(np.transpose(d_minus_mu_vector), np.matmul(np.linalg.inv(cov_matrix), d_minus_mu_vector))\n",
        "    factor = (np.sqrt(2*np.pi*np.linalg.norm(cov_matrix)))\n",
        "    return e_factor - np.log(factor)"
      ],
      "outputs": [],
      "execution_count": 13,
      "metadata": {
        "jupyter": {
          "source_hidden": false,
          "outputs_hidden": false
        },
        "nteract": {
          "transient": {
            "deleting": false
          }
        },
        "gather": {
          "logged": 1706130931694
        }
      }
    },
    {
      "cell_type": "code",
      "source": [
        "def finiteD2LNL(k, eps=1e-2):\n",
        "    parr=list(pl)\n",
        "    parr[k]=pl[k]*(1+eps)\n",
        "    parr2=list(pl)\n",
        "    parr2[k]=pl[k]*(1-eps)\n",
        "    m1=generate_camb_cl(parr)[2:]\n",
        "    m2=generate_camb_cl(parr2)[2:]\n",
        "    m0=generate_camb_cl(pl)[2:]\n",
        "    return (lnL(m0,m1)+lnL(m0,m2)-2*lnL(m0,m0))/(pl[k]*eps)**2"
      ],
      "outputs": [],
      "execution_count": 14,
      "metadata": {
        "jupyter": {
          "source_hidden": false,
          "outputs_hidden": false
        },
        "nteract": {
          "transient": {
            "deleting": false
          }
        },
        "gather": {
          "logged": 1706130933209
        }
      }
    },
    {
      "cell_type": "code",
      "source": [
        "f00=finiteD2LNL(0)"
      ],
      "outputs": [],
      "execution_count": 15,
      "metadata": {
        "jupyter": {
          "source_hidden": false,
          "outputs_hidden": false
        },
        "nteract": {
          "transient": {
            "deleting": false
          }
        },
        "gather": {
          "logged": 1706130939143
        }
      }
    },
    {
      "cell_type": "code",
      "source": [
        "print(-F[0][0]/f00)"
      ],
      "outputs": [
        {
          "output_type": "stream",
          "name": "stdout",
          "text": "[[0.99954414]]\n"
        }
      ],
      "execution_count": 16,
      "metadata": {
        "jupyter": {
          "source_hidden": false,
          "outputs_hidden": false
        },
        "nteract": {
          "transient": {
            "deleting": false
          }
        },
        "gather": {
          "logged": 1706130967571
        }
      }
    },
    {
      "cell_type": "code",
      "source": [
        "sigss=[]\n",
        "for i in range(7): sigss.append(np.sqrt(Finv[i,i]));"
      ],
      "outputs": [],
      "execution_count": 17,
      "metadata": {
        "jupyter": {
          "source_hidden": false,
          "outputs_hidden": false
        },
        "nteract": {
          "transient": {
            "deleting": false
          }
        },
        "gather": {
          "logged": 1706130969027
        }
      }
    },
    {
      "cell_type": "code",
      "source": [
        "print (sigss)"
      ],
      "outputs": [
        {
          "output_type": "stream",
          "name": "stdout",
          "text": "[5.062667787957302, 9.223586360269198e-05, 0.0015434405569155487, 0.559832961330527, 0.0697485745370793, 0.1355332523130084, 0.0036735556092760734]\n"
        }
      ],
      "execution_count": 18,
      "metadata": {
        "jupyter": {
          "source_hidden": false,
          "outputs_hidden": false
        },
        "nteract": {
          "transient": {
            "deleting": false
          }
        },
        "gather": {
          "logged": 1706130970209
        }
      }
    },
    {
      "cell_type": "code",
      "source": [
        "sigss = [5.062667787957302, \n",
        "         9.223586360269198e-05, \n",
        "         0.0015434405569155487, \n",
        "         0.559832961330527, \n",
        "         0.0697485745370793, \n",
        "         0.1355332523130084, \n",
        "         0.0036735556092760734]"
      ],
      "outputs": [],
      "execution_count": 19,
      "metadata": {
        "jupyter": {
          "source_hidden": false,
          "outputs_hidden": false
        },
        "nteract": {
          "transient": {
            "deleting": false
          }
        },
        "gather": {
          "logged": 1706130972213
        }
      }
    },
    {
      "cell_type": "code",
      "source": [
        "def uv(u):\n",
        "    offsets=np.array(pl)\n",
        "    scales=np.array([5*sigss[i] for i in range(len(pl))])\n",
        "    return 2*(u-0.5)*scales+offsets"
      ],
      "outputs": [],
      "execution_count": 20,
      "metadata": {
        "jupyter": {
          "source_hidden": false,
          "outputs_hidden": false
        },
        "nteract": {
          "transient": {
            "deleting": false
          }
        },
        "gather": {
          "logged": 1706130973329
        }
      }
    },
    {
      "cell_type": "code",
      "source": [
        "print(uv(np.ones(7)))\n",
        "print(uv(np.zeros(7)))"
      ],
      "outputs": [
        {
          "output_type": "stream",
          "name": "stdout",
          "text": "[9.28133389e+01 2.24611793e-02 1.29717203e-01 2.85916481e+00\n 4.08742873e-01 3.72766626e+00 9.83367778e-01]\n[ 4.21866611e+01  2.15388207e-02  1.14282797e-01 -2.73916481e+00\n -2.88742873e-01  2.37233374e+00  9.46632222e-01]\n"
        }
      ],
      "execution_count": 21,
      "metadata": {
        "jupyter": {
          "source_hidden": false,
          "outputs_hidden": false
        },
        "nteract": {
          "transient": {
            "deleting": false
          }
        },
        "gather": {
          "logged": 1706130974389
        }
      }
    },
    {
      "cell_type": "code",
      "source": [
        "par_min = [4.21866611e+01 , 2.15388207e-02,  1.14282797e-01, -2.73916481e+00,\n",
        "           -2.88742873e-01 , 2.37233374e+00 , 9.46632222e-01]\n",
        "par_max = [9.28133389e+01 ,2.24611793e-02 ,1.29717203e-01, 2.85916481e+00,\n",
        "           4.08742873e-01, 3.72766626e+00, 9.83367778e-01]"
      ],
      "outputs": [],
      "execution_count": 22,
      "metadata": {
        "jupyter": {
          "source_hidden": false,
          "outputs_hidden": false
        },
        "nteract": {
          "transient": {
            "deleting": false
          }
        },
        "gather": {
          "logged": 1706130976274
        }
      }
    },
    {
      "cell_type": "code",
      "source": [
        "# Generate random numbers\n",
        "random_params = np.random.uniform(par_min, par_max)\n",
        "\n",
        "print(random_params)\n"
      ],
      "outputs": [
        {
          "output_type": "stream",
          "name": "stdout",
          "text": "[ 8.54748233e+01  2.16169632e-02  1.27216947e-01 -9.50687983e-01\n -2.76822054e-01  2.42923417e+00  9.65132545e-01]\n"
        }
      ],
      "execution_count": 23,
      "metadata": {
        "jupyter": {
          "source_hidden": false,
          "outputs_hidden": false
        },
        "nteract": {
          "transient": {
            "deleting": false
          }
        },
        "gather": {
          "logged": 1706130978458
        }
      }
    },
    {
      "cell_type": "code",
      "source": [
        "sim=swyft.Simulator(generate_camb_cl, sim_shapes={'TT': [2495]}, pnames = ['H0' , 'ombh2', 'omch2', \n",
        "                                                                           'mnu', 'tau', 'logA', 'ns'])"
      ],
      "outputs": [
        {
          "output_type": "error",
          "ename": "AttributeError",
          "evalue": "module 'swyft' has no attribute 'Simulator'",
          "traceback": [
            "\u001b[0;31m---------------------------------------------------------------------------\u001b[0m",
            "\u001b[0;31mAttributeError\u001b[0m                            Traceback (most recent call last)",
            "Cell \u001b[0;32mIn[33], line 1\u001b[0m\n\u001b[0;32m----> 1\u001b[0m sim\u001b[38;5;241m=\u001b[39m\u001b[43mswyft\u001b[49m\u001b[38;5;241;43m.\u001b[39;49m\u001b[43mSimulator\u001b[49m(generate_camb_cl, sim_shapes\u001b[38;5;241m=\u001b[39m{\u001b[38;5;124m'\u001b[39m\u001b[38;5;124mTT\u001b[39m\u001b[38;5;124m'\u001b[39m: [\u001b[38;5;241m2495\u001b[39m]}, pnames \u001b[38;5;241m=\u001b[39m [\u001b[38;5;124m'\u001b[39m\u001b[38;5;124mH0\u001b[39m\u001b[38;5;124m'\u001b[39m , \u001b[38;5;124m'\u001b[39m\u001b[38;5;124mombh2\u001b[39m\u001b[38;5;124m'\u001b[39m, \u001b[38;5;124m'\u001b[39m\u001b[38;5;124momch2\u001b[39m\u001b[38;5;124m'\u001b[39m, \n\u001b[1;32m      2\u001b[0m                                                                            \u001b[38;5;124m'\u001b[39m\u001b[38;5;124mmnu\u001b[39m\u001b[38;5;124m'\u001b[39m, \u001b[38;5;124m'\u001b[39m\u001b[38;5;124mtau\u001b[39m\u001b[38;5;124m'\u001b[39m, \u001b[38;5;124m'\u001b[39m\u001b[38;5;124mlogA\u001b[39m\u001b[38;5;124m'\u001b[39m, \u001b[38;5;124m'\u001b[39m\u001b[38;5;124mns\u001b[39m\u001b[38;5;124m'\u001b[39m])\n",
            "\u001b[0;31mAttributeError\u001b[0m: module 'swyft' has no attribute 'Simulator'"
          ]
        }
      ],
      "execution_count": 33,
      "metadata": {
        "jupyter": {
          "source_hidden": false,
          "outputs_hidden": false
        },
        "nteract": {
          "transient": {
            "deleting": false
          }
        },
        "gather": {
          "logged": 1706131251322
        }
      }
    },
    {
      "cell_type": "code",
      "source": [
        "store=swyft.DirectoryStore(path='demo-store.zarr', \n",
        "                           simulator=sim)"
      ],
      "outputs": [
        {
          "output_type": "stream",
          "name": "stdout",
          "text": "Creating new store.\n"
        }
      ],
      "execution_count": 31,
      "metadata": {
        "jupyter": {
          "source_hidden": false,
          "outputs_hidden": false
        },
        "nteract": {
          "transient": {
            "deleting": false
          }
        },
        "gather": {
          "logged": 1706129946557
        }
      }
    },
    {
      "cell_type": "code",
      "source": [
        "from swyft.networks import OnlineNormalizationLayer\n",
        "class HeadLinear(swyft.Module):\n",
        "    def __init__(self, obs_shapes):\n",
        "        super().__init__(obs_shapes=obs_shapes)\n",
        "\n",
        "        self.n_features = 10\n",
        "        self.l = torch.nn.Linear(2495, 10)\n",
        "        self.onl_f = OnlineNormalizationLayer(torch.Size([2495]))\n",
        "\n",
        "    def forward(self, obs):\n",
        "        x = torch.tensor(obs)\n",
        "        x=self.onl_f(x)\n",
        "        x = self.l(x)\n",
        "        \n",
        "        return x"
      ],
      "outputs": [],
      "execution_count": 33,
      "metadata": {
        "jupyter": {
          "source_hidden": false,
          "outputs_hidden": false
        },
        "nteract": {
          "transient": {
            "deleting": false
          }
        },
        "gather": {
          "logged": 1706130031348
        }
      }
    },
    {
      "cell_type": "code",
      "source": [
        "partitions=[i for i in range(len(pl))]"
      ],
      "outputs": [],
      "execution_count": 34,
      "metadata": {
        "jupyter": {
          "source_hidden": false,
          "outputs_hidden": false
        },
        "nteract": {
          "transient": {
            "deleting": false
          }
        },
        "gather": {
          "logged": 1706130044807
        }
      }
    },
    {
      "cell_type": "code",
      "source": [
        "task = swyft.Task(5000, prior, store, simhook = noise, bound=None)"
      ],
      "outputs": [
        {
          "output_type": "error",
          "ename": "AttributeError",
          "evalue": "module 'swyft' has no attribute 'Task'",
          "traceback": [
            "\u001b[0;31m---------------------------------------------------------------------------\u001b[0m",
            "\u001b[0;31mAttributeError\u001b[0m                            Traceback (most recent call last)",
            "Cell \u001b[0;32mIn[38], line 1\u001b[0m\n\u001b[0;32m----> 1\u001b[0m task \u001b[38;5;241m=\u001b[39m \u001b[43mswyft\u001b[49m\u001b[38;5;241;43m.\u001b[39;49m\u001b[43mTask\u001b[49m(\u001b[38;5;241m5000\u001b[39m, prior, store, simhook \u001b[38;5;241m=\u001b[39m noise, bound\u001b[38;5;241m=\u001b[39m\u001b[38;5;28;01mNone\u001b[39;00m)\n",
            "\u001b[0;31mAttributeError\u001b[0m: module 'swyft' has no attribute 'Task'"
          ]
        }
      ],
      "execution_count": 38,
      "metadata": {
        "jupyter": {
          "source_hidden": false,
          "outputs_hidden": false
        },
        "nteract": {
          "transient": {
            "deleting": false
          }
        },
        "gather": {
          "logged": 1706130759785
        }
      }
    },
    {
      "cell_type": "code",
      "source": [],
      "outputs": [],
      "execution_count": null,
      "metadata": {
        "jupyter": {
          "source_hidden": false,
          "outputs_hidden": false
        },
        "nteract": {
          "transient": {
            "deleting": false
          }
        }
      }
    },
    {
      "cell_type": "markdown",
      "source": [
        "**BELOW IS FOR NEW VERSION OF SWYFT**"
      ],
      "metadata": {
        "nteract": {
          "transient": {
            "deleting": false
          }
        }
      }
    },
    {
      "cell_type": "code",
      "source": [
        "obs_test = sim.sample(conditions = {'z': pl})\n",
        "print(len(obs_test['x']))"
      ],
      "outputs": [
        {
          "output_type": "stream",
          "name": "stdout",
          "text": "2495\n"
        }
      ],
      "execution_count": 105,
      "metadata": {
        "jupyter": {
          "source_hidden": false,
          "outputs_hidden": false
        },
        "nteract": {
          "transient": {
            "deleting": false
          }
        },
        "gather": {
          "logged": 1706128773173
        }
      }
    },
    {
      "cell_type": "code",
      "source": [
        "from swyft.networks import OnlineStandardizingLayer\n",
        "class HeadLinear(swyft.SwyftModule):\n",
        "    def __init__(self, obs_shapes):\n",
        "        super().__init__(obs_shapes=obs_shapes)\n",
        "\n",
        "        self.n_features = 10\n",
        "        self.l = torch.nn.Linear(2495, 10)\n",
        "        self.onl_f = OnlineStandardizingLayer(torch.Size([2495]))\n",
        "\n",
        "    def forward(self, obs):\n",
        "        x = torch.tensor(obs)\n",
        "        x=self.onl_f(x)\n",
        "        x = self.l(x)\n",
        "        \n",
        "        return x\n"
      ],
      "outputs": [],
      "execution_count": 108,
      "metadata": {
        "jupyter": {
          "source_hidden": false,
          "outputs_hidden": false
        },
        "nteract": {
          "transient": {
            "deleting": false
          }
        },
        "gather": {
          "logged": 1706129030185
        }
      }
    },
    {
      "cell_type": "code",
      "source": [
        "partitions=[i for i in range(len(pl))]"
      ],
      "outputs": [],
      "execution_count": 109,
      "metadata": {
        "jupyter": {
          "source_hidden": false,
          "outputs_hidden": false
        },
        "nteract": {
          "transient": {
            "deleting": false
          }
        },
        "gather": {
          "logged": 1706129044076
        }
      }
    },
    {
      "cell_type": "code",
      "source": [],
      "outputs": [
        {
          "output_type": "error",
          "ename": "AttributeError",
          "evalue": "module 'swyft' has no attribute 'SwyftTask'",
          "traceback": [
            "\u001b[0;31m---------------------------------------------------------------------------\u001b[0m",
            "\u001b[0;31mAttributeError\u001b[0m                            Traceback (most recent call last)",
            "Cell \u001b[0;32mIn[111], line 1\u001b[0m\n\u001b[0;32m----> 1\u001b[0m task \u001b[38;5;241m=\u001b[39m \u001b[43mswyft\u001b[49m\u001b[38;5;241;43m.\u001b[39;49m\u001b[43mSwyftTask\u001b[49m(\u001b[38;5;241m5000\u001b[39m, prior, store, simhook \u001b[38;5;241m=\u001b[39m noise, bound\u001b[38;5;241m=\u001b[39m\u001b[38;5;28;01mNone\u001b[39;00m)\n",
            "\u001b[0;31mAttributeError\u001b[0m: module 'swyft' has no attribute 'SwyftTask'"
          ]
        }
      ],
      "execution_count": 111,
      "metadata": {
        "jupyter": {
          "source_hidden": false,
          "outputs_hidden": false
        },
        "nteract": {
          "transient": {
            "deleting": false
          }
        },
        "gather": {
          "logged": 1706129062267
        }
      }
    },
    {
      "cell_type": "code",
      "source": [],
      "outputs": [],
      "execution_count": null,
      "metadata": {
        "jupyter": {
          "source_hidden": false,
          "outputs_hidden": false
        },
        "nteract": {
          "transient": {
            "deleting": false
          }
        }
      }
    }
  ],
  "metadata": {
    "kernelspec": {
      "name": "python38-azureml",
      "language": "python",
      "display_name": "Python 3.8 - AzureML"
    },
    "language_info": {
      "name": "python",
      "version": "3.8.5",
      "mimetype": "text/x-python",
      "codemirror_mode": {
        "name": "ipython",
        "version": 3
      },
      "pygments_lexer": "ipython3",
      "nbconvert_exporter": "python",
      "file_extension": ".py"
    },
    "microsoft": {
      "ms_spell_check": {
        "ms_spell_check_language": "en"
      },
      "host": {
        "AzureML": {
          "notebookHasBeenCompleted": true
        }
      }
    },
    "kernel_info": {
      "name": "python38-azureml"
    },
    "nteract": {
      "version": "nteract-front-end@1.0.0"
    }
  },
  "nbformat": 4,
  "nbformat_minor": 2
}