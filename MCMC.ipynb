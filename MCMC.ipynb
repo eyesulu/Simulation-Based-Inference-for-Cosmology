{
  "cells": [
    {
      "cell_type": "code",
      "source": [
        "!pip install camb\n",
        "!pip install healpy\n",
        "!pip install emcee\n",
        "!pip install corner"
      ],
      "outputs": [
        {
          "output_type": "stream",
          "name": "stdout",
          "text": "Requirement already satisfied: camb in /anaconda/envs/azureml_py38/lib/python3.8/site-packages (1.5.4)\nRequirement already satisfied: packaging in /anaconda/envs/azureml_py38/lib/python3.8/site-packages (from camb) (23.0)\nRequirement already satisfied: scipy>=1.0 in /anaconda/envs/azureml_py38/lib/python3.8/site-packages (from camb) (1.5.3)\nRequirement already satisfied: sympy>=1.0 in /anaconda/envs/azureml_py38/lib/python3.8/site-packages (from camb) (1.12)\nRequirement already satisfied: numpy>=1.14.5 in /anaconda/envs/azureml_py38/lib/python3.8/site-packages (from scipy>=1.0->camb) (1.21.6)\nRequirement already satisfied: mpmath>=0.19 in /anaconda/envs/azureml_py38/lib/python3.8/site-packages (from sympy>=1.0->camb) (1.3.0)\nRequirement already satisfied: healpy in /anaconda/envs/azureml_py38/lib/python3.8/site-packages (1.16.5)\nRequirement already satisfied: scipy in /anaconda/envs/azureml_py38/lib/python3.8/site-packages (from healpy) (1.5.3)\nRequirement already satisfied: astropy in /anaconda/envs/azureml_py38/lib/python3.8/site-packages (from healpy) (5.2.2)\nRequirement already satisfied: matplotlib in /anaconda/envs/azureml_py38/lib/python3.8/site-packages (from healpy) (3.2.1)\nRequirement already satisfied: numpy>=1.13 in /anaconda/envs/azureml_py38/lib/python3.8/site-packages (from healpy) (1.21.6)\nRequirement already satisfied: PyYAML>=3.13 in /anaconda/envs/azureml_py38/lib/python3.8/site-packages (from astropy->healpy) (6.0)\nRequirement already satisfied: pyerfa>=2.0 in /anaconda/envs/azureml_py38/lib/python3.8/site-packages (from astropy->healpy) (2.0.0.3)\nRequirement already satisfied: packaging>=19.0 in /anaconda/envs/azureml_py38/lib/python3.8/site-packages (from astropy->healpy) (23.0)\nRequirement already satisfied: cycler>=0.10 in /anaconda/envs/azureml_py38/lib/python3.8/site-packages (from matplotlib->healpy) (0.11.0)\nRequirement already satisfied: kiwisolver>=1.0.1 in /anaconda/envs/azureml_py38/lib/python3.8/site-packages (from matplotlib->healpy) (1.4.4)\nRequirement already satisfied: python-dateutil>=2.1 in /anaconda/envs/azureml_py38/lib/python3.8/site-packages (from matplotlib->healpy) (2.8.2)\nRequirement already satisfied: pyparsing!=2.0.4,!=2.1.2,!=2.1.6,>=2.0.1 in /anaconda/envs/azureml_py38/lib/python3.8/site-packages (from matplotlib->healpy) (3.1.0)\nRequirement already satisfied: six>=1.5 in /anaconda/envs/azureml_py38/lib/python3.8/site-packages (from python-dateutil>=2.1->matplotlib->healpy) (1.16.0)\nRequirement already satisfied: emcee in /anaconda/envs/azureml_py38/lib/python3.8/site-packages (3.1.4)\nRequirement already satisfied: numpy in /anaconda/envs/azureml_py38/lib/python3.8/site-packages (from emcee) (1.21.6)\nRequirement already satisfied: corner in /anaconda/envs/azureml_py38/lib/python3.8/site-packages (2.2.1)\nRequirement already satisfied: matplotlib>=2.1 in /anaconda/envs/azureml_py38/lib/python3.8/site-packages (from corner) (3.2.1)\nRequirement already satisfied: numpy>=1.11 in /anaconda/envs/azureml_py38/lib/python3.8/site-packages (from matplotlib>=2.1->corner) (1.21.6)\nRequirement already satisfied: pyparsing!=2.0.4,!=2.1.2,!=2.1.6,>=2.0.1 in /anaconda/envs/azureml_py38/lib/python3.8/site-packages (from matplotlib>=2.1->corner) (3.1.0)\nRequirement already satisfied: python-dateutil>=2.1 in /anaconda/envs/azureml_py38/lib/python3.8/site-packages (from matplotlib>=2.1->corner) (2.8.2)\nRequirement already satisfied: cycler>=0.10 in /anaconda/envs/azureml_py38/lib/python3.8/site-packages (from matplotlib>=2.1->corner) (0.11.0)\nRequirement already satisfied: kiwisolver>=1.0.1 in /anaconda/envs/azureml_py38/lib/python3.8/site-packages (from matplotlib>=2.1->corner) (1.4.4)\nRequirement already satisfied: six>=1.5 in /anaconda/envs/azureml_py38/lib/python3.8/site-packages (from python-dateutil>=2.1->matplotlib>=2.1->corner) (1.16.0)\n"
        }
      ],
      "execution_count": 1,
      "metadata": {}
    },
    {
      "cell_type": "code",
      "source": [
        "import matplotlib.pyplot as plt\n",
        "import numpy as np\n",
        "from tqdm import tqdm\n",
        "import camb\n",
        "import healpy as hp\n",
        "import emcee\n",
        "import pickle\n",
        "import corner"
      ],
      "outputs": [],
      "execution_count": 2,
      "metadata": {
        "jupyter": {
          "source_hidden": false,
          "outputs_hidden": false
        },
        "nteract": {
          "transient": {
            "deleting": false
          }
        },
        "gather": {
          "logged": 1706461194793
        }
      }
    },
    {
      "cell_type": "code",
      "source": [
        "def sim(v = [67.5 , 0.022, 0.122, 0.06,  0.06, 3.05, 0.965]):\n",
        "    \"\"\" Generate a temperature power spectrum given cosmological parameters\"\"\"\n",
        "    \"\"\" v = [H0, ombh2, omch2, mnu, tau, logA, ns]  \"\"\"\n",
        "    V=v\n",
        "    H0 , ombh2, omch2, mnu, tau, logA, ns = V[0], V[1], V[2], V[3], V[4], V[5], V[6]\n",
        "    As = 1e-10 * np.exp(logA)\n",
        "    pars = camb.CAMBparams()\n",
        "    try:\n",
        "        pars.set_cosmology( H0 = H0, ombh2=ombh2, omch2=omch2, mnu=mnu, omk=0, tau=tau)\n",
        "        pars.InitPower.set_params(As=As, ns=ns, r=0)\n",
        "        pars.set_for_lmax(2500, lens_potential_accuracy=0);\n",
        "        pars.NonLinear = camb.model.NonLinear_none\n",
        "        results = camb.get_results(pars)\n",
        "        powers = results.get_cmb_power_spectra(pars, CMB_unit='muK')\n",
        "        totCL = powers['total'][:, 0]\n",
        "        nside = 1024\n",
        "        cmb_map = hp.sphtfunc.synfast(totCL, nside=nside)\n",
        "        cl = hp.sphtfunc.anafast(cmb_map)\n",
        "        return totCL[30:2499], cl[30:2499]\n",
        "    except:\n",
        "        print('Failed simulation')\n",
        "        return None\n"
      ],
      "outputs": [],
      "execution_count": 3,
      "metadata": {
        "jupyter": {
          "source_hidden": false,
          "outputs_hidden": false
        },
        "nteract": {
          "transient": {
            "deleting": false
          }
        },
        "gather": {
          "logged": 1706461198121
        }
      }
    },
    {
      "cell_type": "code",
      "source": [
        "fiducial_v = [67.5 , 0.022, 0.122, 0.06,  0.06, 3.05, 0.965]\n",
        "observed_v = [69 , 0.025, 0.11, 0.064,  0.054, 3.01, 0.94]\n",
        "\n",
        "fid_cl, fid_cl_hat = sim(fiducial_v)\n",
        "obs_cl, obs_cl_hat = sim(observed_v)\n",
        "ells = np.arange(0, 2500)[30:2499]"
      ],
      "outputs": [],
      "execution_count": 4,
      "metadata": {
        "jupyter": {
          "source_hidden": false,
          "outputs_hidden": false
        },
        "nteract": {
          "transient": {
            "deleting": false
          }
        },
        "gather": {
          "logged": 1706461243238
        }
      }
    },
    {
      "cell_type": "code",
      "source": [
        "plt.plot(ells, fid_cl_hat, color = 'orange', alpha = 0.5, label = r'Fiducial $\\hat{D_l}$')\n",
        "plt.plot(ells, obs_cl_hat, color = 'cyan', alpha = 0.5, label = r'Observed $\\hat{D_l}$')\n",
        "plt.plot(ells, fid_cl, color = 'red', alpha = 1.0, label = r'Fiducial $D_l$')\n",
        "plt.plot(ells, obs_cl, color = 'blue', alpha = 1.0, label = r'Observed $D_l$')\n",
        "plt.xlabel(r'Multipole moment, $l$')\n",
        "plt.ylabel(r'$D_l$ values [$\\mu K$]')\n",
        "plt.title('TT Power Spectrum')\n",
        "plt.legend()\n",
        "plt.grid()"
      ],
      "outputs": [
        {
          "output_type": "display_data",
          "data": {
            "text/plain": "<Figure size 640x480 with 1 Axes>",
            "image/png": "[encoded data removed]"
          },
          "metadata": {}
        }
      ],
      "execution_count": 5,
      "metadata": {
        "jupyter": {
          "source_hidden": false,
          "outputs_hidden": false
        },
        "nteract": {
          "transient": {
            "deleting": false
          }
        },
        "gather": {
          "logged": 1706461249320
        }
      }
    },
    {
      "cell_type": "code",
      "source": [
        "def calc_cov_theory(cl, ls):\n",
        "    '''\n",
        "    A function that calculates the covariance matrix\n",
        "    Assumes that Cls are given for 30<l<2500\n",
        "    \n",
        "    Parameters\n",
        "    ----------\n",
        "    cl: ndarray or list \n",
        "        1D array or list of Cls \n",
        "        \n",
        "    Returns\n",
        "    -------\n",
        "    A covariance matrix (NxN)\n",
        "    '''\n",
        "    return (np.diag(2 / (2 * ls + 1)  * cl**2))\n",
        "\n",
        "def log_likelihood(observed_cl_hats, fiducial_cl_hats, cov_matrix):\n",
        "    d_minus_mu = observed_cl_hats - fiducial_cl_hats\n",
        "    d_minus_mu_vector = [[i] for i in d_minus_mu ]\n",
        "    e_factor = -0.5*np.matmul(np.transpose(d_minus_mu_vector), np.matmul(np.linalg.inv(cov_matrix), d_minus_mu_vector))\n",
        "    factor = (np.sqrt(2*np.pi*np.linalg.norm(cov_matrix)))\n",
        "    return e_factor - np.log(factor)\n",
        "\n",
        "def lnL(v):\n",
        "    sim_cl, sim_cl_hat = sim(v)\n",
        "    ells = np.arange(1, 2500)[30:2499]\n",
        "    cov = calc_cov_theory(sim_cl, ells)\n",
        "    return log_likelihood(sim_cl_hat, fid_cl, cov)\n",
        "\n",
        "def log_prior(v):\n",
        "    V=v\n",
        "    H0 , ombh2, omch2, mnu, tau, logA, ns = V[0], V[1], V[2], V[3], V[4], V[5], V[6]\n",
        "    if 50 < H0 < 90 and 0.01 < ombh2 < 0.05 and 0.01 < omch2 < 0.5 and 0.04 < mnu < 0.08 and 0.02 < tau < 0.9 and 1.5 < logA < 3.5 and 0.8 < ns < 1.0:\n",
        "        return 0.0\n",
        "    return -np.inf\n",
        "\n",
        "def wrapper(theta):\n",
        "    lp = log_prior(theta)\n",
        "    if not np.isfinite(lp):\n",
        "        return -np.inf\n",
        "    return lp + lnL(theta)"
      ],
      "outputs": [],
      "execution_count": 6,
      "metadata": {
        "jupyter": {
          "source_hidden": false,
          "outputs_hidden": false
        },
        "nteract": {
          "transient": {
            "deleting": false
          }
        },
        "gather": {
          "logged": 1706461253389
        }
      }
    },
    {
      "cell_type": "code",
      "source": [
        "nwalkers, ndim = 20, 7\n",
        "p0 = [50 , 0.01, 0.01, 0.04,  0.02, 1.5, 0.8] + 1e-4 * np.random.randn(nwalkers, ndim)"
      ],
      "outputs": [],
      "execution_count": 7,
      "metadata": {
        "jupyter": {
          "source_hidden": false,
          "outputs_hidden": false
        },
        "nteract": {
          "transient": {
            "deleting": false
          }
        },
        "gather": {
          "logged": 1706461256183
        }
      }
    },
    {
      "cell_type": "code",
      "source": [
        "sampler = emcee.EnsembleSampler(nwalkers, ndim, wrapper)"
      ],
      "outputs": [],
      "execution_count": 8,
      "metadata": {
        "jupyter": {
          "source_hidden": false,
          "outputs_hidden": false
        },
        "nteract": {
          "transient": {
            "deleting": false
          }
        },
        "gather": {
          "logged": 1706461260454
        }
      }
    },
    {
      "cell_type": "code",
      "source": [
        "sampler.run_mcmc(p0, 4000, progress=True)\n",
        "samples = sampler.get_chain(flat=True)"
      ],
      "outputs": [
        {
          "output_type": "stream",
          "name": "stderr",
          "text": "  0%|          | 0/4000 [00:00<?, ?it/s]/anaconda/envs/azureml_py38/lib/python3.8/site-packages/emcee/moves/red_blue.py:99: RuntimeWarning: invalid value encountered in double_scalars\n  lnpdiff = f + nlp - state.log_prob[j]\n  3%|▎         | 131/4000 [12:42<9:30:02,  8.84s/it]"
        }
      ],
      "execution_count": 12,
      "metadata": {
        "jupyter": {
          "source_hidden": false,
          "outputs_hidden": false
        },
        "nteract": {
          "transient": {
            "deleting": false
          }
        },
        "gather": {
          "logged": 1706471018192
        }
      }
    },
    {
      "cell_type": "code",
      "source": [
        "with open('mcmc_4000.pkl', 'wb') as f:\n",
        "    pickle.dump(samples, f)"
      ],
      "outputs": [],
      "execution_count": null,
      "metadata": {
        "jupyter": {
          "source_hidden": false,
          "outputs_hidden": false
        },
        "nteract": {
          "transient": {
            "deleting": false
          }
        },
        "gather": {
          "logged": 1706471018386
        }
      }
    },
    {
      "cell_type": "code",
      "source": [],
      "outputs": [],
      "execution_count": null,
      "metadata": {
        "jupyter": {
          "source_hidden": false,
          "outputs_hidden": false
        },
        "nteract": {
          "transient": {
            "deleting": false
          }
        },
        "gather": {
          "logged": 1706293390493
        }
      }
    },
    {
      "cell_type": "code",
      "source": [
        "fig = corner.corner(samples, smooth = 4.0, labels=[\"H0\", \"ombh2\", \"omch2\", \"mnu\", \"tau\", \"logA\", \"ns\"],\n",
        "                    truths=observed_v)  \n",
        "plt.show()\n",
        "print(samples.shape[0])"
      ],
      "outputs": [],
      "execution_count": null,
      "metadata": {
        "jupyter": {
          "source_hidden": false,
          "outputs_hidden": false
        },
        "nteract": {
          "transient": {
            "deleting": false
          }
        },
        "gather": {
          "logged": 1706471022495
        }
      }
    },
    {
      "cell_type": "code",
      "source": [
        "!pip install cosmoHammer\n",
        "!wget https://github.com/cosmo-ethz/CosmoHammerPlugins/blob/master/wmap9Wrapper/get_wmap.sh"
      ],
      "outputs": [
        {
          "output_type": "stream",
          "name": "stdout",
          "text": "Requirement already satisfied: cosmoHammer in /anaconda/envs/azureml_py38/lib/python3.8/site-packages (0.6.1)\nRequirement already satisfied: numpy in /anaconda/envs/azureml_py38/lib/python3.8/site-packages (from cosmoHammer) (1.21.6)\nRequirement already satisfied: emcee in /anaconda/envs/azureml_py38/lib/python3.8/site-packages (from cosmoHammer) (3.1.4)\n--2024-01-26 18:51:11--  https://github.com/cosmo-ethz/CosmoHammerPlugins/blob/master/wmap9Wrapper/get_wmap.sh\nResolving github.com (github.com)... 140.82.121.3\nConnecting to github.com (github.com)|140.82.121.3|:443... connected.\nHTTP request sent, awaiting response... 200 OK\nLength: 7676 (7.5K) [text/plain]\nSaving to: ‘get_wmap.sh’\n\nget_wmap.sh         100%[===================>]   7.50K  --.-KB/s    in 0.007s  \n\n2024-01-26 18:51:12 (1014 KB/s) - ‘get_wmap.sh’ saved [7676/7676]\n\n"
        }
      ],
      "execution_count": 45,
      "metadata": {
        "jupyter": {
          "source_hidden": false,
          "outputs_hidden": false
        },
        "nteract": {
          "transient": {
            "deleting": false
          }
        }
      }
    },
    {
      "cell_type": "code",
      "source": [
        "!sudo apt-get install gfortran\n"
      ],
      "outputs": [
        {
          "output_type": "stream",
          "name": "stdout",
          "text": "Reading package lists... Done\nBuilding dependency tree       \nReading state information... Done\ngfortran is already the newest version (4:9.3.0-1ubuntu2).\n0 upgraded, 0 newly installed, 0 to remove and 89 not upgraded.\n"
        }
      ],
      "execution_count": 47,
      "metadata": {
        "jupyter": {
          "source_hidden": false,
          "outputs_hidden": false
        },
        "nteract": {
          "transient": {
            "deleting": false
          }
        }
      }
    },
    {
      "cell_type": "code",
      "source": [
        "!git clone https://github.com/cosmo-ethz/CosmoHammerPlugins.git"
      ],
      "outputs": [
        {
          "output_type": "stream",
          "name": "stdout",
          "text": "Cloning into 'CosmoHammerPlugins'...\nremote: Enumerating objects: 286, done.\u001b[K\nremote: Total 286 (delta 0), reused 0 (delta 0), pack-reused 286\u001b[K\nReceiving objects: 100% (286/286), 361.17 KiB | 926.00 KiB/s, done.\nResolving deltas: 100% (121/121), done.\nUpdating files: 100% (222/222), done.\n"
        }
      ],
      "execution_count": 51,
      "metadata": {
        "jupyter": {
          "source_hidden": false,
          "outputs_hidden": false
        },
        "nteract": {
          "transient": {
            "deleting": false
          }
        }
      }
    },
    {
      "cell_type": "code",
      "source": [
        "%cd CosmoHammerPlugins\n"
      ],
      "outputs": [
        {
          "output_type": "stream",
          "name": "stdout",
          "text": "/mnt/batch/tasks/shared/LS_root/mounts/clusters/ab34201/code/Users/ab3420/CosmoHammerPlugins\n"
        }
      ],
      "execution_count": 55,
      "metadata": {
        "jupyter": {
          "source_hidden": false,
          "outputs_hidden": false
        },
        "nteract": {
          "transient": {
            "deleting": false
          }
        }
      }
    },
    {
      "cell_type": "code",
      "source": [
        "%cd .."
      ],
      "outputs": [
        {
          "output_type": "stream",
          "name": "stdout",
          "text": "/mnt/batch/tasks/shared/LS_root/mounts/clusters/ab34201/code/Users/ab3420/CosmoHammerPlugins\n"
        }
      ],
      "execution_count": 71,
      "metadata": {
        "jupyter": {
          "source_hidden": false,
          "outputs_hidden": false
        },
        "nteract": {
          "transient": {
            "deleting": false
          }
        }
      }
    },
    {
      "cell_type": "code",
      "source": [
        "\n",
        "!ls\n"
      ],
      "outputs": [
        {
          "output_type": "stream",
          "name": "stdout",
          "text": "README.rst   classWrapper     pycambWrapper  wmap5Wrapper  wmap9Wrapper\r\ncambWrapper  planck13Wrapper  wmap3Wrapper   wmap7Wrapper\r\n"
        }
      ],
      "execution_count": 56,
      "metadata": {
        "jupyter": {
          "source_hidden": false,
          "outputs_hidden": false
        },
        "nteract": {
          "transient": {
            "deleting": false
          }
        },
        "gather": {
          "logged": 1706295555173
        }
      }
    },
    {
      "cell_type": "code",
      "source": [
        "%cd wmap9Wrapper\n"
      ],
      "outputs": [
        {
          "output_type": "stream",
          "name": "stdout",
          "text": "/mnt/batch/tasks/shared/LS_root/mounts/clusters/ab34201/code/Users/ab3420/CosmoHammerPlugins/wmap9Wrapper\n"
        }
      ],
      "execution_count": 72,
      "metadata": {
        "jupyter": {
          "source_hidden": false,
          "outputs_hidden": false
        },
        "nteract": {
          "transient": {
            "deleting": false
          }
        }
      }
    },
    {
      "cell_type": "code",
      "source": [
        "!bash get_wmap.sh\n",
        "!python setup.py build\n",
        "!python setup.py install --user\n"
      ],
      "outputs": [
        {
          "output_type": "stream",
          "name": "stdout",
          "text": "trying do get wmap_likelihood_full_v5.tar.gz from http://lambda.gsfc.nasa.gov/data/map/dr5/dcp/likelihood/\nURL transformed to HTTPS due to an HSTS policy\n--2024-01-26 19:22:39--  https://lambda.gsfc.nasa.gov/data/map/dr5/dcp/likelihood/wmap_likelihood_full_v5.tar.gz\nResolving lambda.gsfc.nasa.gov (lambda.gsfc.nasa.gov)... 129.164.179.68, 2001:4d0:2310:150::68\nConnecting to lambda.gsfc.nasa.gov (lambda.gsfc.nasa.gov)|129.164.179.68|:443... connected.\nHTTP request sent, awaiting response... 200 OK\nLength: 950684664 (907M) [application/x-gzip]\nSaving to: ‘wmap_likelihood_full_v5.tar.gz.1’\n\nwmap_likelihood_ful 100%[===================>] 906.64M  1.61MB/s    in 9m 27s  \n\n2024-01-26 19:32:07 (1.60 MB/s) - ‘wmap_likelihood_full_v5.tar.gz.1’ saved [950684664/950684664]\n\nwmap_likelihood_v5/\nwmap_likelihood_v5/br_mod_dist.f90\nwmap_likelihood_v5/read_fits.fh\nwmap_likelihood_v5/WMAP_9yr_tetbeebbeb_pixlike.F90\nwmap_likelihood_v5/read_fits.f90\nwmap_likelihood_v5/WMAP_9yr_teeebb_pixlike.F90\nwmap_likelihood_v5/WMAP_9yr_tt_beam_ptsrc_chisq.f90\nwmap_likelihood_v5/WMAP_9yr_util.f90\nwmap_likelihood_v5/read_archive_map.fh\nwmap_likelihood_v5/read_archive_map.f90\nwmap_likelihood_v5/WMAP_9yr_likelihood.F90\nwmap_likelihood_v5/WMAP_9yr_gibbs.F90\nwmap_likelihood_v5/healpix_types.f90\nwmap_likelihood_v5/README.txt\nwmap_likelihood_v5/test.stdout\nwmap_likelihood_v5/WMAP_9yr_options.F90\nwmap_likelihood_v5/Makefile\nwmap_likelihood_v5/WMAP_9yr_tt_pixlike.F90\nwmap_likelihood_v5/test.F90\nwmap_likelihood_v5/CHANGES\nwmap_likelihood_v5/data/\nwmap_likelihood_v5/data/healpix_data/\nwmap_likelihood_v5/data/healpix_data/pixel_window_n0008.txt\nwmap_likelihood_v5/data/healpix_data/pixel_window_n0016.txt\nwmap_likelihood_v5/data/highl/\nwmap_likelihood_v5/data/highl/top_ten_modes.beam_covariance_VW_combined.dat\nwmap_likelihood_v5/data/highl/wmap_likelihood_inputs_eb.p5_final.dat\nwmap_likelihood_v5/data/highl/wmap_likelihood_inputs_pol_offdiag.p5_final.dat\nwmap_likelihood_v5/data/highl/wmap_likelihood_inputs_pol.p5_final.dat\nwmap_likelihood_v5/data/highl/wmap_likelihood_inputs_ptsrc.p5_final.dat\nwmap_likelihood_v5/data/highl/wmap_likelihood_inputs_tb.p5_final.dat\nwmap_likelihood_v5/data/highl/wmap_likelihood_inputs_te_offdiag.p5_final.dat\nwmap_likelihood_v5/data/highl/wmap_likelihood_inputs_te.p5_final.dat\nwmap_likelihood_v5/data/highl/wmap_likelihood_inputs_tt_offdiag.p4v4.wmap9.kq85.cinv_v3.dat\nwmap_likelihood_v5/data/highl/wmap_likelihood_inputs_tt.p4v6.wmap9.kq85.cinv_v3.dat\nwmap_likelihood_v5/data/lowlP/\nwmap_likelihood_v5/data/lowlP/alm_tt_fs_r9_ilc_nopixwin_9yr.dat\nwmap_likelihood_v5/data/lowlP/mask_r3_p06_jarosik_4extra.fits\nwmap_likelihood_v5/data/lowlP/std/\nwmap_likelihood_v5/data/lowlP/std/wt_r3_9yr.Ka.map_q\nwmap_likelihood_v5/data/lowlP/std/wt_r3_9yr.Ka.map_u\nwmap_likelihood_v5/data/lowlP/std/wt_r3_9yr.KaQ.map_q\nwmap_likelihood_v5/data/lowlP/std/wt_r3_9yr.KaQ.map_u\nwmap_likelihood_v5/data/lowlP/std/wt_r3_9yr.KaQV.map_q\nwmap_likelihood_v5/data/lowlP/std/wt_r3_9yr.KaQV.map_u\nwmap_likelihood_v5/data/lowlP/std/wt_r3_9yr.KaQVW.map_q\nwmap_likelihood_v5/data/lowlP/std/wt_r3_9yr.KaQVW.map_u\nwmap_likelihood_v5/data/lowlP/std/wt_r3_9yr.KaV.map_q\nwmap_likelihood_v5/data/lowlP/std/wt_r3_9yr.KaV.map_u\nwmap_likelihood_v5/data/lowlP/std/wt_r3_9yr.KaW.map_q\nwmap_likelihood_v5/data/lowlP/std/wt_r3_9yr.KaW.map_u\nwmap_likelihood_v5/data/lowlP/std/wt_r3_9yr.Q.map_q\nwmap_likelihood_v5/data/lowlP/std/wt_r3_9yr.Q.map_u\nwmap_likelihood_v5/data/lowlP/std/wt_r3_9yr.QV.map_q\nwmap_likelihood_v5/data/lowlP/std/wt_r3_9yr.QV.map_u\nwmap_likelihood_v5/data/lowlP/std/wt_r3_9yr.QW.map_q\nwmap_likelihood_v5/data/lowlP/std/wt_r3_9yr.QW.map_u\nwmap_likelihood_v5/data/lowlP/std/wt_r3_9yr.V.map_q\nwmap_likelihood_v5/data/lowlP/std/wt_r3_9yr.V.map_u\nwmap_likelihood_v5/data/lowlP/std/wt_r3_9yr.VW.map_q\nwmap_likelihood_v5/data/lowlP/std/wt_r3_9yr.VW.map_u\nwmap_likelihood_v5/data/lowlP/std/wt_r3_9yr.W.map_q\nwmap_likelihood_v5/data/lowlP/std/wt_r3_9yr.W.map_u\nwmap_likelihood_v5/data/lowlP/std/wt_r3_yr1.Ka1.map_q\nwmap_likelihood_v5/data/lowlP/std/wt_r3_yr1.Ka1.map_u\nwmap_likelihood_v5/data/lowlP/std/wt_r3_yr1.Q1.map_q\nwmap_likelihood_v5/data/lowlP/std/wt_r3_yr1.Q1.map_u\nwmap_likelihood_v5/data/lowlP/std/wt_r3_yr1.Q2.map_q\nwmap_likelihood_v5/data/lowlP/std/wt_r3_yr1.Q2.map_u\nwmap_likelihood_v5/data/lowlP/std/wt_r3_yr1.V1.map_q\nwmap_likelihood_v5/data/lowlP/std/wt_r3_yr1.V1.map_u\nwmap_likelihood_v5/data/lowlP/std/wt_r3_yr1.V2.map_q\nwmap_likelihood_v5/data/lowlP/std/wt_r3_yr1.V2.map_u\nwmap_likelihood_v5/data/lowlP/std/wt_r3_yr1.W1.map_q\nwmap_likelihood_v5/data/lowlP/std/wt_r3_yr1.W1.map_u\nwmap_likelihood_v5/data/lowlP/std/wt_r3_yr1.W2.map_q\nwmap_likelihood_v5/data/lowlP/std/wt_r3_yr1.W2.map_u\nwmap_likelihood_v5/data/lowlP/std/wt_r3_yr1.W3.map_q\nwmap_likelihood_v5/data/lowlP/std/wt_r3_yr1.W3.map_u\nwmap_likelihood_v5/data/lowlP/std/wt_r3_yr1.W4.map_q\nwmap_likelihood_v5/data/lowlP/std/wt_r3_yr1.W4.map_u\nwmap_likelihood_v5/data/lowlP/std/wt_r3_yr2.Ka1.map_q\nwmap_likelihood_v5/data/lowlP/std/wt_r3_yr2.Ka1.map_u\nwmap_likelihood_v5/data/lowlP/std/wt_r3_yr2.Q1.map_q\nwmap_likelihood_v5/data/lowlP/std/wt_r3_yr2.Q1.map_u\nwmap_likelihood_v5/data/lowlP/std/wt_r3_yr2.Q2.map_q\nwmap_likelihood_v5/data/lowlP/std/wt_r3_yr2.Q2.map_u\nwmap_likelihood_v5/data/lowlP/std/wt_r3_yr2.V1.map_q\nwmap_likelihood_v5/data/lowlP/std/wt_r3_yr2.V1.map_u\nwmap_likelihood_v5/data/lowlP/std/wt_r3_yr2.V2.map_q\nwmap_likelihood_v5/data/lowlP/std/wt_r3_yr2.V2.map_u\nwmap_likelihood_v5/data/lowlP/std/wt_r3_yr2.W1.map_q\nwmap_likelihood_v5/data/lowlP/std/wt_r3_yr2.W1.map_u\nwmap_likelihood_v5/data/lowlP/std/wt_r3_yr2.W2.map_q\nwmap_likelihood_v5/data/lowlP/std/wt_r3_yr2.W2.map_u\nwmap_likelihood_v5/data/lowlP/std/wt_r3_yr2.W3.map_q\nwmap_likelihood_v5/data/lowlP/std/wt_r3_yr2.W3.map_u\nwmap_likelihood_v5/data/lowlP/std/wt_r3_yr2.W4.map_q\nwmap_likelihood_v5/data/lowlP/std/wt_r3_yr2.W4.map_u\nwmap_likelihood_v5/data/lowlP/std/wt_r3_yr3.Ka1.map_q\nwmap_likelihood_v5/data/lowlP/std/wt_r3_yr3.Ka1.map_u\nwmap_likelihood_v5/data/lowlP/std/wt_r3_yr3.Q1.map_q\nwmap_likelihood_v5/data/lowlP/std/wt_r3_yr3.Q1.map_u\nwmap_likelihood_v5/data/lowlP/std/wt_r3_yr3.Q2.map_q\nwmap_likelihood_v5/data/lowlP/std/wt_r3_yr3.Q2.map_u\nwmap_likelihood_v5/data/lowlP/std/wt_r3_yr3.V1.map_q\nwmap_likelihood_v5/data/lowlP/std/wt_r3_yr3.V1.map_u\nwmap_likelihood_v5/data/lowlP/std/wt_r3_yr3.V2.map_q\nwmap_likelihood_v5/data/lowlP/std/wt_r3_yr3.V2.map_u\nwmap_likelihood_v5/data/lowlP/std/wt_r3_yr3.W1.map_q\nwmap_likelihood_v5/data/lowlP/std/wt_r3_yr3.W1.map_u\nwmap_likelihood_v5/data/lowlP/std/wt_r3_yr3.W2.map_q\nwmap_likelihood_v5/data/lowlP/std/wt_r3_yr3.W2.map_u\nwmap_likelihood_v5/data/lowlP/std/wt_r3_yr3.W3.map_q\nwmap_likelihood_v5/data/lowlP/std/wt_r3_yr3.W3.map_u\nwmap_likelihood_v5/data/lowlP/std/wt_r3_yr3.W4.map_q\nwmap_likelihood_v5/data/lowlP/std/wt_r3_yr3.W4.map_u\nwmap_likelihood_v5/data/lowlP/std/wt_r3_yr4.Ka1.map_q\nwmap_likelihood_v5/data/lowlP/std/wt_r3_yr4.Ka1.map_u\nwmap_likelihood_v5/data/lowlP/std/wt_r3_yr4.Q1.map_q\nwmap_likelihood_v5/data/lowlP/std/wt_r3_yr4.Q1.map_u\nwmap_likelihood_v5/data/lowlP/std/wt_r3_yr4.Q2.map_q\nwmap_likelihood_v5/data/lowlP/std/wt_r3_yr4.Q2.map_u\nwmap_likelihood_v5/data/lowlP/std/wt_r3_yr4.V1.map_q\nwmap_likelihood_v5/data/lowlP/std/wt_r3_yr4.V1.map_u\nwmap_likelihood_v5/data/lowlP/std/wt_r3_yr4.V2.map_q\nwmap_likelihood_v5/data/lowlP/std/wt_r3_yr4.V2.map_u\nwmap_likelihood_v5/data/lowlP/std/wt_r3_yr4.W1.map_q\nwmap_likelihood_v5/data/lowlP/std/wt_r3_yr4.W1.map_u\nwmap_likelihood_v5/data/lowlP/std/wt_r3_yr4.W2.map_q\nwmap_likelihood_v5/data/lowlP/std/wt_r3_yr4.W2.map_u\nwmap_likelihood_v5/data/lowlP/std/wt_r3_yr4.W3.map_q\nwmap_likelihood_v5/data/lowlP/std/wt_r3_yr4.W3.map_u\nwmap_likelihood_v5/data/lowlP/std/wt_r3_yr4.W4.map_q\nwmap_likelihood_v5/data/lowlP/std/wt_r3_yr4.W4.map_u\nwmap_likelihood_v5/data/lowlP/std/wt_r3_yr5.Ka1.map_q\nwmap_likelihood_v5/data/lowlP/std/wt_r3_yr5.Ka1.map_u\nwmap_likelihood_v5/data/lowlP/std/wt_r3_yr5.Q1.map_q\nwmap_likelihood_v5/data/lowlP/std/wt_r3_yr5.Q1.map_u\nwmap_likelihood_v5/data/lowlP/std/wt_r3_yr5.Q2.map_q\nwmap_likelihood_v5/data/lowlP/std/wt_r3_yr5.Q2.map_u\nwmap_likelihood_v5/data/lowlP/std/wt_r3_yr5.V1.map_q\nwmap_likelihood_v5/data/lowlP/std/wt_r3_yr5.V1.map_u\nwmap_likelihood_v5/data/lowlP/std/wt_r3_yr5.V2.map_q\nwmap_likelihood_v5/data/lowlP/std/wt_r3_yr5.V2.map_u\nwmap_likelihood_v5/data/lowlP/std/wt_r3_yr5.W1.map_q\nwmap_likelihood_v5/data/lowlP/std/wt_r3_yr5.W1.map_u\nwmap_likelihood_v5/data/lowlP/std/wt_r3_yr5.W2.map_q\nwmap_likelihood_v5/data/lowlP/std/wt_r3_yr5.W2.map_u\nwmap_likelihood_v5/data/lowlP/std/wt_r3_yr5.W3.map_q\nwmap_likelihood_v5/data/lowlP/std/wt_r3_yr5.W3.map_u\nwmap_likelihood_v5/data/lowlP/std/wt_r3_yr5.W4.map_q\nwmap_likelihood_v5/data/lowlP/std/wt_r3_yr5.W4.map_u\nwmap_likelihood_v5/data/lowlP/std/wt_r3_yr6.Ka1.map_q\nwmap_likelihood_v5/data/lowlP/std/wt_r3_yr6.Ka1.map_u\nwmap_likelihood_v5/data/lowlP/std/wt_r3_yr6.Q1.map_q\nwmap_likelihood_v5/data/lowlP/std/wt_r3_yr6.Q1.map_u\nwmap_likelihood_v5/data/lowlP/std/wt_r3_yr6.Q2.map_q\nwmap_likelihood_v5/data/lowlP/std/wt_r3_yr6.Q2.map_u\nwmap_likelihood_v5/data/lowlP/std/wt_r3_yr6.V1.map_q\nwmap_likelihood_v5/data/lowlP/std/wt_r3_yr6.V1.map_u\nwmap_likelihood_v5/data/lowlP/std/wt_r3_yr6.V2.map_q\nwmap_likelihood_v5/data/lowlP/std/wt_r3_yr6.V2.map_u\nwmap_likelihood_v5/data/lowlP/std/wt_r3_yr6.W1.map_q\nwmap_likelihood_v5/data/lowlP/std/wt_r3_yr6.W1.map_u\nwmap_likelihood_v5/data/lowlP/std/tbeb/\nwmap_likelihood_v5/data/lowlP/std/tbeb/masked_eb_ninvplninv_qu_r3_corrected_9yr.KaQV.fits\nwmap_likelihood_v5/data/lowlP/std/tbeb/masked_be_ninvplninv_qu_r3_corrected_9yr.KaQV.fits\nwmap_likelihood_v5/data/lowlP/std/tbeb/masked_ninvy_b_qu_r3_corrected_9yr.KaQV.fits\nwmap_likelihood_v5/data/lowlP/std/wt_r3_yr6.W2.map_q\nwmap_likelihood_v5/data/lowlP/std/wt_r3_yr6.W2.map_u\nwmap_likelihood_v5/data/lowlP/std/wt_r3_yr6.W3.map_q\nwmap_likelihood_v5/data/lowlP/std/wt_r3_yr6.W3.map_u\nwmap_likelihood_v5/data/lowlP/std/wt_r3_yr6.W4.map_q\nwmap_likelihood_v5/data/lowlP/std/wt_r3_yr6.W4.map_u\nwmap_likelihood_v5/data/lowlP/std/wt_r3_yr7.Ka1.map_q\nwmap_likelihood_v5/data/lowlP/std/wt_r3_yr7.Ka1.map_u\nwmap_likelihood_v5/data/lowlP/std/wt_r3_yr7.Q1.map_q\nwmap_likelihood_v5/data/lowlP/std/wt_r3_yr7.Q1.map_u\nwmap_likelihood_v5/data/lowlP/std/wt_r3_yr7.Q2.map_q\nwmap_likelihood_v5/data/lowlP/std/wt_r3_yr7.Q2.map_u\nwmap_likelihood_v5/data/lowlP/std/wt_r3_yr7.V1.map_q\nwmap_likelihood_v5/data/lowlP/std/wt_r3_yr7.V1.map_u\nwmap_likelihood_v5/data/lowlP/std/wt_r3_yr7.V2.map_q\nwmap_likelihood_v5/data/lowlP/std/wt_r3_yr7.V2.map_u\nwmap_likelihood_v5/data/lowlP/std/wt_r3_yr7.W1.map_q\nwmap_likelihood_v5/data/lowlP/std/wt_r3_yr7.W1.map_u\nwmap_likelihood_v5/data/lowlP/std/wt_r3_yr7.W2.map_q\nwmap_likelihood_v5/data/lowlP/std/wt_r3_yr7.W2.map_u\nwmap_likelihood_v5/data/lowlP/std/wt_r3_yr7.W3.map_q\nwmap_likelihood_v5/data/lowlP/std/wt_r3_yr7.W3.map_u\nwmap_likelihood_v5/data/lowlP/std/wt_r3_yr7.W4.map_q\nwmap_likelihood_v5/data/lowlP/std/wt_r3_yr7.W4.map_u\nwmap_likelihood_v5/data/lowlP/std/wt_r3_yr8.Ka1.map_q\nwmap_likelihood_v5/data/lowlP/std/wt_r3_yr8.Ka1.map_u\nwmap_likelihood_v5/data/lowlP/std/wt_r3_yr8.Q1.map_q\nwmap_likelihood_v5/data/lowlP/std/wt_r3_yr8.Q1.map_u\nwmap_likelihood_v5/data/lowlP/std/wt_r3_yr8.Q2.map_q\nwmap_likelihood_v5/data/lowlP/std/wt_r3_yr8.Q2.map_u\nwmap_likelihood_v5/data/lowlP/std/wt_r3_yr8.V1.map_q\nwmap_likelihood_v5/data/lowlP/std/wt_r3_yr8.V1.map_u\nwmap_likelihood_v5/data/lowlP/std/wt_r3_yr8.V2.map_q\nwmap_likelihood_v5/data/lowlP/std/wt_r3_yr8.V2.map_u\nwmap_likelihood_v5/data/lowlP/std/wt_r3_yr8.W1.map_q\nwmap_likelihood_v5/data/lowlP/std/wt_r3_yr8.W1.map_u\nwmap_likelihood_v5/data/lowlP/std/wt_r3_yr8.W2.map_q\nwmap_likelihood_v5/data/lowlP/std/wt_r3_yr8.W2.map_u\nwmap_likelihood_v5/data/lowlP/std/wt_r3_yr8.W3.map_q\nwmap_likelihood_v5/data/lowlP/std/wt_r3_yr8.W3.map_u\nwmap_likelihood_v5/data/lowlP/std/wt_r3_yr8.W4.map_q\nwmap_likelihood_v5/data/lowlP/std/wt_r3_yr8.W4.map_u\nwmap_likelihood_v5/data/lowlP/std/wt_r3_yr9.Ka1.map_q\nwmap_likelihood_v5/data/lowlP/std/wt_r3_yr9.Ka1.map_u\nwmap_likelihood_v5/data/lowlP/std/wt_r3_yr9.Q1.map_q\nwmap_likelihood_v5/data/lowlP/std/wt_r3_yr9.Q1.map_u\nwmap_likelihood_v5/data/lowlP/std/wt_r3_yr9.Q2.map_q\nwmap_likelihood_v5/data/lowlP/std/wt_r3_yr9.Q2.map_u\nwmap_likelihood_v5/data/lowlP/std/wt_r3_yr9.V1.map_q\nwmap_likelihood_v5/data/lowlP/std/wt_r3_yr9.V1.map_u\nwmap_likelihood_v5/data/lowlP/std/wt_r3_yr9.V2.map_q\nwmap_likelihood_v5/data/lowlP/std/wt_r3_yr9.V2.map_u\nwmap_likelihood_v5/data/lowlP/std/wt_r3_yr9.W1.map_q\nwmap_likelihood_v5/data/lowlP/std/wt_r3_yr9.W1.map_u\nwmap_likelihood_v5/data/lowlP/std/wt_r3_yr9.W2.map_q\nwmap_likelihood_v5/data/lowlP/std/wt_r3_yr9.W2.map_u\nwmap_likelihood_v5/data/lowlP/std/wt_r3_yr9.W3.map_q\nwmap_likelihood_v5/data/lowlP/std/wt_r3_yr9.W3.map_u\nwmap_likelihood_v5/data/lowlP/std/wt_r3_yr9.W4.map_q\nwmap_likelihood_v5/data/lowlP/std/wt_r3_yr9.W4.map_u\nwmap_likelihood_v5/data/lowlP/std/masked_ee_ninvplninv_qu_r3_corrected_9yr.KaQV.fits\nwmap_likelihood_v5/data/lowlP/std/masked_bb_ninvplninv_qu_r3_corrected_9yr.KaQV.fits\nwmap_likelihood_v5/data/lowlP/std/masked_ninvy_e_qu_r3_corrected_9yr.KaQV.fits\nwmap_likelihood_v5/data/lowlP/std/masked_ninv_qu_r3_corrected_9yr.KaQV.fits\nwmap_likelihood_v5/data/lowlP/mask_r3_p06_jarosik.fits\nwmap_likelihood_v5/data/lowlT/\nwmap_likelihood_v5/data/lowlT/gibbs/\nwmap_likelihood_v5/data/lowlT/gibbs/sigmaEllsHkeChu_test16_ilc_9yr_5deg_r5_2uK_corrected_kq85y9_June_r5_all.fits\nwmap_likelihood_v5/data/lowlT/gibbs/test_cls.dat\nwmap_likelihood_v5/data/lowlT/faster/\nwmap_likelihood_v5/data/lowlT/faster/compressed_t_map_f2_9yr.txt\nwmap_likelihood_v5/data/lowlT/faster/compressed_tt_matrices_f2_9yr.fits\nwmap_likelihood_v5/data/lowlT/pixlike/\nwmap_likelihood_v5/data/lowlT/pixlike/wmap_9yr_r4_ilc_smooth_9.1285deg.fits\nwmap_likelihood_v5/data/lowlT/pixlike/wmap_9yr_r4_vband_raw_smooth_9.1831deg.fits\nwmap_likelihood_v5/data/lowlT/pixlike/mask_r4_kq85.fits\nwmap_likelihood_v5/data/test_cls_v5.dat\nnon-existing path in '': '/opt/local//include'\nnon-existing path in '': '${MKLROOT}/include'\nnon-existing path in '': '/opt/local//lib'\nnon-existing path in '': '${MKLROOT}/lib/intel64 '\n/anaconda/envs/azureml_py38/lib/python3.8/site-packages/setuptools/dist.py:285: SetuptoolsDeprecationWarning: The namespace_packages parameter is deprecated, consider using implicit namespaces instead (PEP 420).\n  warnings.warn(msg, SetuptoolsDeprecationWarning)\n\u001b[39mrunning build\u001b[0m\n\u001b[39mrunning config_cc\u001b[0m\n\u001b[39munifing config_cc, config, build_clib, build_ext, build commands --compiler options\u001b[0m\n\u001b[39mrunning config_fc\u001b[0m\n\u001b[39munifing config_fc, config, build_clib, build_ext, build commands --fcompiler options\u001b[0m\n\u001b[39mrunning build_src\u001b[0m\n\u001b[39mbuild_src\u001b[0m\n\u001b[39mbuilding extension \"wmap9Wrapper._wmapWrapper\" sources\u001b[0m\n\u001b[39mf2py options: []\u001b[0m\n\u001b[39m  adding 'build/src.linux-x86_64-3.8/build/src.linux-x86_64-3.8/fortranobject.c' to sources.\u001b[0m\n\u001b[39m  adding 'build/src.linux-x86_64-3.8/build/src.linux-x86_64-3.8' to include_dirs.\u001b[0m\n\u001b[39m  adding 'build/src.linux-x86_64-3.8/_wmapWrapper-f2pywrappers2.f90' to sources.\u001b[0m\n\u001b[39mbuilding data_files sources\u001b[0m\n\u001b[39mbuild_src: building npy-pkg config files\u001b[0m\n/anaconda/envs/azureml_py38/lib/python3.8/site-packages/setuptools/command/install.py:34: SetuptoolsDeprecationWarning: setup.py install is deprecated. Use build and pip and other standards-based tools.\n  warnings.warn(\n\u001b[39mrunning build_py\u001b[0m\n\u001b[39mrunning build_ext\u001b[0m\n\u001b[39mcustomize UnixCCompiler\u001b[0m\n\u001b[39mcustomize UnixCCompiler using build_ext\u001b[0m\n\u001b[39mCCompilerOpt.__init__[765] : load cache from file -> /mnt/batch/tasks/shared/LS_root/mounts/clusters/ab34201/code/Users/ab3420/CosmoHammerPlugins/wmap9Wrapper/build/temp.linux-x86_64-cpython-38/ccompiler_opt_cache_ext.py\u001b[0m\n\u001b[39mCCompilerOpt.__init__[776] : hit the file cache\u001b[0m\n\u001b[39mget_default_fcompiler: matching types: '['gnu95', 'intel', 'lahey', 'pg', 'nv', 'absoft', 'nag', 'vast', 'compaq', 'intele', 'intelem', 'gnu', 'g95', 'pathf95', 'nagfor', 'fujitsu']'\u001b[0m\n\u001b[39mcustomize Gnu95FCompiler\u001b[0m\n\u001b[39mFound executable /usr/bin/gfortran\u001b[0m\n\u001b[39mcustomize Gnu95FCompiler\u001b[0m\n\u001b[39mcustomize Gnu95FCompiler using build_ext\u001b[0m\n\u001b[39mbuilding 'wmap9Wrapper._wmapWrapper' extension\u001b[0m\n\u001b[39mcompiling C sources\u001b[0m\n\u001b[39mC compiler: gcc -pthread -B /anaconda/envs/azureml_py38/compiler_compat -Wl,--sysroot=/ -Wsign-compare -DNDEBUG -g -fwrapv -O3 -Wall -Wstrict-prototypes -fPIC\n\u001b[0m\n\u001b[39mcompile options: '-I/opt/local//include -I${MKLROOT}/include -Ibuild/src.linux-x86_64-3.8/build/src.linux-x86_64-3.8 -I/anaconda/envs/azureml_py38/lib/python3.8/site-packages/numpy/core/include -Ibuild/src.linux-x86_64-3.8/numpy/distutils/include -I/anaconda/envs/azureml_py38/include/python3.8 -c'\nextra options: '-msse -msse2 -msse3'\u001b[0m\n\u001b[39mcompiling Fortran 90 module sources\u001b[0m\n\u001b[39mFortran f77 compiler: /usr/bin/gfortran -Wall -g -ffixed-form -fno-second-underscore -fPIC -O3 -funroll-loops\nFortran f90 compiler: /usr/bin/gfortran -Wall -g -fno-second-underscore -fPIC -O3 -funroll-loops\nFortran fix compiler: /usr/bin/gfortran -Wall -g -ffixed-form -fno-second-underscore -Wall -g -fno-second-underscore -fPIC -O3 -funroll-loops\u001b[0m\n\u001b[39mcompile options: '-I/opt/local//include -I${MKLROOT}/include -Ibuild/src.linux-x86_64-3.8/build/src.linux-x86_64-3.8 -I/anaconda/envs/azureml_py38/lib/python3.8/site-packages/numpy/core/include -Ibuild/src.linux-x86_64-3.8/numpy/distutils/include -I/anaconda/envs/azureml_py38/include/python3.8 -c'\nextra options: '-Jbuild/temp.linux-x86_64-cpython-38/wmap9Wrapper -Ibuild/temp.linux-x86_64-cpython-38/wmap9Wrapper'\u001b[0m\n\u001b[39mextra f90 options: '-O3 -openmp -DOPTIMIZE -I${MKLROOT}/include/intel64/ilp64 -I${MKLROOT}/include'\u001b[0m\n\u001b[39mgfortran:f90: wmap_likelihood_v5/healpix_types.f90\u001b[0m\n\u001b[01m\u001b[Kf951:\u001b[m\u001b[K \u001b[01;31m\u001b[KError:\u001b[m\u001b[K argument to ‘\u001b[01m\u001b[K-O\u001b[m\u001b[K’ should be a non-negative integer, ‘\u001b[01m\u001b[Kg\u001b[m\u001b[K’, ‘\u001b[01m\u001b[Ks\u001b[m\u001b[K’ or ‘\u001b[01m\u001b[Kfast\u001b[m\u001b[K’\n\u001b[01m\u001b[Kf951:\u001b[m\u001b[K \u001b[01;35m\u001b[KWarning:\u001b[m\u001b[K Nonexistent include directory ‘\u001b[01m\u001b[K/opt/local//include\u001b[m\u001b[K’ [\u001b[01;35m\u001b[K-Wmissing-include-dirs\u001b[m\u001b[K]\n\u001b[01m\u001b[Kf951:\u001b[m\u001b[K \u001b[01;35m\u001b[KWarning:\u001b[m\u001b[K Nonexistent include directory ‘\u001b[01m\u001b[K${MKLROOT}/include\u001b[m\u001b[K’ [\u001b[01;35m\u001b[K-Wmissing-include-dirs\u001b[m\u001b[K]\nerror: Command \"/usr/bin/gfortran -Wall -g -fno-second-underscore -fPIC -O3 -funroll-loops -I/opt/local//include -I${MKLROOT}/include -Ibuild/src.linux-x86_64-3.8/build/src.linux-x86_64-3.8 -I/anaconda/envs/azureml_py38/lib/python3.8/site-packages/numpy/core/include -Ibuild/src.linux-x86_64-3.8/numpy/distutils/include -I/anaconda/envs/azureml_py38/include/python3.8 -c -c wmap_likelihood_v5/healpix_types.f90 -o build/temp.linux-x86_64-cpython-38/wmap_likelihood_v5/healpix_types.o -Jbuild/temp.linux-x86_64-cpython-38/wmap9Wrapper -Ibuild/temp.linux-x86_64-cpython-38/wmap9Wrapper -O3 -openmp -DOPTIMIZE -I${MKLROOT}/include/intel64/ilp64 -I${MKLROOT}/include\" failed with exit status 1\n\u001b[39m\n########### EXT COMPILER OPTIMIZATION ###########\u001b[0m\n\u001b[39mPlatform      : \n  Architecture: x64\n  Compiler    : gcc\n\nCPU baseline  : \n  Requested   : 'min'\n  Enabled     : SSE SSE2 SSE3\n  Flags       : -msse -msse2 -msse3\n  Extra checks: none\n\nCPU dispatch  : \n  Requested   : 'max -xop -fma4'\n  Enabled     : SSSE3 SSE41 POPCNT SSE42 AVX F16C FMA3 AVX2 AVX512F AVX512CD AVX512_KNL AVX512_KNM AVX512_SKX AVX512_CLX AVX512_CNL AVX512_ICL\n  Generated   : none\u001b[0m\n\u001b[39mCCompilerOpt.cache_flush[809] : write cache to path -> /mnt/batch/tasks/shared/LS_root/mounts/clusters/ab34201/code/Users/ab3420/CosmoHammerPlugins/wmap9Wrapper/build/temp.linux-x86_64-cpython-38/ccompiler_opt_cache_ext.py\u001b[0m\nnon-existing path in '': '/opt/local//include'\nnon-existing path in '': '${MKLROOT}/include'\nnon-existing path in '': '/opt/local//lib'\nnon-existing path in '': '${MKLROOT}/lib/intel64 '\n/anaconda/envs/azureml_py38/lib/python3.8/site-packages/setuptools/dist.py:285: SetuptoolsDeprecationWarning: The namespace_packages parameter is deprecated, consider using implicit namespaces instead (PEP 420).\n  warnings.warn(msg, SetuptoolsDeprecationWarning)\n\u001b[39mrunning install\u001b[0m\n/anaconda/envs/azureml_py38/lib/python3.8/site-packages/setuptools/command/install.py:34: SetuptoolsDeprecationWarning: setup.py install is deprecated. Use build and pip and other standards-based tools.\n  warnings.warn(\n\u001b[39mrunning build\u001b[0m\n\u001b[39mrunning config_cc\u001b[0m\n\u001b[39munifing config_cc, config, build_clib, build_ext, build commands --compiler options\u001b[0m\n\u001b[39mrunning config_fc\u001b[0m\n\u001b[39munifing config_fc, config, build_clib, build_ext, build commands --fcompiler options\u001b[0m\n\u001b[39mrunning build_src\u001b[0m\n\u001b[39mbuild_src\u001b[0m\n\u001b[39mbuilding extension \"wmap9Wrapper._wmapWrapper\" sources\u001b[0m\n\u001b[39mf2py options: []\u001b[0m\n\u001b[39m  adding 'build/src.linux-x86_64-3.8/build/src.linux-x86_64-3.8/fortranobject.c' to sources.\u001b[0m\n\u001b[39m  adding 'build/src.linux-x86_64-3.8/build/src.linux-x86_64-3.8' to include_dirs.\u001b[0m\n\u001b[39m  adding 'build/src.linux-x86_64-3.8/_wmapWrapper-f2pywrappers2.f90' to sources.\u001b[0m\n\u001b[39mbuilding data_files sources\u001b[0m\n\u001b[39mbuild_src: building npy-pkg config files\u001b[0m\n\u001b[39mrunning build_py\u001b[0m\n\u001b[39mrunning build_ext\u001b[0m\n\u001b[39mcustomize UnixCCompiler\u001b[0m\n\u001b[39mcustomize UnixCCompiler using build_ext\u001b[0m\n\u001b[39mCCompilerOpt.__init__[765] : load cache from file -> /mnt/batch/tasks/shared/LS_root/mounts/clusters/ab34201/code/Users/ab3420/CosmoHammerPlugins/wmap9Wrapper/build/temp.linux-x86_64-cpython-38/ccompiler_opt_cache_ext.py\u001b[0m\n\u001b[39mCCompilerOpt.__init__[776] : hit the file cache\u001b[0m\n\u001b[39mget_default_fcompiler: matching types: '['gnu95', 'intel', 'lahey', 'pg', 'nv', 'absoft', 'nag', 'vast', 'compaq', 'intele', 'intelem', 'gnu', 'g95', 'pathf95', 'nagfor', 'fujitsu']'\u001b[0m\n\u001b[39mcustomize Gnu95FCompiler\u001b[0m\n\u001b[39mFound executable /usr/bin/gfortran\u001b[0m\n\u001b[39mcustomize Gnu95FCompiler\u001b[0m\n\u001b[39mcustomize Gnu95FCompiler using build_ext\u001b[0m\n\u001b[39mbuilding 'wmap9Wrapper._wmapWrapper' extension\u001b[0m\n\u001b[39mcompiling C sources\u001b[0m\n\u001b[39mC compiler: gcc -pthread -B /anaconda/envs/azureml_py38/compiler_compat -Wl,--sysroot=/ -Wsign-compare -DNDEBUG -g -fwrapv -O3 -Wall -Wstrict-prototypes -fPIC\n\u001b[0m\n\u001b[39mcompile options: '-I/opt/local//include -I${MKLROOT}/include -Ibuild/src.linux-x86_64-3.8/build/src.linux-x86_64-3.8 -I/anaconda/envs/azureml_py38/lib/python3.8/site-packages/numpy/core/include -Ibuild/src.linux-x86_64-3.8/numpy/distutils/include -I/anaconda/envs/azureml_py38/include/python3.8 -c'\nextra options: '-msse -msse2 -msse3'\u001b[0m\n\u001b[39mcompiling Fortran 90 module sources\u001b[0m\n\u001b[39mFortran f77 compiler: /usr/bin/gfortran -Wall -g -ffixed-form -fno-second-underscore -fPIC -O3 -funroll-loops\nFortran f90 compiler: /usr/bin/gfortran -Wall -g -fno-second-underscore -fPIC -O3 -funroll-loops\nFortran fix compiler: /usr/bin/gfortran -Wall -g -ffixed-form -fno-second-underscore -Wall -g -fno-second-underscore -fPIC -O3 -funroll-loops\u001b[0m\n\u001b[39mcompile options: '-I/opt/local//include -I${MKLROOT}/include -Ibuild/src.linux-x86_64-3.8/build/src.linux-x86_64-3.8 -I/anaconda/envs/azureml_py38/lib/python3.8/site-packages/numpy/core/include -Ibuild/src.linux-x86_64-3.8/numpy/distutils/include -I/anaconda/envs/azureml_py38/include/python3.8 -c'\nextra options: '-Jbuild/temp.linux-x86_64-cpython-38/wmap9Wrapper -Ibuild/temp.linux-x86_64-cpython-38/wmap9Wrapper'\u001b[0m\n\u001b[39mextra f90 options: '-O3 -openmp -DOPTIMIZE -I${MKLROOT}/include/intel64/ilp64 -I${MKLROOT}/include'\u001b[0m\n\u001b[39mgfortran:f90: wmap_likelihood_v5/healpix_types.f90\u001b[0m\n\u001b[01m\u001b[Kf951:\u001b[m\u001b[K \u001b[01;31m\u001b[KError:\u001b[m\u001b[K argument to ‘\u001b[01m\u001b[K-O\u001b[m\u001b[K’ should be a non-negative integer, ‘\u001b[01m\u001b[Kg\u001b[m\u001b[K’, ‘\u001b[01m\u001b[Ks\u001b[m\u001b[K’ or ‘\u001b[01m\u001b[Kfast\u001b[m\u001b[K’\n\u001b[01m\u001b[Kf951:\u001b[m\u001b[K \u001b[01;35m\u001b[KWarning:\u001b[m\u001b[K Nonexistent include directory ‘\u001b[01m\u001b[K/opt/local//include\u001b[m\u001b[K’ [\u001b[01;35m\u001b[K-Wmissing-include-dirs\u001b[m\u001b[K]\n\u001b[01m\u001b[Kf951:\u001b[m\u001b[K \u001b[01;35m\u001b[KWarning:\u001b[m\u001b[K Nonexistent include directory ‘\u001b[01m\u001b[K${MKLROOT}/include\u001b[m\u001b[K’ [\u001b[01;35m\u001b[K-Wmissing-include-dirs\u001b[m\u001b[K]\nerror: Command \"/usr/bin/gfortran -Wall -g -fno-second-underscore -fPIC -O3 -funroll-loops -I/opt/local//include -I${MKLROOT}/include -Ibuild/src.linux-x86_64-3.8/build/src.linux-x86_64-3.8 -I/anaconda/envs/azureml_py38/lib/python3.8/site-packages/numpy/core/include -Ibuild/src.linux-x86_64-3.8/numpy/distutils/include -I/anaconda/envs/azureml_py38/include/python3.8 -c -c wmap_likelihood_v5/healpix_types.f90 -o build/temp.linux-x86_64-cpython-38/wmap_likelihood_v5/healpix_types.o -Jbuild/temp.linux-x86_64-cpython-38/wmap9Wrapper -Ibuild/temp.linux-x86_64-cpython-38/wmap9Wrapper -O3 -openmp -DOPTIMIZE -I${MKLROOT}/include/intel64/ilp64 -I${MKLROOT}/include\" failed with exit status 1\n\u001b[39m\n########### EXT COMPILER OPTIMIZATION ###########\u001b[0m\n\u001b[39mPlatform      : \n  Architecture: x64\n  Compiler    : gcc\n\nCPU baseline  : \n  Requested   : 'min'\n  Enabled     : SSE SSE2 SSE3\n  Flags       : -msse -msse2 -msse3\n  Extra checks: none\n\nCPU dispatch  : \n  Requested   : 'max -xop -fma4'\n  Enabled     : SSSE3 SSE41 POPCNT SSE42 AVX F16C FMA3 AVX2 AVX512F AVX512CD AVX512_KNL AVX512_KNM AVX512_SKX AVX512_CLX AVX512_CNL AVX512_ICL\n  Generated   : none\u001b[0m\n\u001b[39mCCompilerOpt.cache_flush[809] : write cache to path -> /mnt/batch/tasks/shared/LS_root/mounts/clusters/ab34201/code/Users/ab3420/CosmoHammerPlugins/wmap9Wrapper/build/temp.linux-x86_64-cpython-38/ccompiler_opt_cache_ext.py\u001b[0m\n"
        }
      ],
      "execution_count": 73,
      "metadata": {
        "jupyter": {
          "source_hidden": false,
          "outputs_hidden": false
        },
        "nteract": {
          "transient": {
            "deleting": false
          }
        }
      }
    },
    {
      "cell_type": "code",
      "source": [
        "%cd cambWrapper"
      ],
      "outputs": [
        {
          "output_type": "stream",
          "name": "stdout",
          "text": "/mnt/batch/tasks/shared/LS_root/mounts/clusters/ab34201/code/Users/ab3420/CosmoHammerPlugins/cambWrapper\n"
        }
      ],
      "execution_count": 63,
      "metadata": {
        "jupyter": {
          "source_hidden": false,
          "outputs_hidden": false
        },
        "nteract": {
          "transient": {
            "deleting": false
          }
        }
      }
    },
    {
      "cell_type": "code",
      "source": [
        "!python setup.py build\n",
        "!python setup.py install --user"
      ],
      "outputs": [
        {
          "output_type": "stream",
          "name": "stdout",
          "text": "running build\nrunning build_py\ncreating build\ncreating build/lib\ncreating build/lib/cambWrapper\ncopying cambWrapper/CambCoreModule.py -> build/lib/cambWrapper\ncopying cambWrapper/__init__.py -> build/lib/cambWrapper\ncreating build/lib/test\ncopying test/testCambWrapper.py -> build/lib/test\ncopying test/__init__.py -> build/lib/test\nrunning egg_info\ncreating cambWrapper.egg-info\nwriting cambWrapper.egg-info/PKG-INFO\nwriting dependency_links to cambWrapper.egg-info/dependency_links.txt\nwriting requirements to cambWrapper.egg-info/requires.txt\nwriting top-level names to cambWrapper.egg-info/top_level.txt\nwriting manifest file 'cambWrapper.egg-info/SOURCES.txt'\nreading manifest file 'cambWrapper.egg-info/SOURCES.txt'\nreading manifest template 'MANIFEST.in'\nwarning: no files found matching '*.png' under directory 'docs'\nwarning: manifest_maker: MANIFEST.in, line 8: 'recursive-include' expects <dir> <pattern1> <pattern2> ...\n\nwarning: no previously-included files found matching '.settings/*'\nwarning: no previously-included files found matching '.pydevproject'\nwarning: no previously-included files found matching '.cproject'\nwarning: no previously-included files found matching '.project'\nwarning: no previously-included files found matching 'camb/*'\nadding license file 'LICENSE'\nadding license file 'AUTHORS.rst'\nwriting manifest file 'cambWrapper.egg-info/SOURCES.txt'\nrunning install\n/anaconda/envs/azureml_py38/lib/python3.8/site-packages/setuptools/command/install.py:34: SetuptoolsDeprecationWarning: setup.py install is deprecated. Use build and pip and other standards-based tools.\n  warnings.warn(\n/anaconda/envs/azureml_py38/lib/python3.8/site-packages/setuptools/command/easy_install.py:144: EasyInstallDeprecationWarning: easy_install command is deprecated. Use build and pip and other standards-based tools.\n  warnings.warn(\nrunning bdist_egg\nrunning egg_info\nwriting cambWrapper.egg-info/PKG-INFO\nwriting dependency_links to cambWrapper.egg-info/dependency_links.txt\nwriting requirements to cambWrapper.egg-info/requires.txt\nwriting top-level names to cambWrapper.egg-info/top_level.txt\nreading manifest file 'cambWrapper.egg-info/SOURCES.txt'\nreading manifest template 'MANIFEST.in'\nwarning: no files found matching '*.png' under directory 'docs'\nwarning: manifest_maker: MANIFEST.in, line 8: 'recursive-include' expects <dir> <pattern1> <pattern2> ...\n\nwarning: no previously-included files found matching '.settings/*'\nwarning: no previously-included files found matching '.pydevproject'\nwarning: no previously-included files found matching '.cproject'\nwarning: no previously-included files found matching '.project'\nwarning: no previously-included files found matching 'camb/*'\nadding license file 'LICENSE'\nadding license file 'AUTHORS.rst'\nwriting manifest file 'cambWrapper.egg-info/SOURCES.txt'\ninstalling library code to build/bdist.linux-x86_64/egg\nrunning install_lib\nrunning build_py\ncreating build/bdist.linux-x86_64\ncreating build/bdist.linux-x86_64/egg\ncreating build/bdist.linux-x86_64/egg/cambWrapper\ncopying build/lib/cambWrapper/CambCoreModule.py -> build/bdist.linux-x86_64/egg/cambWrapper\ncopying build/lib/cambWrapper/__init__.py -> build/bdist.linux-x86_64/egg/cambWrapper\ncreating build/bdist.linux-x86_64/egg/test\ncopying build/lib/test/testCambWrapper.py -> build/bdist.linux-x86_64/egg/test\ncopying build/lib/test/__init__.py -> build/bdist.linux-x86_64/egg/test\nbyte-compiling build/bdist.linux-x86_64/egg/cambWrapper/CambCoreModule.py to CambCoreModule.cpython-38.pyc\nbyte-compiling build/bdist.linux-x86_64/egg/cambWrapper/__init__.py to __init__.cpython-38.pyc\nbyte-compiling build/bdist.linux-x86_64/egg/test/testCambWrapper.py to testCambWrapper.cpython-38.pyc\nbyte-compiling build/bdist.linux-x86_64/egg/test/__init__.py to __init__.cpython-38.pyc\ncreating build/bdist.linux-x86_64/egg/EGG-INFO\ncopying cambWrapper.egg-info/PKG-INFO -> build/bdist.linux-x86_64/egg/EGG-INFO\ncopying cambWrapper.egg-info/SOURCES.txt -> build/bdist.linux-x86_64/egg/EGG-INFO\ncopying cambWrapper.egg-info/dependency_links.txt -> build/bdist.linux-x86_64/egg/EGG-INFO\ncopying cambWrapper.egg-info/not-zip-safe -> build/bdist.linux-x86_64/egg/EGG-INFO\ncopying cambWrapper.egg-info/requires.txt -> build/bdist.linux-x86_64/egg/EGG-INFO\ncopying cambWrapper.egg-info/top_level.txt -> build/bdist.linux-x86_64/egg/EGG-INFO\ncreating dist\ncreating 'dist/cambWrapper-0.3.0-py3.8.egg' and adding 'build/bdist.linux-x86_64/egg' to it\nremoving 'build/bdist.linux-x86_64/egg' (and everything under it)\nProcessing cambWrapper-0.3.0-py3.8.egg\ncreating /home/azureuser/.local/lib/python3.8/site-packages/cambWrapper-0.3.0-py3.8.egg\nExtracting cambWrapper-0.3.0-py3.8.egg to /home/azureuser/.local/lib/python3.8/site-packages\nAdding cambWrapper 0.3.0 to easy-install.pth file\n\nInstalled /home/azureuser/.local/lib/python3.8/site-packages/cambWrapper-0.3.0-py3.8.egg\nProcessing dependencies for cambWrapper==0.3.0\nSearching for camb==1.5.4\nBest match: camb 1.5.4\nAdding camb 1.5.4 to easy-install.pth file\nInstalling camb script to /home/azureuser/.local/bin\n\nUsing /anaconda/envs/azureml_py38/lib/python3.8/site-packages\nSearching for cosmoHammer==0.6.1\nBest match: cosmoHammer 0.6.1\nAdding cosmoHammer 0.6.1 to easy-install.pth file\n\nUsing /anaconda/envs/azureml_py38/lib/python3.8/site-packages\nSearching for numpy==1.21.6\nBest match: numpy 1.21.6\nAdding numpy 1.21.6 to easy-install.pth file\nInstalling f2py script to /home/azureuser/.local/bin\nInstalling f2py3 script to /home/azureuser/.local/bin\nInstalling f2py3.8 script to /home/azureuser/.local/bin\n\nUsing /anaconda/envs/azureml_py38/lib/python3.8/site-packages\nSearching for packaging==23.0\nBest match: packaging 23.0\nAdding packaging 23.0 to easy-install.pth file\n\nUsing /anaconda/envs/azureml_py38/lib/python3.8/site-packages\nSearching for sympy==1.12\nBest match: sympy 1.12\nAdding sympy 1.12 to easy-install.pth file\nInstalling isympy script to /home/azureuser/.local/bin\n\nUsing /anaconda/envs/azureml_py38/lib/python3.8/site-packages\nSearching for scipy==1.5.3\nBest match: scipy 1.5.3\nAdding scipy 1.5.3 to easy-install.pth file\n\nUsing /anaconda/envs/azureml_py38/lib/python3.8/site-packages\nSearching for emcee==3.1.4\nBest match: emcee 3.1.4\nAdding emcee 3.1.4 to easy-install.pth file\n\nUsing /anaconda/envs/azureml_py38/lib/python3.8/site-packages\nSearching for mpmath==1.3.0\nBest match: mpmath 1.3.0\nAdding mpmath 1.3.0 to easy-install.pth file\n\nUsing /anaconda/envs/azureml_py38/lib/python3.8/site-packages\nFinished processing dependencies for cambWrapper==0.3.0\n"
        }
      ],
      "execution_count": 64,
      "metadata": {
        "jupyter": {
          "source_hidden": false,
          "outputs_hidden": false
        },
        "nteract": {
          "transient": {
            "deleting": false
          }
        }
      }
    },
    {
      "cell_type": "code",
      "source": [
        "!which python\n"
      ],
      "outputs": [
        {
          "output_type": "stream",
          "name": "stdout",
          "text": "/anaconda/envs/azureml_py38/bin//python\r\n"
        }
      ],
      "execution_count": 67,
      "metadata": {
        "jupyter": {
          "source_hidden": false,
          "outputs_hidden": false
        },
        "nteract": {
          "transient": {
            "deleting": false
          }
        }
      }
    },
    {
      "cell_type": "code",
      "source": [
        "!python -m site\n"
      ],
      "outputs": [
        {
          "output_type": "stream",
          "name": "stdout",
          "text": "sys.path = [\r\n    '/mnt/batch/tasks/shared/LS_root/mounts/clusters/ab34201/code/Users/ab3420/CosmoHammerPlugins/cambWrapper',\r\n    '/anaconda/envs/azureml_py38/lib/python38.zip',\r\n    '/anaconda/envs/azureml_py38/lib/python3.8',\r\n    '/anaconda/envs/azureml_py38/lib/python3.8/lib-dynload',\r\n    '/home/azureuser/.local/lib/python3.8/site-packages',\r\n    '/home/azureuser/.local/lib/python3.8/site-packages/cambWrapper-0.3.0-py3.8.egg',\r\n    '/anaconda/envs/azureml_py38/lib/python3.8/site-packages',\r\n]\r\nUSER_BASE: '/home/azureuser/.local' (exists)\r\nUSER_SITE: '/home/azureuser/.local/lib/python3.8/site-packages' (exists)\r\nENABLE_USER_SITE: True\r\n"
        }
      ],
      "execution_count": 68,
      "metadata": {
        "jupyter": {
          "source_hidden": false,
          "outputs_hidden": false
        },
        "nteract": {
          "transient": {
            "deleting": false
          }
        }
      }
    },
    {
      "cell_type": "code",
      "source": [
        "!ls /home/azureuser/.local/lib/python3.8/site-packages\n"
      ],
      "outputs": [
        {
          "output_type": "stream",
          "name": "stdout",
          "text": "cambWrapper-0.3.0-py3.8.egg  easy-install.pth\r\n"
        }
      ],
      "execution_count": 74,
      "metadata": {
        "jupyter": {
          "source_hidden": false,
          "outputs_hidden": false
        },
        "nteract": {
          "transient": {
            "deleting": false
          }
        }
      }
    },
    {
      "cell_type": "code",
      "source": [
        "\"\"\"\n",
        "Runs CosmoHammer with the CambWrapper and WMAPWrapper.\n",
        "The CosmoHammer will sample with 50*7 Walker for 2*250 iterations.\n",
        "\n",
        "\"\"\"\n",
        "import sys\n",
        "sys.path.append('CosmoHammerPlugins/wmap9Wrapper')\n",
        "\n",
        "from cosmoHammer import MpiCosmoHammerSampler\n",
        "from cosmoHammer import LikelihoodComputationChain\n",
        "from cosmoHammer.util import Params\n",
        "\n",
        "from wmap9Wrapper import WmapExtLikelihoodModule as wmap9\n",
        "from cambWrapper import CambCoreModule\n",
        "\n",
        "\n",
        "#parameter start center, min, max, start width\n",
        "params = Params((\"hubble\",                [70, 65, 80, 3]),\n",
        "                (\"ombh2\",                 [0.0226, 0.01, 0.03, 0.001]),\n",
        "                (\"omch2\",                 [0.122, 0.09, 0.2, 0.01]),\n",
        "                (\"scalar_amp\",            [2.1e-9, 1.8e-9, 2.35e-9, 1e-10]),\n",
        "                (\"scalar_spectral_index\", [0.96, 0.8, 1.2, 0.02]),\n",
        "                (\"re_optical_depth\",      [0.09, 0.01, 0.1, 0.03]),\n",
        "                (\"sz_amp\",                [1,0,2,0.4]))\n",
        "\n",
        "chain = LikelihoodComputationChain(\n",
        "                    min=params[:,1], \n",
        "                    max=params[:,2])\n",
        "\n",
        "camb_mod = CambCoreModule.CambCoreModule()\n",
        "\n",
        "chain.addCoreModule(camb_mod)\n",
        "\n",
        "chain.addLikelihoodModule(wmap9.WmapExtLikelihoodModule())\n",
        "\n",
        "chain.setup()\n",
        "\n",
        "\n",
        "sampler = MpiCosmoHammerSampler(\n",
        "                params= params, \n",
        "                likelihoodComputationChain=chain, \n",
        "                filePrefix=\"cosmoHammerWmap9_\", \n",
        "                walkersRatio=20, \n",
        "                burninIterations=0, \n",
        "                sampleIterations=50)\n",
        "\n",
        "print(\"start sampling\")\n",
        "sampler.startSampling()\n",
        "print(\"done!\")"
      ],
      "outputs": [
        {
          "output_type": "error",
          "ename": "ModuleNotFoundError",
          "evalue": "No module named '_wmapWrapper'",
          "traceback": [
            "\u001b[0;31m---------------------------------------------------------------------------\u001b[0m",
            "\u001b[0;31mModuleNotFoundError\u001b[0m                       Traceback (most recent call last)",
            "Cell \u001b[0;32mIn[75], line 13\u001b[0m\n\u001b[1;32m     10\u001b[0m \u001b[38;5;28;01mfrom\u001b[39;00m \u001b[38;5;21;01mcosmoHammer\u001b[39;00m \u001b[38;5;28;01mimport\u001b[39;00m LikelihoodComputationChain\n\u001b[1;32m     11\u001b[0m \u001b[38;5;28;01mfrom\u001b[39;00m \u001b[38;5;21;01mcosmoHammer\u001b[39;00m\u001b[38;5;21;01m.\u001b[39;00m\u001b[38;5;21;01mutil\u001b[39;00m \u001b[38;5;28;01mimport\u001b[39;00m Params\n\u001b[0;32m---> 13\u001b[0m \u001b[38;5;28;01mfrom\u001b[39;00m \u001b[38;5;21;01mwmap9Wrapper\u001b[39;00m \u001b[38;5;28;01mimport\u001b[39;00m WmapExtLikelihoodModule \u001b[38;5;28;01mas\u001b[39;00m wmap9\n\u001b[1;32m     14\u001b[0m \u001b[38;5;28;01mfrom\u001b[39;00m \u001b[38;5;21;01mcambWrapper\u001b[39;00m \u001b[38;5;28;01mimport\u001b[39;00m CambCoreModule\n\u001b[1;32m     17\u001b[0m \u001b[38;5;66;03m#parameter start center, min, max, start width\u001b[39;00m\n",
            "File \u001b[0;32m/mnt/batch/tasks/shared/LS_root/mounts/clusters/ab34201/code/Users/ab3420/CosmoHammerPlugins/wmap9Wrapper/wmap9Wrapper/WmapExtLikelihoodModule.py:12\u001b[0m\n\u001b[1;32m      9\u001b[0m \u001b[38;5;28;01mfrom\u001b[39;00m \u001b[38;5;21;01mcosmoHammer\u001b[39;00m \u001b[38;5;28;01mimport\u001b[39;00m getLogger\n\u001b[1;32m     11\u001b[0m \u001b[38;5;28;01mimport\u001b[39;00m \u001b[38;5;21;01mwmap9Wrapper\u001b[39;00m\n\u001b[0;32m---> 12\u001b[0m \u001b[38;5;28;01mfrom\u001b[39;00m \u001b[38;5;21;01mwmap9Wrapper\u001b[39;00m\u001b[38;5;21;01m.\u001b[39;00m\u001b[38;5;21;01mWmapLikelihoodModule\u001b[39;00m \u001b[38;5;28;01mimport\u001b[39;00m WmapLikelihoodModule\n\u001b[1;32m     14\u001b[0m FILE_PATH  \u001b[38;5;241m=\u001b[39m \u001b[38;5;124m\"\u001b[39m\u001b[38;5;124mdata/WMAP_SZ_VBand.dat\u001b[39m\u001b[38;5;124m\"\u001b[39m\n\u001b[1;32m     16\u001b[0m \u001b[38;5;28;01mclass\u001b[39;00m \u001b[38;5;21;01mWmapExtLikelihoodModule\u001b[39;00m(WmapLikelihoodModule):\n",
            "File \u001b[0;32m/mnt/batch/tasks/shared/LS_root/mounts/clusters/ab34201/code/Users/ab3420/CosmoHammerPlugins/wmap9Wrapper/wmap9Wrapper/WmapLikelihoodModule.py:4\u001b[0m\n\u001b[1;32m      2\u001b[0m \u001b[38;5;28;01mfrom\u001b[39;00m \u001b[38;5;21;01mcosmoHammer\u001b[39;00m\u001b[38;5;21;01m.\u001b[39;00m\u001b[38;5;21;01mexceptions\u001b[39;00m \u001b[38;5;28;01mimport\u001b[39;00m InvalidLikelihoodException\n\u001b[0;32m----> 4\u001b[0m \u001b[38;5;28;01mfrom\u001b[39;00m \u001b[38;5;21;01mwmap9Wrapper\u001b[39;00m \u001b[38;5;28;01mimport\u001b[39;00m wmapWrapperManager\n\u001b[1;32m      5\u001b[0m \u001b[38;5;28;01mfrom\u001b[39;00m \u001b[38;5;21;01mwmap9Wrapper\u001b[39;00m \u001b[38;5;28;01mimport\u001b[39;00m CL_TT_KEY, CL_TE_KEY, CL_EE_KEY, CL_BB_KEY\n\u001b[1;32m      7\u001b[0m \u001b[38;5;28;01mclass\u001b[39;00m \u001b[38;5;21;01mWmapLikelihoodModule\u001b[39;00m(\u001b[38;5;28mobject\u001b[39m):\n",
            "File \u001b[0;32m/mnt/batch/tasks/shared/LS_root/mounts/clusters/ab34201/code/Users/ab3420/CosmoHammerPlugins/wmap9Wrapper/wmap9Wrapper/wmapWrapperManager.py:2\u001b[0m\n\u001b[0;32m----> 2\u001b[0m \u001b[38;5;28;01mimport\u001b[39;00m \u001b[38;5;21;01m_wmapWrapper\u001b[39;00m\n\u001b[1;32m      4\u001b[0m summed\u001b[38;5;241m=\u001b[39m\u001b[38;5;28;01mTrue\u001b[39;00m\n\u001b[1;32m      6\u001b[0m \u001b[38;5;28;01mdef\u001b[39;00m \u001b[38;5;21msetup\u001b[39m(wmapDataPath\u001b[38;5;241m=\u001b[39m\u001b[38;5;28;01mNone\u001b[39;00m,\n\u001b[1;32m      7\u001b[0m           use_TT\u001b[38;5;241m=\u001b[39m\u001b[38;5;28;01mTrue\u001b[39;00m,\n\u001b[1;32m      8\u001b[0m           use_TE\u001b[38;5;241m=\u001b[39m\u001b[38;5;28;01mTrue\u001b[39;00m,\n\u001b[0;32m   (...)\u001b[0m\n\u001b[1;32m     12\u001b[0m           ttmax\u001b[38;5;241m=\u001b[39m\u001b[38;5;241m1200\u001b[39m,\n\u001b[1;32m     13\u001b[0m           sum_up\u001b[38;5;241m=\u001b[39m\u001b[38;5;28;01mTrue\u001b[39;00m):\n",
            "\u001b[0;31mModuleNotFoundError\u001b[0m: No module named '_wmapWrapper'"
          ]
        }
      ],
      "execution_count": 75,
      "metadata": {
        "jupyter": {
          "source_hidden": false,
          "outputs_hidden": false
        },
        "nteract": {
          "transient": {
            "deleting": false
          }
        },
        "gather": {
          "logged": 1706297748312
        }
      }
    },
    {
      "cell_type": "code",
      "source": [],
      "outputs": [],
      "execution_count": null,
      "metadata": {
        "jupyter": {
          "source_hidden": false,
          "outputs_hidden": false
        },
        "nteract": {
          "transient": {
            "deleting": false
          }
        }
      }
    }
  ],
  "metadata": {
    "kernelspec": {
      "name": "python38-azureml",
      "language": "python",
      "display_name": "Python 3.8 - AzureML"
    },
    "language_info": {
      "name": "python",
      "version": "3.8.5",
      "mimetype": "text/x-python",
      "codemirror_mode": {
        "name": "ipython",
        "version": 3
      },
      "pygments_lexer": "ipython3",
      "nbconvert_exporter": "python",
      "file_extension": ".py"
    },
    "microsoft": {
      "ms_spell_check": {
        "ms_spell_check_language": "en"
      },
      "host": {
        "AzureML": {
          "notebookHasBeenCompleted": true
        }
      }
    },
    "kernel_info": {
      "name": "python38-azureml"
    },
    "nteract": {
      "version": "nteract-front-end@1.0.0"
    }
  },
  "nbformat": 4,
  "nbformat_minor": 2
}