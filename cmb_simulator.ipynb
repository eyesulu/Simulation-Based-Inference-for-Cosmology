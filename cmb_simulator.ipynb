{
  "cells": [
    {
      "cell_type": "code",
      "source": [
        "!pip install camb"
      ],
      "outputs": [
        {
          "output_type": "stream",
          "name": "stdout",
          "text": "Requirement already satisfied: camb in /anaconda/envs/azureml_py38/lib/python3.8/site-packages (1.5.4)\r\nRequirement already satisfied: scipy>=1.0 in /anaconda/envs/azureml_py38/lib/python3.8/site-packages (from camb) (1.5.3)\r\nRequirement already satisfied: packaging in /anaconda/envs/azureml_py38/lib/python3.8/site-packages (from camb) (23.0)\r\nRequirement already satisfied: sympy>=1.0 in /anaconda/envs/azureml_py38/lib/python3.8/site-packages (from camb) (1.12)\r\nRequirement already satisfied: numpy>=1.14.5 in /anaconda/envs/azureml_py38/lib/python3.8/site-packages (from scipy>=1.0->camb) (1.21.6)\r\nRequirement already satisfied: mpmath>=0.19 in /anaconda/envs/azureml_py38/lib/python3.8/site-packages (from sympy>=1.0->camb) (1.3.0)\r\n"
        }
      ],
      "execution_count": 2,
      "metadata": {}
    },
    {
      "cell_type": "code",
      "source": [
        "import os\n",
        "import numpy as np\n",
        "import camb\n",
        "from camb.dark_energy import DarkEnergyPPF, DarkEnergyFluid\n",
        "from tqdm import tqdm\n",
        "\n",
        "def generate_camb_cl(H0=67.5, ombh2=0.022, omch2=0.122, mnu=0.06, omk=0,\n",
        "                     tau=0.06, logA=3.05, ns=0.965, r=0, w = -1, wa = 0):\n",
        "    \"\"\" Generate a temperature power spectrum given cosmological parameters\"\"\"\n",
        "    As = 1e-10 * np.exp(logA)\n",
        "    pars = camb.CAMBparams()\n",
        "    pars.set_cosmology(H0=H0, ombh2=ombh2, omch2=omch2, mnu=mnu, omk=omk, tau=tau)\n",
        "    pars.InitPower.set_params(As=As, ns=ns, r=r)\n",
        "    if (w != -1 or wa != 0):\n",
        "        pars.DarkEnergy = DarkEnergyPPF(w=w, wa=wa)\n",
        "    pars.set_for_lmax(2500, lens_potential_accuracy=0);\n",
        "    pars.NonLinear = camb.model.NonLinear_none\n",
        "    results = camb.get_results(pars)\n",
        "    powers = results.get_cmb_power_spectra(pars, CMB_unit='muK')\n",
        "    totCL = powers['total']\n",
        "    return totCL[2:, 0]\n",
        "\n",
        "def generate_sims(N, mins=None, maxs=None, save=True):\n",
        "    \"\"\" Generated N randomly generates CLs \"\"\"\n",
        "\n",
        "    if maxs is None:\n",
        "        maxs = np.array([90, 0.05, 0.5, 3.5, 1])\n",
        "    if mins is None:\n",
        "        mins = np.array([50, 0.01, 0.01, 1.5, 0.8])\n",
        "\n",
        "    cls = np.zeros([N, 2549])\n",
        "    H0_rand = np.random.uniform(mins[0], maxs[0], N)\n",
        "    ombh2_rand = np.random.uniform(mins[1], maxs[1], N)\n",
        "    omch2_rand = np.random.uniform(mins[2], maxs[2], N)\n",
        "    logA_rand = np.random.uniform(mins[3], maxs[3], N)\n",
        "    ns_rand = np.random.uniform(mins[4], maxs[4], N)\n",
        "\n",
        "    skipped = []\n",
        "    for i in tqdm(range(N)):\n",
        "        if i % 500 == 0: print('Generated ', i, 'out of ', N)\n",
        "\n",
        "        try:\n",
        "            cls[i] = generate_camb_cl(H0=H0_rand[i],\n",
        "                                      ombh2=ombh2_rand[i],\n",
        "                                      omch2=omch2_rand[i],\n",
        "                                      logA=logA_rand[i],\n",
        "                                      ns=ns_rand[i])\n",
        "        except:\n",
        "            print(\"Skipped iteration \", i)\n",
        "            skipped.append(i)\n",
        "\n",
        "    params = np.stack([H0_rand,\n",
        "                       ombh2_rand,\n",
        "                       omch2_rand,\n",
        "                       logA_rand,\n",
        "                       ns_rand]).T\n",
        "\n",
        "    params = np.delete(params, skipped, axis=0)\n",
        "\n",
        "    if save:\n",
        "        try:\n",
        "            cls_saved = np.load('cls.npy')\n",
        "            cls_saved = cls_saved.tolist()\n",
        "            params_saved = np.load('params.npy')\n",
        "            params_saved = params_saved.tolist()\n",
        "            print('Saved files are used')\n",
        "        except:\n",
        "            cls_saved = []\n",
        "            params_saved = []\n",
        "            print('Generating a new file')\n",
        "        for i in range(len(cls)):\n",
        "            cls_saved.append(cls[i])\n",
        "            params_saved.append(params[i])\n",
        "\n",
        "        np.save('cls.npy', cls_saved)\n",
        "        np.save('params.npy', params_saved)\n",
        "\n",
        "    return cls, params"
      ],
      "outputs": [],
      "execution_count": 2,
      "metadata": {
        "jupyter": {
          "source_hidden": false,
          "outputs_hidden": false
        },
        "nteract": {
          "transient": {
            "deleting": false
          }
        },
        "gather": {
          "logged": 1705775899873
        }
      }
    },
    {
      "cell_type": "code",
      "source": [
        "    N = 10000\n",
        "    cls, params = generate_sims(N=N, save=True)\n",
        "    print('COMPLETED')"
      ],
      "outputs": [
        {
          "output_type": "stream",
          "name": "stderr",
          "text": " 15%|█▍        | 1463/10000 [28:22<2:40:49,  1.13s/it]"
        },
        {
          "output_type": "stream",
          "name": "stdout",
          "text": "Generated  0 out of  10000\nGenerated  500 out of  10000\nGenerated  1000 out of  10000\n"
        }
      ],
      "execution_count": 3,
      "metadata": {
        "jupyter": {
          "source_hidden": false,
          "outputs_hidden": false
        },
        "nteract": {
          "transient": {
            "deleting": false
          }
        },
        "gather": {
          "logged": 1705775857352
        }
      }
    },
    {
      "cell_type": "code",
      "source": [
        "import pylab as plt\n",
        "cls_file = np.load('cls.npy')\n",
        "for i in range(len(cls_file)):\n",
        "    plt.plot(cls_file[i])\n",
        "print (len(cls_file))"
      ],
      "outputs": [
        {
          "output_type": "error",
          "ename": "NameError",
          "evalue": "name 'np' is not defined",
          "traceback": [
            "\u001b[0;31m---------------------------------------------------------------------------\u001b[0m",
            "\u001b[0;31mNameError\u001b[0m                                 Traceback (most recent call last)",
            "Cell \u001b[0;32mIn[1], line 2\u001b[0m\n\u001b[1;32m      1\u001b[0m \u001b[38;5;28;01mimport\u001b[39;00m \u001b[38;5;21;01mpylab\u001b[39;00m \u001b[38;5;28;01mas\u001b[39;00m \u001b[38;5;21;01mplt\u001b[39;00m\n\u001b[0;32m----> 2\u001b[0m cls_file \u001b[38;5;241m=\u001b[39m \u001b[43mnp\u001b[49m\u001b[38;5;241m.\u001b[39mload(\u001b[38;5;124m'\u001b[39m\u001b[38;5;124mcls.npy\u001b[39m\u001b[38;5;124m'\u001b[39m)\n\u001b[1;32m      3\u001b[0m \u001b[38;5;28;01mfor\u001b[39;00m i \u001b[38;5;129;01min\u001b[39;00m \u001b[38;5;28mrange\u001b[39m(\u001b[38;5;28mlen\u001b[39m(cls_file)):\n\u001b[1;32m      4\u001b[0m     plt\u001b[38;5;241m.\u001b[39mplot(cls_file[i])\n",
            "\u001b[0;31mNameError\u001b[0m: name 'np' is not defined"
          ]
        }
      ],
      "execution_count": 1,
      "metadata": {
        "jupyter": {
          "source_hidden": false,
          "outputs_hidden": false
        },
        "nteract": {
          "transient": {
            "deleting": false
          }
        },
        "gather": {
          "logged": 1705931271586
        }
      }
    },
    {
      "cell_type": "code",
      "source": [
        "mylist = [[1, 2, 3, 4], [4, 5, 6, 7]]\n",
        "new = [[7, 8, 9, 0], [2, 3, 4, 5]]\n",
        "mylist.append(new)\n",
        "print(mylist)"
      ],
      "outputs": [
        {
          "output_type": "stream",
          "name": "stdout",
          "text": "[[1, 2, 3, 4], [4, 5, 6, 7], [[7, 8, 9, 0], [2, 3, 4, 5]]]\n"
        }
      ],
      "execution_count": 23,
      "metadata": {
        "jupyter": {
          "source_hidden": false,
          "outputs_hidden": false
        },
        "nteract": {
          "transient": {
            "deleting": false
          }
        },
        "gather": {
          "logged": 1705774511093
        }
      }
    },
    {
      "cell_type": "code",
      "source": [],
      "outputs": [],
      "execution_count": null,
      "metadata": {
        "jupyter": {
          "source_hidden": false,
          "outputs_hidden": false
        },
        "nteract": {
          "transient": {
            "deleting": false
          }
        }
      }
    }
  ],
  "metadata": {
    "kernelspec": {
      "name": "python38-azureml",
      "language": "python",
      "display_name": "Python 3.8 - AzureML"
    },
    "language_info": {
      "name": "python",
      "version": "3.8.5",
      "mimetype": "text/x-python",
      "codemirror_mode": {
        "name": "ipython",
        "version": 3
      },
      "pygments_lexer": "ipython3",
      "nbconvert_exporter": "python",
      "file_extension": ".py"
    },
    "microsoft": {
      "ms_spell_check": {
        "ms_spell_check_language": "en"
      },
      "host": {
        "AzureML": {
          "notebookHasBeenCompleted": true
        }
      }
    },
    "kernel_info": {
      "name": "python38-azureml"
    },
    "nteract": {
      "version": "nteract-front-end@1.0.0"
    }
  },
  "nbformat": 4,
  "nbformat_minor": 2
}