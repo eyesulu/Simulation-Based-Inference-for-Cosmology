{
 "cells": [
  {
   "cell_type": "code",
   "execution_count": 2,
   "id": "a9782bc9-ab1c-49ef-9203-b15cb8bff617",
   "metadata": {},
   "outputs": [
    {
     "name": "stdout",
     "output_type": "stream",
     "text": [
      "Collecting seaborn\n",
      "  Downloading seaborn-0.13.2-py3-none-any.whl.metadata (5.4 kB)\n",
      "Requirement already satisfied: numpy!=1.24.0,>=1.20 in /home/aisulu/msci-project/lib/python3.11/site-packages (from seaborn) (1.26.4)\n",
      "Requirement already satisfied: pandas>=1.2 in /home/aisulu/msci-project/lib/python3.11/site-packages (from seaborn) (2.2.0)\n",
      "Requirement already satisfied: matplotlib!=3.6.1,>=3.4 in /home/aisulu/msci-project/lib/python3.11/site-packages (from seaborn) (3.8.3)\n",
      "Requirement already satisfied: contourpy>=1.0.1 in /home/aisulu/msci-project/lib/python3.11/site-packages (from matplotlib!=3.6.1,>=3.4->seaborn) (1.2.0)\n",
      "Requirement already satisfied: cycler>=0.10 in /home/aisulu/msci-project/lib/python3.11/site-packages (from matplotlib!=3.6.1,>=3.4->seaborn) (0.12.1)\n",
      "Requirement already satisfied: fonttools>=4.22.0 in /home/aisulu/msci-project/lib/python3.11/site-packages (from matplotlib!=3.6.1,>=3.4->seaborn) (4.49.0)\n",
      "Requirement already satisfied: kiwisolver>=1.3.1 in /home/aisulu/msci-project/lib/python3.11/site-packages (from matplotlib!=3.6.1,>=3.4->seaborn) (1.4.5)\n",
      "Requirement already satisfied: packaging>=20.0 in /home/aisulu/msci-project/lib/python3.11/site-packages (from matplotlib!=3.6.1,>=3.4->seaborn) (23.2)\n",
      "Requirement already satisfied: pillow>=8 in /home/aisulu/msci-project/lib/python3.11/site-packages (from matplotlib!=3.6.1,>=3.4->seaborn) (10.2.0)\n",
      "Requirement already satisfied: pyparsing>=2.3.1 in /home/aisulu/msci-project/lib/python3.11/site-packages (from matplotlib!=3.6.1,>=3.4->seaborn) (3.1.1)\n",
      "Requirement already satisfied: python-dateutil>=2.7 in /home/aisulu/msci-project/lib/python3.11/site-packages (from matplotlib!=3.6.1,>=3.4->seaborn) (2.8.2)\n",
      "Requirement already satisfied: pytz>=2020.1 in /home/aisulu/msci-project/lib/python3.11/site-packages (from pandas>=1.2->seaborn) (2024.1)\n",
      "Requirement already satisfied: tzdata>=2022.7 in /home/aisulu/msci-project/lib/python3.11/site-packages (from pandas>=1.2->seaborn) (2024.1)\n",
      "Requirement already satisfied: six>=1.5 in /home/aisulu/msci-project/lib/python3.11/site-packages (from python-dateutil>=2.7->matplotlib!=3.6.1,>=3.4->seaborn) (1.16.0)\n",
      "Downloading seaborn-0.13.2-py3-none-any.whl (294 kB)\n",
      "\u001b[2K   \u001b[90m━━━━━━━━━━━━━━━━━━━━━━━━━━━━━━━━━━━━━━━━\u001b[0m \u001b[32m294.9/294.9 kB\u001b[0m \u001b[31m11.2 MB/s\u001b[0m eta \u001b[36m0:00:00\u001b[0m\n",
      "\u001b[?25hInstalling collected packages: seaborn\n",
      "Successfully installed seaborn-0.13.2\n"
     ]
    }
   ],
   "source": [
    "!pip install seaborn"
   ]
  },
  {
   "cell_type": "code",
   "execution_count": 3,
   "id": "b1bbf44f-6ec7-4db9-823a-19ad86ffa65c",
   "metadata": {},
   "outputs": [],
   "source": [
    "from functools import lru_cache\n",
    "import numpy as np\n",
    "import matplotlib.pyplot as plt\n",
    "import math\n",
    "import pandas as pd\n",
    "import seaborn as sns\n",
    "import warnings\n",
    "import camb\n",
    "from tqdm import tqdm\n",
    "warnings.filterwarnings(\"ignore\")\n",
    "'''\n",
    "theta = [h0, ombh2, omch2, logAs, ns]\n",
    "where As = 1e-10np.exp(logAs)\n",
    "'''\n",
    "def sim(theta):\n",
    "    hubble = theta[0]*100\n",
    "    As = 1e-10 * np.exp(theta[3])\n",
    "    pars = camb.CAMBparams()\n",
    "    pars.set_cosmology(H0=hubble, ombh2=theta[1], omch2=theta[2])\n",
    "    pars.InitPower.set_params(As=As, ns=theta[4])\n",
    "    pars.set_for_lmax(2500, lens_potential_accuracy=0)\n",
    "    results = camb.get_results(pars)\n",
    "    powers = results.get_cmb_power_spectra(pars, CMB_unit='muK', raw_cl=True)\n",
    "    total = powers['total'][:, 0][2:2500]\n",
    "    return total\n",
    "    \n",
    "def cov_matrix(vals):\n",
    "    ells = np.arange(2501)[2:2500]\n",
    "    V = np.diag(vals**2)*2 / ((2*ells+1))\n",
    "    return V\n",
    "\n",
    "@lru_cache(maxsize=64) \n",
    "def log_Likelihood_cached(theta_key):\n",
    "    theta = np.array(theta_key)  \n",
    "    return log_Likelihood_internal(theta)\n",
    "\n",
    "def log_Likelihood(theta, data):\n",
    "    theta_key = tuple(theta)\n",
    "    return log_Likelihood_cached(theta_key)\n",
    "\n",
    "def log_Likelihood_internal(theta):\n",
    "  try:\n",
    "    vals = sim(theta)\n",
    "    d_minus_mu = np.subtract(vals, data)\n",
    "    V = cov_matrix(vals)\n",
    "    V_inv = np.linalg.inv(V)\n",
    "    e_factor = -0.5 * np.matmul(d_minus_mu.T, np.matmul(V_inv, d_minus_mu))\n",
    "    factor = np.sqrt(2 * np.pi * np.linalg.norm(V))\n",
    "    result = e_factor - np.log(factor)\n",
    "    return result\n",
    "  except: \n",
    "    return -1e-15\n",
    "\n",
    "\n",
    "data = sim([0.676, 0.0220, 0.122, 3.085, 0.964])"
   ]
  },
  {
   "cell_type": "code",
   "execution_count": 4,
   "id": "3afdab55-26de-4cfa-9147-e33b44228322",
   "metadata": {},
   "outputs": [
    {
     "data": {
      "text/plain": [
       "[<matplotlib.lines.Line2D at 0x7fbae669cfd0>]"
      ]
     },
     "execution_count": 4,
     "metadata": {},
     "output_type": "execute_result"
    },
    {
     "data": {
      "image/png": "[encoded data removed]",
      "text/plain": [
       "<Figure size 640x480 with 1 Axes>"
      ]
     },
     "metadata": {},
     "output_type": "display_data"
    }
   ],
   "source": [
    "ells = np.arange(2501)[2:2500]\n",
    "data_dls = ells*(ells+1) / (2*np.pi) * data\n",
    "plt.plot(ells, data_dls)"
   ]
  },
  {
   "cell_type": "code",
   "execution_count": 5,
   "id": "5381ba97-2817-4270-a4ec-5c0e9ad1225e",
   "metadata": {},
   "outputs": [],
   "source": [
    "def MH_sampler_5params(M,N,theta_in,sigma):\n",
    "    h_accepted = []\n",
    "    ombh2_accepted = []\n",
    "    omch2_accepted = []\n",
    "    As_accepted = []\n",
    "    ns_accepted = []\n",
    "    acceptance_likelihood = []\n",
    "    Naccepted = []\n",
    "\n",
    "    for i in range(M):\n",
    "        Naccept = 0\n",
    "        h_accept = [theta_in[0][i]]\n",
    "        ombh2_accept     = [theta_in[1][i]]\n",
    "        omch2_accept = [theta_in[2][i]]\n",
    "        As_accept = [theta_in[3][i]]\n",
    "        ns_accept = [theta_in[4][i]]\n",
    "        acpt_lkhd    = []\n",
    "        # theta_accept = np.array([alpha_accept, a_accept, b_accept, c_accept, d_accept, e_accept, f_accept])\n",
    "        for j in tqdm(range(N)):  \n",
    "            theta_accept = np.array([h_accept[-1], ombh2_accept[-1], omch2_accept[-1], As_accept[-1], ns_accept[-1]])\n",
    "            #Generating random values of h and Omega_m in range (0,1) with Gaussian proposal distribution\n",
    "            h_random = np.random.normal(h_accept[-1], sigma[0]) \n",
    "            ombh2_random     = np.random.normal(ombh2_accept[-1], sigma[1])\n",
    "            omch2_random = np.random.normal(omch2_accept[-1], sigma[2]) \n",
    "            As_random = np.random.normal(As_accept[-1], sigma[3]) \n",
    "            ns_random = np.random.normal(ns_accept[-1], sigma[4])      \n",
    "            theta_random = [h_random, ombh2_random, omch2_random,As_random,ns_random]   \n",
    "\n",
    "            #Calulating log of likelihood of these randomly generated \n",
    "            new_log_L = log_Likelihood(theta_random, data)\n",
    "\n",
    "            '''\n",
    "            calulating acceptance probability and taking minimum of 1 and ratio of likelihood of new value of parameters to\n",
    "            previous accepted values. If the ratio of likelihood is increased then it is accepted without condition.\n",
    "            But if the likelihood goes down in next step then it would be accepted with uniform probability.\n",
    "            '''\n",
    "\n",
    "            acc_lkh = min(np.exp(new_log_L - log_Likelihood(theta_accept, data)), 1)\n",
    "\n",
    "            if np.random.uniform(0, 1) < acc_lkh:\n",
    "                h_accept   = np.append(h_accept, h_random)\n",
    "                ombh2_accept       = np.append(ombh2_accept, ombh2_random)\n",
    "                omch2_accept   = np.append(omch2_accept, omch2_random)\n",
    "                As_accept   = np.append(As_accept, As_random)\n",
    "                ns_accept   = np.append(ns_accept, ns_random)\n",
    "                acpt_lkhd           = np.append(acpt_lkhd, new_log_L)\n",
    "                Naccept+=1\n",
    "\n",
    "        h_accepted.append(h_accept)\n",
    "        ombh2_accepted.append(ombh2_accept)\n",
    "        omch2_accepted.append(omch2_accept)\n",
    "        As_accepted.append(As_accept)\n",
    "        ns_accepted.append(ns_accept)\n",
    "        #print(h_accepted)\n",
    "        #print(ombh2_accepted)\n",
    "        #print(omch2_accepted)\n",
    "        #print(As_accepted)\n",
    "        #print(ns_accepted)\n",
    "        acceptance_likelihood.append(acpt_lkhd)\n",
    "        Naccepted.append(Naccept)\n",
    "        theta_accepted = np.array([h_accepted, ombh2_accepted, omch2_accepted, As_accepted, ns_accepted], dtype = object)\n",
    "    return theta_accepted, acceptance_likelihood, Naccepted"
   ]
  },
  {
   "cell_type": "code",
   "execution_count": null,
   "id": "e93a53c1-c7df-46ab-b520-1532739f8ec8",
   "metadata": {},
   "outputs": [
    {
     "name": "stderr",
     "output_type": "stream",
     "text": [
      "  4%|███▍                                                                               | 334/8000 [09:31<3:32:52,  1.67s/it]"
     ]
    }
   ],
   "source": [
    "M = 10\n",
    "N = 8000\n",
    "sigma = [0.004, 0.0005, 0.001, 0.005, 0.003]\n",
    "theta_in = np.array([[0.5, 0.6, 0.7, 0.8, 0.9],\n",
    "                     [0.01, 0.022, 0.015, 0.025, 0.03],\n",
    "                     [0.122, 0.01, 0.05, 0.2, 0.3],\n",
    "                     [3.0, 3.10, 3.2, 3.08, 3.4],\n",
    "                     [0.9, 0.95, 0.97, 0.96, 0.965]])\n",
    "theta_accepted, acceptance_likelihood, Naccepted = MH_sampler_5params(M,N,theta_in, sigma)"
   ]
  },
  {
   "cell_type": "code",
   "execution_count": null,
   "id": "71ef7f2c-165d-4155-8a1d-8df81ea7b4d9",
   "metadata": {},
   "outputs": [],
   "source": []
  }
 ],
 "metadata": {
  "kernelspec": {
   "display_name": "Python 3 (ipykernel)",
   "language": "python",
   "name": "python3"
  },
  "language_info": {
   "codemirror_mode": {
    "name": "ipython",
    "version": 3
   },
   "file_extension": ".py",
   "mimetype": "text/x-python",
   "name": "python",
   "nbconvert_exporter": "python",
   "pygments_lexer": "ipython3",
   "version": "3.11.2"
  }
 },
 "nbformat": 4,
 "nbformat_minor": 5
}
