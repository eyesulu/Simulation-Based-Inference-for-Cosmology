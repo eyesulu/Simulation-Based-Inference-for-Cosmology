{
 "cells": [
  {
   "cell_type": "markdown",
   "id": "3a9d74cf-692e-4bde-983d-8afaf20acf2c",
   "metadata": {},
   "source": [
    "# Fisrt we define a simulator"
   ]
  },
  {
   "cell_type": "markdown",
   "id": "2d4f9b3a-4f04-4d0e-aafd-93cd19acad1c",
   "metadata": {},
   "source": [
    "## In this example we will use Class to generate $C_l$"
   ]
  },
  {
   "cell_type": "markdown",
   "id": "3c502e15-e394-4b6d-8b0c-a9d56df695d8",
   "metadata": {},
   "source": [
    "### First, let us import the required packages "
   ]
  },
  {
   "cell_type": "code",
   "execution_count": 10,
   "id": "0eebcf74-04a9-4e65-b1bc-b5c0ed54419a",
   "metadata": {},
   "outputs": [],
   "source": [
    "#Below we define paths to some files that are required for simulations\n",
    "import sys\n",
    "import numpy as np\n",
    "#path_to_file = 'path/to/cosmoped'\n",
    "#this is the path to the CosMOPED package in case if u want to use MOPED compression otherwise ignore\n",
    "path_to_file = '/Users/aisulu/Desktop/moped_sbi/cosmoped'\n",
    "if path_to_file not in sys.path:\n",
    "    sys.path.append(path_to_file)\n",
    "#path=path/to/compression_vectors\n",
    "path='/Users/aisulu/Desktop/report_code/LambdaCDM/'\n",
    "\n",
    "#file_path = path/to/experimental_noise noise compatible with the Planck experiment\n",
    "#this is the path to the noise file compatible with the Planck experiment\n",
    "#if you do not include experiemntal noise in your simulations, ignore\n",
    "file_path = '/Users/aisulu/Desktop/report_code/noise_fake_planck_realistic_two.dat'\n",
    "try:\n",
    "    fpr = np.loadtxt(file_path)\n",
    "except FileNotFoundError:\n",
    "    print(f\"File '{file_path}' not found.\")\n",
    "except Exception as e:\n",
    "    print(f\"An error occurred: {e}\")\n",
    "\n",
    "#Now we load the actual packages\n",
    "import matplotlib.pyplot as plt\n",
    "import healpy as hp\n",
    "from classy import Class\n",
    "from copy import deepcopy\n",
    "from scipy import stats\n",
    "import pickle\n",
    "from cosmoped_likelihood import CosMOPED\n",
    "\n",
    "#Below is just for plots\n",
    "%matplotlib inline\n",
    "plt.rcParams['font.family'] = 'serif'\n",
    "plt.rcParams['font.serif'] = 'Times New Roman'\n",
    "plt.rcParams['font.size'] = 12"
   ]
  },
  {
   "cell_type": "markdown",
   "id": "d518e297-d213-4ff7-98b0-c45d303b76b8",
   "metadata": {},
   "source": [
    "### Define certain constants such as $l_{max}$ and also get the MOPED compression vectors"
   ]
  },
  {
   "cell_type": "code",
   "execution_count": 5,
   "id": "d7d2e0e9-a49c-468d-9ef0-0b2f523788e2",
   "metadata": {},
   "outputs": [],
   "source": [
    "lmax=2500\n",
    "fsky=1.0\n",
    "ell=np.array([l for l in range(2,lmax+1)])\n",
    "ells=ell*(ell+1)/(2*np.pi)\n",
    "\n",
    "Nltt = fpr[ell-2,1] #this is experimental noise in TT polarisation\n",
    "\n",
    "TT2018=CosMOPED(path, year=2018, spectra='TT', use_low_ell_bins=False) #to get compression vectors\n",
    "compression_vector_dict, compressed_data_dict = TT2018.read_compression_vectors_and_compressed_data(path)\n",
    "compress_vec_h = compression_vector_dict['h'][:2499]\n",
    "compress_vec_ombh2 = compression_vector_dict['omega_b'][:2499]\n",
    "compress_vec_omch2 = compression_vector_dict['omega_cdm'][:2499]\n",
    "compress_vec_As = compression_vector_dict['A_s'][:2499]\n",
    "compress_vec_ns = compression_vector_dict['n_s'][:2499]"
   ]
  },
  {
   "cell_type": "markdown",
   "id": "f5c368da-d782-45d5-8952-31042b731aa1",
   "metadata": {},
   "source": [
    "### Define the simulator which uses Class"
   ]
  },
  {
   "cell_type": "code",
   "execution_count": 23,
   "id": "8e3e0fd9-dd5c-4976-b806-f737f4570332",
   "metadata": {},
   "outputs": [],
   "source": [
    "def simulator(v, exp_noise = True):\n",
    "    V=np.around(v, decimals=6)\n",
    "    h, omega_b, omega_cdm, lnAs,n_s=V[0],V[1],V[2],V[3],V[4]\n",
    "    A_s=np.exp(lnAs)/ 1.e10\n",
    "    params = {\n",
    "        'output': 'tCl pCl lCl',\n",
    "        'l_max_scalars': lmax,\n",
    "        'lensing': 'yes',\n",
    "        'h': h,\n",
    "        'omega_b': omega_b,\n",
    "        'omega_cdm': omega_cdm,\n",
    "        'A_s': A_s,\n",
    "        'n_s': n_s,\n",
    "    }\n",
    "    cosmo = Class()\n",
    "    cosmo.set(params)\n",
    "    try:\n",
    "        cosmo.compute(['lensing'])\n",
    "        cls = cosmo.lensed_cl(lmax)\n",
    "        T=cosmo.T_cmb()\n",
    "        cosmo.struct_cleanup()\n",
    "        cosmo.empty()\n",
    "        if exp_noise == True:\n",
    "            return dict(TT=cls['tt'][ell]*(T*1.e6)**2+Nltt)\n",
    "        else: \n",
    "            return dict(TT=cls['tt'][ell]*(T*1.e6)**2)\n",
    "    except Exception as e:\n",
    "        print(\"a simulation failed!\")\n",
    "        print(f\"An error occurred: {e}\")\n",
    "        return dict(TT=np.nan)"
   ]
  },
  {
   "cell_type": "markdown",
   "id": "eefb6a6f-544b-4506-9f15-8afa799550d7",
   "metadata": {},
   "source": [
    "### Define fiducial cosmology"
   ]
  },
  {
   "cell_type": "code",
   "execution_count": 17,
   "id": "10d91c93-b431-4c67-b6d3-bfc5b0f62584",
   "metadata": {},
   "outputs": [
    {
     "data": {
      "image/png": "[encoded data removed]",
      "text/plain": [
       "<Figure size 800x500 with 1 Axes>"
      ]
     },
     "metadata": {},
     "output_type": "display_data"
    }
   ],
   "source": [
    "pl=[0.676, 0.0224, 0.12, 3.0753, 0.965]\n",
    "obs = simulator(pl)\n",
    "\n",
    "plt.figure(figsize = (8, 5))\n",
    "plt.plot(obs['TT']*ells, label = r'without noise', color = 'red')\n",
    "plt.xlabel('Multipole Moment ($l$)')\n",
    "plt.ylabel(r'$C_l \\frac{l(l+1)}{2 \\pi}$')\n",
    "plt.legend(frameon=False, loc = 'upper left')\n",
    "plt.yscale('log')\n",
    "plt.xscale('log')"
   ]
  },
  {
   "cell_type": "markdown",
   "id": "d8fb90bf-fe00-407b-88c2-a261e6f5b40e",
   "metadata": {},
   "source": [
    "### Define the covariance matrix"
   ]
  },
  {
   "cell_type": "code",
   "execution_count": 19,
   "id": "d8d8e95b-5b10-4bca-86cf-61f8367d88cf",
   "metadata": {},
   "outputs": [],
   "source": [
    "covmat=np.diag(obs['TT']**2)*2/((2*ell+1)*fsky)\n",
    "icovmat=np.linalg.inv(covmat)"
   ]
  },
  {
   "cell_type": "markdown",
   "id": "3de773ed-3fd1-4f07-930c-275a10a47a21",
   "metadata": {},
   "source": [
    "### Generate noise vectors"
   ]
  },
  {
   "cell_type": "code",
   "execution_count": 20,
   "id": "ce9ea88d-4593-4a3f-a5d9-942d00002da7",
   "metadata": {},
   "outputs": [],
   "source": [
    "noisevecs = np.random.multivariate_normal(np.zeros(2499),covmat,size=100000)"
   ]
  },
  {
   "cell_type": "markdown",
   "id": "0b8fad6c-baab-4b1b-ac7a-6b1166fe3b59",
   "metadata": {},
   "source": [
    "### Define the noise model"
   ]
  },
  {
   "cell_type": "markdown",
   "id": "b3323007-6da6-4fad-b048-edad4250cc3f",
   "metadata": {},
   "source": [
    "Use the Wishart distribution for cosmic variance "
   ]
  },
  {
   "cell_type": "code",
   "execution_count": 21,
   "id": "55076c90-6cef-4e44-802e-748d56c9c188",
   "metadata": {},
   "outputs": [],
   "source": [
    "def noise(power_spectrum):\n",
    "    cat = np.array(power_spectrum['TT'])\n",
    "    CLTT=[]\n",
    "    for l in range(2,2+49):\n",
    "        nm=int(np.round(fsky*(2*l+1)))\n",
    "        g1=np.random.randn(nm)\n",
    "        almT=np.sqrt(power_spectrum['TT'][l-2])*g1\n",
    "        CLTT.append((((nm))**-1 *np.sum((almT**2))))\n",
    "    NN=noisevecs[np.random.randint(0,100000)]\n",
    "    noise=np.concatenate((np.zeros(29+20), NN[29+20:2499]))\n",
    "    cat[:49]=np.array(CLTT)\n",
    "    cat=cat+noise\n",
    "    return {'TT': cat[:2499]}"
   ]
  },
  {
   "cell_type": "markdown",
   "id": "b43f5fd5-e0d2-4b2c-aae7-a0e9c3b35c8a",
   "metadata": {},
   "source": [
    "### Testing the simulator with  fiducial cosmology"
   ]
  },
  {
   "cell_type": "code",
   "execution_count": 25,
   "id": "e5057d64-2330-4734-8f55-3b35cac4cfeb",
   "metadata": {},
   "outputs": [
    {
     "data": {
      "text/plain": [
       "<matplotlib.legend.Legend at 0x7fec9ff8f8b0>"
      ]
     },
     "execution_count": 25,
     "metadata": {},
     "output_type": "execute_result"
    },
    {
     "data": {
      "image/png": "[encoded data removed]",
      "text/plain": [
       "<Figure size 640x480 with 1 Axes>"
      ]
     },
     "metadata": {},
     "output_type": "display_data"
    }
   ],
   "source": [
    "np.random.seed(0)\n",
    "pl=[0.676, 0.0224, 0.12, 3.0753, 0.965]\n",
    "obs = simulator(pl)\n",
    "obs2 = simulator(pl, exp_noise = False) #for power spectrum with no experimental noise and no cosmic variance\n",
    "plt.plot(noise(obs)['TT']*ells, label = 'with noise', color = 'black');\n",
    "plt.plot(obs2['TT']*ells, label = 'without noise', color = 'red');\n",
    "plt.yscale('log');\n",
    "plt.xscale('log');\n",
    "plt.xlabel('Multipole Moment ($l$)')\n",
    "plt.ylabel(r'$C_l \\frac{l(l+1)}{2 \\pi}$')\n",
    "plt.ylim([50, 20500])\n",
    "plt.legend(frameon=False)"
   ]
  },
  {
   "cell_type": "markdown",
   "id": "d481fbe5-74f7-45ec-99ec-8a7ea4850ff1",
   "metadata": {},
   "source": [
    "# To do SBI we need to define a reasonable prior"
   ]
  },
  {
   "cell_type": "markdown",
   "id": "25e568ff-177e-4db3-9090-ac57c65bb04b",
   "metadata": {},
   "source": [
    "## Finite derivative"
   ]
  },
  {
   "cell_type": "code",
   "execution_count": 26,
   "id": "ad403665-f6fe-445e-821c-6e4d99c2df81",
   "metadata": {},
   "outputs": [],
   "source": [
    "def finiteD(k, eps=1e-2):\n",
    "    parr=list(pl)\n",
    "    parr[k]=pl[k]*(1+eps)\n",
    "    parr2=list(pl)\n",
    "    parr2[k]=pl[k]*(1-eps)\n",
    "    m1=simulator(parr)\n",
    "    m2=simulator(parr2)\n",
    "    output=(m1['TT']-m2['TT'])/(pl[k]*(2*eps))\n",
    "    return output\n",
    "\n",
    "ders=[finiteD(i) for i in range(5)]"
   ]
  },
  {
   "cell_type": "markdown",
   "id": "49c19b44-489d-431c-b149-35c2786f8b7e",
   "metadata": {},
   "source": [
    "## Compute Fisher matrix"
   ]
  },
  {
   "cell_type": "code",
   "execution_count": 27,
   "id": "f944472f-6331-4765-9af5-46827ded22dc",
   "metadata": {},
   "outputs": [],
   "source": [
    "F=np.zeros((5,5))\n",
    "for i in range(5):\n",
    "    for j in range(5):\n",
    "        d1=ders[i]\n",
    "        if i != j: \n",
    "            d2=ders[j]\n",
    "        else: \n",
    "            d2=d1\n",
    "        term1=np.dot(d1,np.matmul(icovmat,d2))\n",
    "        F[i,j]=term1\n",
    "\n",
    "Finv=np.linalg.inv(F)"
   ]
  },
  {
   "cell_type": "markdown",
   "id": "3b2b8453-57fb-4181-9b2e-084efe4a13ed",
   "metadata": {},
   "source": [
    "## Check approximation "
   ]
  },
  {
   "cell_type": "code",
   "execution_count": 30,
   "id": "6d61db4e-3806-4ea8-a50f-290a92c1442e",
   "metadata": {},
   "outputs": [
    {
     "name": "stdout",
     "output_type": "stream",
     "text": [
      "0.9995755484274969\n",
      "0.9993960289177947\n",
      "0.9992149130543785\n",
      "0.9997619545057851\n",
      "0.999978095274557\n"
     ]
    }
   ],
   "source": [
    "#For good approximation printed values must be close to one\n",
    "def lnL(fid,test):\n",
    "    diff = np.array(fid['TT']-test['TT'])\n",
    "    exp = -0.5*np.dot(diff, np.matmul(icovmat, diff))\n",
    "    scale = np.sqrt(2*np.pi*np.linalg.norm(icovmat))\n",
    "    return exp - np.log(scale)\n",
    "def finiteD2LNL(k, eps=1e-2):\n",
    "    parr=list(pl)\n",
    "    parr[k]=pl[k]*(1+eps)\n",
    "    parr2=list(pl)\n",
    "    parr2[k]=pl[k]*(1-eps)\n",
    "    m1=simulator(parr)\n",
    "    m2=simulator(parr2)\n",
    "    m0=simulator(pl)\n",
    "    return (lnL(m0,m1)+lnL(m0,m2)-2*lnL(m0,m0))/(pl[k]*eps)**2\n",
    "f00=finiteD2LNL(0)\n",
    "f11=finiteD2LNL(1)\n",
    "f22=finiteD2LNL(2)\n",
    "f33=finiteD2LNL(3)\n",
    "f44=finiteD2LNL(4)\n",
    "\n",
    "print(-F[0][0]/f00)\n",
    "print(-F[1][1]/f11)\n",
    "print(-F[2][2]/f22)\n",
    "print(-F[3][3]/f33)\n",
    "print(-F[4][4]/f44)"
   ]
  },
  {
   "cell_type": "markdown",
   "id": "bb20302a-ae73-4169-925c-d9b6d875f3d0",
   "metadata": {},
   "source": [
    "## Compute sigmas"
   ]
  },
  {
   "cell_type": "code",
   "execution_count": 33,
   "id": "7b3470f2-7dd5-47f1-90fa-197bf5cdd931",
   "metadata": {},
   "outputs": [
    {
     "name": "stdout",
     "output_type": "stream",
     "text": [
      "[0.007280314019205051, 0.00016000424178571937, 0.001652310824066368, 0.003472400357728407, 0.004155629403002546]\n"
     ]
    }
   ],
   "source": [
    "sigss=[]\n",
    "for i in range(5): sigss.append(np.sqrt(Finv[i,i]));\n",
    "print(sigss)"
   ]
  },
  {
   "cell_type": "code",
   "execution_count": 34,
   "id": "7c57b3b2-7e42-42d0-bddf-80d73721a39e",
   "metadata": {},
   "outputs": [],
   "source": [
    "sigss = [0.007280314019205051, 0.00016000424178571937, 0.001652310824066368, 0.003472400357728407, 0.004155629403002546] \n",
    "#we save sigss so that we dont need to redo the whole process again and can just run this cell"
   ]
  },
  {
   "cell_type": "markdown",
   "id": "b10a6783-46d7-4b48-810f-238fc27e52d1",
   "metadata": {},
   "source": [
    "## Define a unifrom prior"
   ]
  },
  {
   "cell_type": "markdown",
   "id": "cc015be0-8a0a-4e96-adef-01bba73f894c",
   "metadata": {},
   "source": [
    "### A reasonable prior has a width of 10 sigmas. We want to have a very wide prior to experiment with truncation"
   ]
  },
  {
   "cell_type": "code",
   "execution_count": 36,
   "id": "827f2a64-9856-4f40-9617-b566f789519f",
   "metadata": {},
   "outputs": [
    {
     "name": "stdout",
     "output_type": "stream",
     "text": [
      "[0.5012724635390788, 0.018559898197142734, 0.08034454022240717, 2.991962391414518, 0.8652648943279388]\n",
      "[0.8507275364609213, 0.026240101802857265, 0.15965545977759282, 3.1586376085854817, 1.064735105672061]\n"
     ]
    }
   ],
   "source": [
    "def find_bounds(k):\n",
    "    hw = 24 * sigss[k]\n",
    "    min = pl[k] - hw\n",
    "    max = pl[k] + hw\n",
    "    return min, max\n",
    "param_min = []\n",
    "param_max = []\n",
    "for i in range(5):\n",
    "    min, max = find_bounds(i)\n",
    "    param_min.append(min)\n",
    "    param_max.append(max)\n",
    "\n",
    "print(param_min)\n",
    "print(param_max)"
   ]
  },
  {
   "cell_type": "code",
   "execution_count": 37,
   "id": "5bd21f58-3b25-472e-89ec-dd7e4e683b2d",
   "metadata": {},
   "outputs": [],
   "source": [
    "param_min = [0.5012724635390788, 0.018559898197142734, 0.08034454022240717, 2.991962391414518, 0.8652648943279388]\n",
    "param_max = [0.8507275364609213, 0.026240101802857265, 0.15965545977759282, 3.1586376085854817, 1.064735105672061]"
   ]
  },
  {
   "cell_type": "markdown",
   "id": "b84f2d25-d249-4c30-b4e8-4adf71562026",
   "metadata": {},
   "source": [
    "# MOPED compression"
   ]
  },
  {
   "cell_type": "code",
   "execution_count": 39,
   "id": "f4a2a21b-d8c1-41c2-86a6-dfcbc1439ed2",
   "metadata": {},
   "outputs": [],
   "source": [
    "def moped_compress(power_spectrum):\n",
    "    output = [compress_vec_h.dot(power_spectrum), compress_vec_ombh2.dot(power_spectrum), compress_vec_omch2.dot(power_spectrum), \n",
    "              compress_vec_As.dot(power_spectrum),compress_vec_ns.dot(power_spectrum)] \n",
    "    #note that power_spectrum must be given in cls, not dls\n",
    "    #the way that compression vectors are computed means that the order matters!\n",
    "    return output"
   ]
  },
  {
   "cell_type": "markdown",
   "id": "e4df3eb0-49de-4356-937a-22eaf5474ee5",
   "metadata": {},
   "source": [
    "# Here we define simulator wrappers to make it easier for us to use later"
   ]
  },
  {
   "cell_type": "code",
   "execution_count": 41,
   "id": "b2f48a40-f50a-43b1-89fd-c364fc121914",
   "metadata": {},
   "outputs": [],
   "source": [
    "def simulator_wrapper_moped(params):\n",
    "    sim = simulator(np.array(params))\n",
    "    noise_sim = noise(sim)['TT']\n",
    "    compressed = moped_compress(noise_sim)\n",
    "    return compressed\n",
    "\n",
    "def simulator_wrapper(params):\n",
    "    sim = simulator(np.array(params))\n",
    "    noise_sim = noise(sim)['TT']\n",
    "    uncompressed = noise_sim*ells #to train NN on dl_hats instead of cl_hats\n",
    "    return uncompressed\n",
    "\n",
    "def simulator_wrapper_moped_xo(params):\n",
    "    #for \"noiseless\" data, use a rescaled observation. This is mainly to compare with \"typical\" forecasting MCMC\n",
    "    sim = simulator(np.array(params))\n",
    "    for i in range(49):\n",
    "        l=i+2\n",
    "        nm=np.round(fsky*(2*l+1))\n",
    "        sim['TT'][i]*=((nm-1)/(nm-2))**-0.5\n",
    "    cltt = sim['TT']\n",
    "    compressed = moped_compress(cltt) #the x_o for sbi\n",
    "    return compressed\n",
    "    \n",
    "def simulator_wrapper_xo(params):\n",
    "    #for \"noiseless\" data, use a rescaled observation. This is mainly to compare with \"typical\" forecasting MCMC\n",
    "    sim = simulator(np.array(params))\n",
    "    for i in range(49):\n",
    "        l=i+2\n",
    "        nm=np.round(fsky*(2*l+1))\n",
    "        sim['TT'][i]*=((nm-1)/(nm-2))**-0.5\n",
    "    cltt = sim['TT']\n",
    "    uncompressed = cltt*ells #the x_o for sbi\n",
    "    return uncompressed"
   ]
  },
  {
   "cell_type": "markdown",
   "id": "f85377ba-c9c5-4459-8c03-6cc33caa1962",
   "metadata": {},
   "source": [
    "### Lets check simulators"
   ]
  },
  {
   "cell_type": "code",
   "execution_count": 42,
   "id": "d81ab1d7-9846-484f-aa39-fce0c3eff59b",
   "metadata": {},
   "outputs": [],
   "source": [
    "#For uncompressed data\n",
    "obs = simulator_wrapper_xo(pl)\n",
    "obs_noisy = simulator_wrapper(pl)\n",
    "\n",
    "#For compressed data\n",
    "obs_comp = simulator_wrapper_moped(pl)\n",
    "obs_comp_noisy = simulator_wrapper_moped_xo(pl)"
   ]
  },
  {
   "cell_type": "code",
   "execution_count": 43,
   "id": "0d9bd438-5967-49ae-83dd-b546a02ecd2b",
   "metadata": {},
   "outputs": [
    {
     "data": {
      "text/plain": [
       "<matplotlib.legend.Legend at 0x7febda34acd0>"
      ]
     },
     "execution_count": 43,
     "metadata": {},
     "output_type": "execute_result"
    },
    {
     "data": {
      "image/png": "[encoded data removed]",
      "text/plain": [
       "<Figure size 640x480 with 1 Axes>"
      ]
     },
     "metadata": {},
     "output_type": "display_data"
    }
   ],
   "source": [
    "plt.plot(obs_noisy, label = 'with noise', color = 'black');\n",
    "plt.plot(obs, label = 'without noise', color = 'red');\n",
    "plt.yscale('log');\n",
    "plt.xscale('log');\n",
    "plt.xlabel('Multipole Moment ($l$)')\n",
    "plt.ylabel(r'$C_l \\frac{l(l+1)}{2 \\pi}$')\n",
    "plt.ylim([50, 20500])\n",
    "plt.legend(frameon=False)"
   ]
  },
  {
   "cell_type": "code",
   "execution_count": 50,
   "id": "202ad2f7-1725-447c-8057-9d7d9e56c659",
   "metadata": {},
   "outputs": [
    {
     "name": "stdout",
     "output_type": "stream",
     "text": [
      "[40.17202355348796, -374.3224056190632, -329.5996997153745, 82.80387574860652, -458.34449364202146]\n",
      "[40.916065562024656, -375.08000057475914, -330.8041589505855, 82.36023190474184, -457.04285418499836]\n"
     ]
    }
   ],
   "source": [
    "print(obs_comp)\n",
    "print(obs_comp_noisy)"
   ]
  },
  {
   "cell_type": "code",
   "execution_count": null,
   "id": "340199f6-7fc6-4ce7-ad6d-1102822f1ca9",
   "metadata": {},
   "outputs": [],
   "source": []
  }
 ],
 "metadata": {
  "kernelspec": {
   "display_name": "Python 3 (ipykernel)",
   "language": "python",
   "name": "python3"
  },
  "language_info": {
   "codemirror_mode": {
    "name": "ipython",
    "version": 3
   },
   "file_extension": ".py",
   "mimetype": "text/x-python",
   "name": "python",
   "nbconvert_exporter": "python",
   "pygments_lexer": "ipython3",
   "version": "3.8.18"
  }
 },
 "nbformat": 4,
 "nbformat_minor": 5
}
