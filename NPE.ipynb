{
 "cells": [
  {
   "cell_type": "markdown",
   "id": "e16ae7ea-e012-41c0-b1fb-e4bea16a0f0c",
   "metadata": {},
   "source": [
    "# We use sbi package to perform NPE"
   ]
  },
  {
   "cell_type": "markdown",
   "id": "ba984b7e-55e1-491b-9cc6-6014b1b8d974",
   "metadata": {},
   "source": [
    "### Importing the packages"
   ]
  },
  {
   "cell_type": "code",
   "execution_count": 1,
   "id": "84330423-fe5a-4f70-8db4-b08a87ebe446",
   "metadata": {},
   "outputs": [
    {
     "name": "stderr",
     "output_type": "stream",
     "text": [
      "2024-04-24 18:46:00.193729: I tensorflow/core/platform/cpu_feature_guard.cc:182] This TensorFlow binary is optimized to use available CPU instructions in performance-critical operations.\n",
      "To enable the following instructions: AVX2 FMA, in other operations, rebuild TensorFlow with the appropriate compiler flags.\n"
     ]
    }
   ],
   "source": [
    "import numpy as np\n",
    "import matplotlib.pyplot as plt\n",
    "import healpy as hp\n",
    "import pandas as pd\n",
    "from classy import Class\n",
    "from copy import deepcopy\n",
    "import torch\n",
    "import sbi\n",
    "from sbi import utils as utils\n",
    "from sbi import analysis as analysis\n",
    "from sbi.inference.base import infer\n",
    "from sbi.inference import SNPE, prepare_for_sbi, simulate_for_sbi\n",
    "import sys\n",
    "from scipy import stats\n",
    "from sbi.utils.get_nn_models import posterior_nn\n",
    "import pickle\n",
    "\n",
    "\n",
    "#path_to_file = 'path/to/cosmoped'\n",
    "path_to_file = '/Users/aisulu/Desktop/moped_sbi/cosmoped'\n",
    "if path_to_file not in sys.path:\n",
    "    sys.path.append(path_to_file)\n",
    "\n",
    "from cosmoped_likelihood import CosMOPED\n",
    "\n",
    "DEVICE = 'gpu' if torch.cuda.is_available() else 'cpu'\n",
    "\n",
    "plt.rcParams['font.family'] = 'serif'\n",
    "plt.rcParams['font.serif'] = 'Times New Roman'\n",
    "plt.rcParams['font.size'] = 12\n",
    "\n",
    "file_path = '/Users/aisulu/Desktop/report_code/noise_fake_planck_realistic_two.dat'\n",
    "\n",
    "try:\n",
    "    fpr = np.loadtxt(file_path)\n",
    "except FileNotFoundError:\n",
    "    print(f\"File '{file_path}' not found.\")\n",
    "except Exception as e:\n",
    "    print(f\"An error occurred: {e}\")\n",
    "\n",
    "lmax=2500\n",
    "fsky=1.0\n",
    "ell=np.array([l for l in range(2,lmax+1)])\n",
    "ells=ell*(ell+1)/(2*np.pi)\n",
    "\n",
    "Nltt = fpr[ell-2,1]\n",
    "\n",
    "path='/Users/aisulu/Desktop/report_code/LambdaCDM/'\n",
    "TT2018=CosMOPED(path, year=2018, spectra='TT', use_low_ell_bins=False)\n",
    "\n",
    "compression_vector_dict, compressed_data_dict = TT2018.read_compression_vectors_and_compressed_data(path)\n",
    "compress_vec_h = compression_vector_dict['h'][:2499]\n",
    "compress_vec_ombh2 = compression_vector_dict['omega_b'][:2499]\n",
    "compress_vec_omch2 = compression_vector_dict['omega_cdm'][:2499]\n",
    "compress_vec_As = compression_vector_dict['A_s'][:2499]\n",
    "compress_vec_ns = compression_vector_dict['n_s'][:2499]"
   ]
  },
  {
   "cell_type": "code",
   "execution_count": null,
   "id": "fd7de0ae-c47a-4222-87cd-a66c063d6f09",
   "metadata": {},
   "outputs": [],
   "source": []
  }
 ],
 "metadata": {
  "kernelspec": {
   "display_name": "Python 3 (ipykernel)",
   "language": "python",
   "name": "python3"
  },
  "language_info": {
   "codemirror_mode": {
    "name": "ipython",
    "version": 3
   },
   "file_extension": ".py",
   "mimetype": "text/x-python",
   "name": "python",
   "nbconvert_exporter": "python",
   "pygments_lexer": "ipython3",
   "version": "3.8.18"
  }
 },
 "nbformat": 4,
 "nbformat_minor": 5
}
