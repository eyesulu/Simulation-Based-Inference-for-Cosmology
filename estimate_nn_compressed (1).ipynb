{
 "cells": [
  {
   "cell_type": "code",
   "execution_count": 62,
   "metadata": {},
   "outputs": [],
   "source": [
    "import camb\n",
    "import healpy\n",
    "import mcmc_functions as func\n",
    "import tensorflow as tf\n",
    "import numpy as np\n",
    "import matplotlib.pyplot as plt"
   ]
  },
  {
   "cell_type": "code",
   "execution_count": 63,
   "metadata": {},
   "outputs": [],
   "source": [
    "import tensorflow as tf\n",
    "import numpy as np\n",
    "\n",
    "# Input data as an array/list\n",
    "def compressor(original_data, out_dim):\n",
    "    original_data = original_data.reshape(1, -1)\n",
    "    print(original_data.shape[1])\n",
    "    input_dim = original_data.shape[1]\n",
    "    compressed_dim = out_dim\n",
    "\n",
    "    # Encoder\n",
    "    # Linear compression from the Dense layer. Default activation is Linear anyway.\n",
    "    encoder_input = tf.keras.layers.Input(shape=(input_dim,))\n",
    "    encoder_output = tf.keras.layers.Dense(compressed_dim, activation='linear')(encoder_input)\n",
    "    encoder = tf.keras.Model(encoder_input, encoder_output)\n",
    "\n",
    "    # Decoder\n",
    "    decoder_input = tf.keras.layers.Input(shape=(compressed_dim,))\n",
    "    decoder_output = tf.keras.layers.Dense(input_dim, activation='linear')(decoder_input)\n",
    "    decoder = tf.keras.Model(decoder_input, decoder_output)\n",
    "\n",
    "    # Combined autoencoder\n",
    "    autoencoder_input = tf.keras.layers.Input(shape=(input_dim,))\n",
    "    encoded = encoder(autoencoder_input)\n",
    "    decoded = decoder(encoded)\n",
    "    autoencoder = tf.keras.Model(autoencoder_input, decoded)\n",
    "\n",
    "    autoencoder.compile(optimizer='adam', loss='binary_crossentropy')\n",
    "    history = autoencoder.fit(original_data, original_data, epochs=10, batch_size=32)\n",
    "    compressed_data = encoder.predict(original_data)\n",
    "\n",
    "    # Decompress the data\n",
    "    #reconstructed_data = decoder.predict(compressed_data)\n",
    "\n",
    "\n",
    "    # Weights of the encoder\n",
    "    encoder_weights = encoder.get_weights()\n",
    "    print(\"Encoder Weights:\", encoder_weights)\n",
    "\n",
    "    # Weights of the decoder\n",
    "    #decoder_weights = decoder.get_weights()\n",
    "    #print(\"Decoder Weights:\", decoder_weights)\n",
    "\n",
    "    return compressed_data, encoder_weights, history.history\n"
   ]
  },
  {
   "cell_type": "code",
   "execution_count": 64,
   "metadata": {},
   "outputs": [
    {
     "name": "stdout",
     "output_type": "stream",
     "text": [
      "[6.70628757e+00 5.48602673e+00 5.97028843e+00 ... 7.43068293e-05\n",
      " 7.24131709e-05 7.11836491e-05]\n"
     ]
    }
   ],
   "source": [
    "observed_values = {'H0':67.6/1000, \n",
    "                   'ombh2': 0.0220, \n",
    "                   'omch2': 0.122, \n",
    "                   'mnu': 0.061, \n",
    "                   'tau': 0.050,\n",
    "                   'As': 2.05e-9, \n",
    "                   'ns': 0.964}\n",
    "\n",
    "observed_spectrum_cls, observed_spectrum_cl_hats = func.generate_cmb_power_spectrum(observed_values, cl_hats = True)\n",
    "\n",
    "print(observed_spectrum_cl_hats)"
   ]
  },
  {
   "cell_type": "code",
   "execution_count": 81,
   "metadata": {},
   "outputs": [
    {
     "name": "stdout",
     "output_type": "stream",
     "text": [
      "2470\n",
      "Epoch 1/10\n",
      "1/1 [==============================] - 0s 329ms/sample - loss: 1.6470\n",
      "Epoch 2/10\n",
      "1/1 [==============================] - 0s 2ms/sample - loss: 1.5818\n",
      "Epoch 3/10\n",
      "1/1 [==============================] - 0s 2ms/sample - loss: 1.5548\n",
      "Epoch 4/10\n",
      "1/1 [==============================] - 0s 1ms/sample - loss: 1.5095\n",
      "Epoch 5/10\n",
      "1/1 [==============================] - 0s 2ms/sample - loss: 1.4565\n",
      "Epoch 6/10\n",
      "1/1 [==============================] - 0s 1ms/sample - loss: 1.4399\n",
      "Epoch 7/10\n",
      "1/1 [==============================] - 0s 1ms/sample - loss: 1.4085\n",
      "Epoch 8/10\n",
      "1/1 [==============================] - 0s 1ms/sample - loss: 1.3939\n",
      "Epoch 9/10\n",
      "1/1 [==============================] - 0s 1ms/sample - loss: 1.3841\n",
      "Epoch 10/10\n",
      "1/1 [==============================] - 0s 1ms/sample - loss: 1.3646\n",
      "Encoder Weights: [array([[-0.03060651, -0.01011062, -0.01139071, ...,  0.03924708,\n",
      "         0.04743247,  0.01558641],\n",
      "       [-0.00497834, -0.03133076,  0.03148477, ..., -0.02302297,\n",
      "        -0.00308172,  0.04656019],\n",
      "       [ 0.03391781, -0.02953454, -0.01516739, ...,  0.00380067,\n",
      "        -0.00908328, -0.04096319],\n",
      "       ...,\n",
      "       [-0.03578834,  0.00203371, -0.01699959, ...,  0.03694814,\n",
      "        -0.03747372,  0.01322324],\n",
      "       [ 0.00303496, -0.03622226, -0.03008891, ...,  0.02934886,\n",
      "         0.04138746, -0.00107451],\n",
      "       [-0.04145717, -0.03663596, -0.03793521, ...,  0.0005397 ,\n",
      "         0.01750115, -0.03689365]], dtype=float32), array([-0.00378986,  0.00227084, -0.00480994, -0.00460057, -0.00395912,\n",
      "        0.00253145, -0.00206453], dtype=float32)]\n",
      "[[-0.8880896  0.3254641 -2.569509  -3.192087  -2.3701901  0.8775327\n",
      "  -0.2647794]]\n"
     ]
    }
   ],
   "source": [
    "compressed_data, weights, h = compressor(observed_spectrum_cl_hats, 7)\n",
    "print(compressed_data)"
   ]
  },
  {
   "cell_type": "code",
   "execution_count": 82,
   "metadata": {},
   "outputs": [
    {
     "data": {
      "image/png": "[encoded data removed]",
      "text/plain": [
       "<Figure size 432x288 with 1 Axes>"
      ]
     },
     "metadata": {
      "needs_background": "light"
     },
     "output_type": "display_data"
    }
   ],
   "source": [
    "plt.plot(h['loss'])\n",
    "plt.show()"
   ]
  },
  {
   "cell_type": "code",
   "execution_count": 94,
   "metadata": {},
   "outputs": [
    {
     "name": "stdout",
     "output_type": "stream",
     "text": [
      "(1, 7)\n",
      "(7, 2470)\n",
      "(1, 2470)\n",
      "(2470, 7)\n"
     ]
    }
   ],
   "source": [
    "nn_weights = weights[0]\n",
    "bias = weights[1]\n",
    "\n",
    "# REWRITE THIS\n",
    "print(compressed_data.shape)\n",
    "print(np.transpose(nn_weights).shape)\n",
    "print(np.matmul(compressed_data, np.transpose(nn_weights)).shape)\n",
    "print(nn_weights.shape)"
   ]
  },
  {
   "cell_type": "code",
   "execution_count": 97,
   "metadata": {},
   "outputs": [
    {
     "name": "stdout",
     "output_type": "stream",
     "text": [
      "(1, 7)\n",
      "[[-2.2488608   0.8527664  -5.675568   -7.129945   -5.384793    2.278563\n",
      "  -0.44086188]]\n"
     ]
    },
    {
     "ename": "LinAlgError",
     "evalue": "Last 2 dimensions of the array must be square",
     "output_type": "error",
     "traceback": [
      "\u001b[0;31m---------------------------------------------------------------------------\u001b[0m",
      "\u001b[0;31mLinAlgError\u001b[0m                               Traceback (most recent call last)",
      "\u001b[0;32m<ipython-input-97-1116fc622d6e>\u001b[0m in \u001b[0;36m<module>\u001b[0;34m\u001b[0m\n\u001b[1;32m      2\u001b[0m \u001b[0mprint\u001b[0m\u001b[0;34m(\u001b[0m\u001b[0mcov_matrix\u001b[0m\u001b[0;34m.\u001b[0m\u001b[0mshape\u001b[0m\u001b[0;34m)\u001b[0m\u001b[0;34m\u001b[0m\u001b[0;34m\u001b[0m\u001b[0m\n\u001b[1;32m      3\u001b[0m \u001b[0mprint\u001b[0m\u001b[0;34m(\u001b[0m\u001b[0mcov_matrix\u001b[0m\u001b[0;34m)\u001b[0m\u001b[0;34m\u001b[0m\u001b[0;34m\u001b[0m\u001b[0m\n\u001b[0;32m----> 4\u001b[0;31m \u001b[0minv_cov_matrix\u001b[0m \u001b[0;34m=\u001b[0m \u001b[0mnp\u001b[0m\u001b[0;34m.\u001b[0m\u001b[0mlinalg\u001b[0m\u001b[0;34m.\u001b[0m\u001b[0minv\u001b[0m\u001b[0;34m(\u001b[0m\u001b[0mcov_matrix\u001b[0m\u001b[0;34m)\u001b[0m\u001b[0;34m\u001b[0m\u001b[0;34m\u001b[0m\u001b[0m\n\u001b[0m",
      "\u001b[0;32m<__array_function__ internals>\u001b[0m in \u001b[0;36minv\u001b[0;34m(*args, **kwargs)\u001b[0m\n",
      "\u001b[0;32m~/.local/lib/python3.6/site-packages/numpy/linalg/linalg.py\u001b[0m in \u001b[0;36minv\u001b[0;34m(a)\u001b[0m\n\u001b[1;32m    539\u001b[0m     \u001b[0ma\u001b[0m\u001b[0;34m,\u001b[0m \u001b[0mwrap\u001b[0m \u001b[0;34m=\u001b[0m \u001b[0m_makearray\u001b[0m\u001b[0;34m(\u001b[0m\u001b[0ma\u001b[0m\u001b[0;34m)\u001b[0m\u001b[0;34m\u001b[0m\u001b[0;34m\u001b[0m\u001b[0m\n\u001b[1;32m    540\u001b[0m     \u001b[0m_assert_stacked_2d\u001b[0m\u001b[0;34m(\u001b[0m\u001b[0ma\u001b[0m\u001b[0;34m)\u001b[0m\u001b[0;34m\u001b[0m\u001b[0;34m\u001b[0m\u001b[0m\n\u001b[0;32m--> 541\u001b[0;31m     \u001b[0m_assert_stacked_square\u001b[0m\u001b[0;34m(\u001b[0m\u001b[0ma\u001b[0m\u001b[0;34m)\u001b[0m\u001b[0;34m\u001b[0m\u001b[0;34m\u001b[0m\u001b[0m\n\u001b[0m\u001b[1;32m    542\u001b[0m     \u001b[0mt\u001b[0m\u001b[0;34m,\u001b[0m \u001b[0mresult_t\u001b[0m \u001b[0;34m=\u001b[0m \u001b[0m_commonType\u001b[0m\u001b[0;34m(\u001b[0m\u001b[0ma\u001b[0m\u001b[0;34m)\u001b[0m\u001b[0;34m\u001b[0m\u001b[0;34m\u001b[0m\u001b[0m\n\u001b[1;32m    543\u001b[0m \u001b[0;34m\u001b[0m\u001b[0m\n",
      "\u001b[0;32m~/.local/lib/python3.6/site-packages/numpy/linalg/linalg.py\u001b[0m in \u001b[0;36m_assert_stacked_square\u001b[0;34m(*arrays)\u001b[0m\n\u001b[1;32m    202\u001b[0m         \u001b[0mm\u001b[0m\u001b[0;34m,\u001b[0m \u001b[0mn\u001b[0m \u001b[0;34m=\u001b[0m \u001b[0ma\u001b[0m\u001b[0;34m.\u001b[0m\u001b[0mshape\u001b[0m\u001b[0;34m[\u001b[0m\u001b[0;34m-\u001b[0m\u001b[0;36m2\u001b[0m\u001b[0;34m:\u001b[0m\u001b[0;34m]\u001b[0m\u001b[0;34m\u001b[0m\u001b[0;34m\u001b[0m\u001b[0m\n\u001b[1;32m    203\u001b[0m         \u001b[0;32mif\u001b[0m \u001b[0mm\u001b[0m \u001b[0;34m!=\u001b[0m \u001b[0mn\u001b[0m\u001b[0;34m:\u001b[0m\u001b[0;34m\u001b[0m\u001b[0;34m\u001b[0m\u001b[0m\n\u001b[0;32m--> 204\u001b[0;31m             \u001b[0;32mraise\u001b[0m \u001b[0mLinAlgError\u001b[0m\u001b[0;34m(\u001b[0m\u001b[0;34m'Last 2 dimensions of the array must be square'\u001b[0m\u001b[0;34m)\u001b[0m\u001b[0;34m\u001b[0m\u001b[0;34m\u001b[0m\u001b[0m\n\u001b[0m\u001b[1;32m    205\u001b[0m \u001b[0;34m\u001b[0m\u001b[0m\n\u001b[1;32m    206\u001b[0m \u001b[0;32mdef\u001b[0m \u001b[0m_assert_finite\u001b[0m\u001b[0;34m(\u001b[0m\u001b[0;34m*\u001b[0m\u001b[0marrays\u001b[0m\u001b[0;34m)\u001b[0m\u001b[0;34m:\u001b[0m\u001b[0;34m\u001b[0m\u001b[0;34m\u001b[0m\u001b[0m\n",
      "\u001b[0;31mLinAlgError\u001b[0m: Last 2 dimensions of the array must be square"
     ]
    }
   ],
   "source": [
    "cov_matrix = np.matmul(np.matmul(compressed_data, np.transpose(nn_weights)), nn_weights)\n",
    "print(cov_matrix.shape)\n",
    "print(cov_matrix)\n",
    "inv_cov_matrix = np.linalg.inv(cov_matrix)\n"
   ]
  },
  {
   "cell_type": "code",
   "execution_count": 46,
   "metadata": {},
   "outputs": [
    {
     "name": "stdout",
     "output_type": "stream",
     "text": [
      "[3.88437021e+00 6.46193360e+00 7.37317295e+00 ... 7.49584172e-05\n",
      " 7.31876769e-05 7.23930266e-05]\n"
     ]
    }
   ],
   "source": [
    "print(observed_spectrum_cl_hats)"
   ]
  },
  {
   "cell_type": "code",
   "execution_count": null,
   "metadata": {},
   "outputs": [],
   "source": [
    "import emcee\n",
    "\n",
    "import emcee\n",
    "import numpy as np\n",
    "\n",
    "\n",
    "observed_values = {'H0':67.6/1000, \n",
    "                   'ombh2': 0.0220, \n",
    "                   'omch2': 0.122, \n",
    "                   'mnu': 0.061, \n",
    "                   'tau': 0.050,\n",
    "                   'As': 2.05e-9, \n",
    "                   'ns': 0.964}\n",
    "\n",
    "def log_likelihood(theta):\n",
    "    H0, ombh2 = theta\n",
    "    observed_values['H0'] = H0\n",
    "    observed_values['ombh2'] = ombh2\n",
    "    \n",
    "    observed_spectrum_cls, observed_spectrum_cl_hats = func.generate_cmb_power_spectrum(observed_values, cl_hats = True)\n",
    "    \n",
    "    cov_matrix = func.calc_cov_theory(observed_spectrum_cls)\n",
    "    inv_cov_matrix = np.linalg.inv(cov_matrix)\n",
    "    probability = func.log_likelihood(observed_spectrum_cl_hats,fiducial_spectrum_cls,\n",
    "                                    cov_matrix)\n",
    "    \n",
    "    return probability\n",
    "\n",
    "\n",
    "# Define the prior distribution\n",
    "def log_prior(theta):\n",
    "    H0, ombh2 = theta\n",
    "    print(theta)\n",
    "    if 0.06 < H0 < 0.073 and 0.01 < ombh2 < 0.04:\n",
    "        return 0.0\n",
    "    return -np.inf\n",
    "\n",
    "# Combine into the full log-probability function\n",
    "def log_probability(theta):\n",
    "    lp = log_prior(theta)\n",
    "    print(lp, estimate(theta))\n",
    "    if not np.isfinite(lp):\n",
    "        return -np.inf\n",
    "    return lp + estimate(theta)\n",
    "\n",
    "# Example values for fiducial_dls and ls_range\n",
    "fiducial_dls = fiducial_dataset_dl\n",
    "ls_range = np.arange(10, max_index)\n",
    "\n",
    "# Initialize the walkers\n",
    "nwalkers, ndim = 20, 2\n",
    "p0 = [0.066, 0.025] + 1e-5 * np.random.randn(nwalkers, ndim)\n",
    "                                                                                                                                                                                                                                                                                                                                                                                                                                                                                                                                                                                                                                                                                                                                                                                                                                                                                                                                                                                                                                                                                                                                                                                                                                                                                                                                                                                                                                                                                                                                                                                                                                                                                                                                                                                                                                                                                                                                                                                                                                                                                                                                                                                                                                                                                                                                                                                                                                                                                                                                                                                                                                                                                                                                                      \n",
    "sampler = emcee.EnsembleSampler(nwalkers, ndim, estimate)\n",
    "\n"
   ]
  },
  {
   "cell_type": "code",
   "execution_count": null,
   "metadata": {},
   "outputs": [],
   "source": [
    "sampler.run_mcmc(p0, 500, progress=True)\n",
    "\n",
    "# Get the chain of sampled parameters\n",
    "samples = sampler.get_chain(flat=True)"
   ]
  },
  {
   "cell_type": "code",
   "execution_count": null,
   "metadata": {},
   "outputs": [],
   "source": [
    "import pickle\n",
    "\n",
    "with open('outputs/nn.pkl', 'wb') as f:\n",
    "    pickle.dump(samples, f)\n"
   ]
  },
  {
   "cell_type": "code",
   "execution_count": null,
   "metadata": {},
   "outputs": [],
   "source": [
    "fig, axes = plt.subplots(ndim, figsize=(10, 7), sharex=True)\n",
    "for i in range(ndim):\n",
    "    ax = axes[i]\n",
    "    ax.plot(samples[:, i], \"k\", alpha=0.3)\n",
    "    ax.set_xlim(0, len(samples))\n",
    "    ax.set_ylabel([\"H0\", \"ombh2\"][i]) \n",
    "    ax.yaxis.set_label_coords(-0.1, 0.5)\n",
    "\n",
    "axes[-1].set_xlabel(\"Step number\")\n",
    "plt.show()"
   ]
  },
  {
   "cell_type": "code",
   "execution_count": null,
   "metadata": {},
   "outputs": [],
   "source": [
    "import corner\n",
    "\n",
    "fig = corner.corner(samples, smooth = 4.0, labels=[\"H0\", \"ombh2\"],\n",
    "                    truths=[0.70, 0.0022])  \n",
    "plt.show()\n",
    "print(samples.shape[0])"
   ]
  },
  {
   "cell_type": "code",
   "execution_count": null,
   "metadata": {},
   "outputs": [],
   "source": []
  }
 ],
 "metadata": {
  "kernelspec": {
   "display_name": "Python 3",
   "language": "python",
   "name": "python3"
  },
  "language_info": {
   "codemirror_mode": {
    "name": "ipython",
    "version": 3
   },
   "file_extension": ".py",
   "mimetype": "text/x-python",
   "name": "python",
   "nbconvert_exporter": "python",
   "pygments_lexer": "ipython3",
   "version": "3.6.8"
  }
 },
 "nbformat": 4,
 "nbformat_minor": 2
}
