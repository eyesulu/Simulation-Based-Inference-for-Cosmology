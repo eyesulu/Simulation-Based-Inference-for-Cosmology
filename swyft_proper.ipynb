{
  "cells": [
    {
      "cell_type": "code",
      "source": [
        "!pip install swyft\n",
        "!pip install camb"
      ],
      "outputs": [
        {
          "output_type": "stream",
          "name": "stdout",
          "text": "Requirement already satisfied: swyft in /anaconda/envs/azureml_py38/lib/python3.8/site-packages (0.4.5)\nRequirement already satisfied: torch>=1.10.2 in /anaconda/envs/azureml_py38/lib/python3.8/site-packages (from swyft) (1.12.0)\nRequirement already satisfied: torchist>=0.1.7 in /anaconda/envs/azureml_py38/lib/python3.8/site-packages (from swyft) (0.2.2)\nRequirement already satisfied: fasteners>=0.17 in /anaconda/envs/azureml_py38/lib/python3.8/site-packages (from swyft) (0.19)\nRequirement already satisfied: matplotlib>=3.1.3 in /anaconda/envs/azureml_py38/lib/python3.8/site-packages (from swyft) (3.2.1)\nRequirement already satisfied: toolz>=0.10.0 in /anaconda/envs/azureml_py38/lib/python3.8/site-packages (from swyft) (0.12.0)\nRequirement already satisfied: pytorch-lightning<=1.9.5,>=1.5.10 in /anaconda/envs/azureml_py38/lib/python3.8/site-packages (from swyft) (1.9.5)\nRequirement already satisfied: scipy>=1.4.1 in /anaconda/envs/azureml_py38/lib/python3.8/site-packages (from swyft) (1.5.3)\nRequirement already satisfied: zarr>=2.5.0 in /anaconda/envs/azureml_py38/lib/python3.8/site-packages (from swyft) (2.16.1)\nRequirement already satisfied: numpy>=1.18.1 in /anaconda/envs/azureml_py38/lib/python3.8/site-packages (from swyft) (1.21.6)\nRequirement already satisfied: typing-extensions in /anaconda/envs/azureml_py38/lib/python3.8/site-packages (from torch>=1.10.2->swyft) (4.6.0)\nRequirement already satisfied: cycler>=0.10 in /anaconda/envs/azureml_py38/lib/python3.8/site-packages (from matplotlib>=3.1.3->swyft) (0.11.0)\nRequirement already satisfied: kiwisolver>=1.0.1 in /anaconda/envs/azureml_py38/lib/python3.8/site-packages (from matplotlib>=3.1.3->swyft) (1.4.4)\nRequirement already satisfied: pyparsing!=2.0.4,!=2.1.2,!=2.1.6,>=2.0.1 in /anaconda/envs/azureml_py38/lib/python3.8/site-packages (from matplotlib>=3.1.3->swyft) (3.1.0)\nRequirement already satisfied: python-dateutil>=2.1 in /anaconda/envs/azureml_py38/lib/python3.8/site-packages (from matplotlib>=3.1.3->swyft) (2.8.2)\nRequirement already satisfied: fsspec[http]>2021.06.0 in /anaconda/envs/azureml_py38/lib/python3.8/site-packages (from pytorch-lightning<=1.9.5,>=1.5.10->swyft) (2023.5.0)\nRequirement already satisfied: packaging>=17.1 in /anaconda/envs/azureml_py38/lib/python3.8/site-packages (from pytorch-lightning<=1.9.5,>=1.5.10->swyft) (23.0)\nRequirement already satisfied: PyYAML>=5.4 in /anaconda/envs/azureml_py38/lib/python3.8/site-packages (from pytorch-lightning<=1.9.5,>=1.5.10->swyft) (6.0)\nRequirement already satisfied: lightning-utilities>=0.6.0.post0 in /anaconda/envs/azureml_py38/lib/python3.8/site-packages (from pytorch-lightning<=1.9.5,>=1.5.10->swyft) (0.10.1)\nRequirement already satisfied: torchmetrics>=0.7.0 in /anaconda/envs/azureml_py38/lib/python3.8/site-packages (from pytorch-lightning<=1.9.5,>=1.5.10->swyft) (1.3.0.post0)\nRequirement already satisfied: tqdm>=4.57.0 in /anaconda/envs/azureml_py38/lib/python3.8/site-packages (from pytorch-lightning<=1.9.5,>=1.5.10->swyft) (4.65.0)\nRequirement already satisfied: numcodecs>=0.10.0 in /anaconda/envs/azureml_py38/lib/python3.8/site-packages (from zarr>=2.5.0->swyft) (0.12.1)\nRequirement already satisfied: asciitree in /anaconda/envs/azureml_py38/lib/python3.8/site-packages (from zarr>=2.5.0->swyft) (0.3.3)\nRequirement already satisfied: six>=1.5 in /anaconda/envs/azureml_py38/lib/python3.8/site-packages (from python-dateutil>=2.1->matplotlib>=3.1.3->swyft) (1.16.0)\nRequirement already satisfied: requests; extra == \"http\" in /anaconda/envs/azureml_py38/lib/python3.8/site-packages (from fsspec[http]>2021.06.0->pytorch-lightning<=1.9.5,>=1.5.10->swyft) (2.31.0)\nRequirement already satisfied: aiohttp!=4.0.0a0,!=4.0.0a1; extra == \"http\" in /anaconda/envs/azureml_py38/lib/python3.8/site-packages (from fsspec[http]>2021.06.0->pytorch-lightning<=1.9.5,>=1.5.10->swyft) (3.8.4)\nRequirement already satisfied: setuptools in /anaconda/envs/azureml_py38/lib/python3.8/site-packages (from lightning-utilities>=0.6.0.post0->pytorch-lightning<=1.9.5,>=1.5.10->swyft) (65.6.3)\nRequirement already satisfied: certifi>=2017.4.17 in /anaconda/envs/azureml_py38/lib/python3.8/site-packages (from requests; extra == \"http\"->fsspec[http]>2021.06.0->pytorch-lightning<=1.9.5,>=1.5.10->swyft) (2022.9.24)\nRequirement already satisfied: charset-normalizer<4,>=2 in /anaconda/envs/azureml_py38/lib/python3.8/site-packages (from requests; extra == \"http\"->fsspec[http]>2021.06.0->pytorch-lightning<=1.9.5,>=1.5.10->swyft) (3.1.0)\nRequirement already satisfied: urllib3<3,>=1.21.1 in /anaconda/envs/azureml_py38/lib/python3.8/site-packages (from requests; extra == \"http\"->fsspec[http]>2021.06.0->pytorch-lightning<=1.9.5,>=1.5.10->swyft) (1.26.16)\nRequirement already satisfied: idna<4,>=2.5 in /anaconda/envs/azureml_py38/lib/python3.8/site-packages (from requests; extra == \"http\"->fsspec[http]>2021.06.0->pytorch-lightning<=1.9.5,>=1.5.10->swyft) (3.4)\nRequirement already satisfied: multidict<7.0,>=4.5 in /anaconda/envs/azureml_py38/lib/python3.8/site-packages (from aiohttp!=4.0.0a0,!=4.0.0a1; extra == \"http\"->fsspec[http]>2021.06.0->pytorch-lightning<=1.9.5,>=1.5.10->swyft) (6.0.4)\nRequirement already satisfied: async-timeout<5.0,>=4.0.0a3 in /anaconda/envs/azureml_py38/lib/python3.8/site-packages (from aiohttp!=4.0.0a0,!=4.0.0a1; extra == \"http\"->fsspec[http]>2021.06.0->pytorch-lightning<=1.9.5,>=1.5.10->swyft) (4.0.2)\nRequirement already satisfied: attrs>=17.3.0 in /anaconda/envs/azureml_py38/lib/python3.8/site-packages (from aiohttp!=4.0.0a0,!=4.0.0a1; extra == \"http\"->fsspec[http]>2021.06.0->pytorch-lightning<=1.9.5,>=1.5.10->swyft) (23.1.0)\nRequirement already satisfied: aiosignal>=1.1.2 in /anaconda/envs/azureml_py38/lib/python3.8/site-packages (from aiohttp!=4.0.0a0,!=4.0.0a1; extra == \"http\"->fsspec[http]>2021.06.0->pytorch-lightning<=1.9.5,>=1.5.10->swyft) (1.3.1)\nRequirement already satisfied: frozenlist>=1.1.1 in /anaconda/envs/azureml_py38/lib/python3.8/site-packages (from aiohttp!=4.0.0a0,!=4.0.0a1; extra == \"http\"->fsspec[http]>2021.06.0->pytorch-lightning<=1.9.5,>=1.5.10->swyft) (1.3.3)\nRequirement already satisfied: yarl<2.0,>=1.0 in /anaconda/envs/azureml_py38/lib/python3.8/site-packages (from aiohttp!=4.0.0a0,!=4.0.0a1; extra == \"http\"->fsspec[http]>2021.06.0->pytorch-lightning<=1.9.5,>=1.5.10->swyft) (1.9.2)\nRequirement already satisfied: camb in /anaconda/envs/azureml_py38/lib/python3.8/site-packages (1.5.4)\nRequirement already satisfied: scipy>=1.0 in /anaconda/envs/azureml_py38/lib/python3.8/site-packages (from camb) (1.5.3)\nRequirement already satisfied: sympy>=1.0 in /anaconda/envs/azureml_py38/lib/python3.8/site-packages (from camb) (1.12)\nRequirement already satisfied: packaging in /anaconda/envs/azureml_py38/lib/python3.8/site-packages (from camb) (23.0)\nRequirement already satisfied: numpy>=1.14.5 in /anaconda/envs/azureml_py38/lib/python3.8/site-packages (from scipy>=1.0->camb) (1.21.6)\nRequirement already satisfied: mpmath>=0.19 in /anaconda/envs/azureml_py38/lib/python3.8/site-packages (from sympy>=1.0->camb) (1.3.0)\n"
        }
      ],
      "execution_count": 2,
      "metadata": {}
    },
    {
      "cell_type": "code",
      "source": [
        "import numpy as np\n",
        "import matplotlib.pyplot as plt\n",
        "import torch\n",
        "import pickle\n",
        "from tqdm import tqdm\n",
        "import swyft\n",
        "import camb\n",
        "import pandas as pd\n",
        "DEVICE = 'gpu' if torch.cuda.is_available() else 'cpu'"
      ],
      "outputs": [],
      "execution_count": 3,
      "metadata": {
        "jupyter": {
          "source_hidden": false,
          "outputs_hidden": false
        },
        "nteract": {
          "transient": {
            "deleting": false
          }
        },
        "gather": {
          "logged": 1706476737384
        }
      }
    },
    {
      "cell_type": "code",
      "source": [
        "DEVICE"
      ],
      "outputs": [
        {
          "output_type": "execute_result",
          "execution_count": 4,
          "data": {
            "text/plain": "'cpu'"
          },
          "metadata": {}
        }
      ],
      "execution_count": 4,
      "metadata": {
        "jupyter": {
          "source_hidden": false,
          "outputs_hidden": false
        },
        "nteract": {
          "transient": {
            "deleting": false
          }
        },
        "gather": {
          "logged": 1706476737541
        }
      }
    },
    {
      "cell_type": "code",
      "source": [
        "class Network3(swyft.SwyftModule):\n",
        "    def __init__(self):\n",
        "        super().__init__()\n",
        "        self.learning_rate = 1e-6\n",
        "        self.net = torch.nn.Sequential(\n",
        "            torch.nn.Linear(128, 256),\n",
        "            #torch.nn.Dropout(0.05),\n",
        "            torch.nn.ReLU(),\n",
        "            torch.nn.Linear(256, 512),\n",
        "            #torch.nn.Dropout(0.05),\n",
        "            torch.nn.ReLU(),\n",
        "            torch.nn.Linear(512, 256),\n",
        "            #torch.nn.Dropout(0.05),\n",
        "            torch.nn.ReLU(),\n",
        "            torch.nn.Linear(256, 128),\n",
        "            #torch.nn.Dropout(0.05),\n",
        "            torch.nn.ReLU(),\n",
        "            torch.nn.Linear(128, 64),\n",
        "            #torch.nn.Dropout(0.05),\n",
        "            torch.nn.ReLU(),\n",
        "            torch.nn.Linear(64, 32),\n",
        "            #torch.nn.Dropout(0.05),\n",
        "            torch.nn.ReLU(),\n",
        "            torch.nn.Linear(32, 16),\n",
        "            #torch.nn.Dropout(0.05),\n",
        "            torch.nn.ReLU(),\n",
        "            torch.nn.Linear(16, 8),\n",
        "            #torch.nn.Dropout(0.05),\n",
        "            torch.nn.ReLU())\n",
        "        self.logratios = swyft.LogRatioEstimator_1dim(num_features = 8, num_params = 5, varnames = 'z')\n",
        "\n",
        "    def forward(self, A, B):\n",
        "      s = self.net(A['x'])\n",
        "      return self.logratios(s, B['z']), s"
      ],
      "outputs": [],
      "execution_count": 5,
      "metadata": {
        "jupyter": {
          "source_hidden": false,
          "outputs_hidden": false
        },
        "nteract": {
          "transient": {
            "deleting": false
          }
        },
        "gather": {
          "logged": 1706476737650
        }
      }
    },
    {
      "cell_type": "code",
      "source": [
        "cls = np.load('cls.npy')\n",
        "pars = np.load('params.npy')"
      ],
      "outputs": [],
      "execution_count": 6,
      "metadata": {
        "jupyter": {
          "source_hidden": false,
          "outputs_hidden": false
        },
        "nteract": {
          "transient": {
            "deleting": false
          }
        },
        "gather": {
          "logged": 1706476807518
        }
      }
    },
    {
      "cell_type": "code",
      "source": [
        "cls_short = [item[:128] for item in cls]"
      ],
      "outputs": [],
      "execution_count": 7,
      "metadata": {
        "jupyter": {
          "source_hidden": false,
          "outputs_hidden": false
        },
        "nteract": {
          "transient": {
            "deleting": false
          }
        },
        "gather": {
          "logged": 1706476807662
        }
      }
    },
    {
      "cell_type": "code",
      "source": [
        "def generate_camb_cl(H0=67.5, ombh2=0.022, omch2=0.122, mnu=0.06, omk=0,\n",
        "                     tau=0.06, logA=3.05, ns=0.965, r=0, w = -1, wa = 0):\n",
        "    \"\"\" Generate a temperature power spectrum given cosmological parameters\"\"\"\n",
        "    As = 1e-10 * np.exp(logA)\n",
        "    pars = camb.CAMBparams()\n",
        "    pars.set_cosmology(H0=H0, ombh2=ombh2, omch2=omch2, mnu=mnu, omk=omk, tau=tau)\n",
        "    pars.InitPower.set_params(As=As, ns=ns, r=r)\n",
        "    if (w != -1 or wa != 0):\n",
        "        pars.DarkEnergy = DarkEnergyPPF(w=w, wa=wa)\n",
        "    pars.set_for_lmax(2500, lens_potential_accuracy=0);\n",
        "    pars.NonLinear = camb.model.NonLinear_none\n",
        "    results = camb.get_results(pars)\n",
        "    powers = results.get_cmb_power_spectra(pars, CMB_unit='muK')\n",
        "    totCL = powers['total']\n",
        "    return totCL[2:, 0]\n",
        "\n",
        "obs = generate_camb_cl()\n",
        "obs_pars = [67.5, 0.022, 0.122, 3.05, 0.965]"
      ],
      "outputs": [],
      "execution_count": 8,
      "metadata": {
        "jupyter": {
          "source_hidden": false,
          "outputs_hidden": false
        },
        "nteract": {
          "transient": {
            "deleting": false
          }
        },
        "gather": {
          "logged": 1706476810642
        }
      }
    },
    {
      "cell_type": "code",
      "source": [
        "obs_sample = swyft.Sample(x = torch.tensor(obs), z = torch.tensor(obs_pars))\n",
        "samples = swyft.Samples(x = torch.tensor(cls_short), z = torch.tensor(pars))\n",
        "dm_full = swyft.SwyftDataModule(samples, batch_size = 64)"
      ],
      "outputs": [
        {
          "output_type": "stream",
          "name": "stderr",
          "text": "/tmp/ipykernel_4575/2246489196.py:2: UserWarning: Creating a tensor from a list of numpy.ndarrays is extremely slow. Please consider converting the list to a single numpy.ndarray with numpy.array() before converting to a tensor. (Triggered internally at  ../torch/csrc/utils/tensor_new.cpp:204.)\n  samples = swyft.Samples(x = torch.tensor(cls_short), z = torch.tensor(pars))\n"
        }
      ],
      "execution_count": 9,
      "metadata": {
        "jupyter": {
          "source_hidden": false,
          "outputs_hidden": false
        },
        "nteract": {
          "transient": {
            "deleting": false
          }
        },
        "gather": {
          "logged": 1706476813817
        }
      }
    },
    {
      "cell_type": "code",
      "source": [
        "maxs = np.array([90, 0.05, 0.5, 3.5, 1])\n",
        "mins = np.array([50, 0.01, 0.01, 1.5, 0.8])\n",
        "N = 10000\n",
        "H0_rand = np.random.uniform(mins[0], maxs[0], N)\n",
        "ombh2_rand = np.random.uniform(mins[1], maxs[1], N)\n",
        "omch2_rand = np.random.uniform(mins[2], maxs[2], N)\n",
        "logA_rand = np.random.uniform(mins[3], maxs[3], N)\n",
        "ns_rand = np.random.uniform(mins[4], maxs[4], N)\n",
        "\n",
        "z_prior = []\n",
        "for i in range(N):\n",
        "  z_prior.append([H0_rand[i], ombh2_rand[i], omch2_rand[i], logA_rand[i], ns_rand[i]])\n",
        "prior_samples = swyft.Samples(z = torch.tensor(z_prior))\n"
      ],
      "outputs": [],
      "execution_count": 10,
      "metadata": {
        "jupyter": {
          "source_hidden": false,
          "outputs_hidden": false
        },
        "nteract": {
          "transient": {
            "deleting": false
          }
        },
        "gather": {
          "logged": 1706476824949
        }
      }
    },
    {
      "cell_type": "code",
      "source": [
        "#import tensorflow as tf\n",
        "#from pytorch_lightning import loggers as pl_loggers\n",
        "#from pytorch_lightning.callbacks.early_stopping import EarlyStopping\n",
        "#from pytorch_lightning.callbacks import LearningRateMonitor\n",
        "\n",
        "#logger = pl_loggers.TensorBoardLogger(save_dir='logs/', name='test', version=None)\n",
        "#early_stopping_callback = EarlyStopping(monitor='val_loss', min_delta = 0., patience=1, verbose=True, mode='min')\n",
        "#lr_monitor = LearningRateMonitor(logging_interval='step')\n",
        "\n",
        "#trainer3 = swyft.SwyftTrainer(accelerator = DEVICE, precision = 64, logger = logger, callbacks=[lr_monitor,early_stopping_callback])\n",
        "trainer3 = swyft.SwyftTrainer(accelerator = DEVICE, precision = 64)\n",
        "network3 = Network3()\n",
        "trainer3.fit(network3, dm_full)\n",
        "predictions3 = trainer3.infer(network3, obs_sample, prior_samples)\n",
        "truth = {k: v for k, v in zip([\"z[%i]\"%i for i in range(5)], obs_sample['z'])}\n",
        "swyft.plot_posterior(predictions3, [\"z[%i]\"%i for i in range(5)], truth=truth);"
      ],
      "outputs": [
        {
          "output_type": "stream",
          "name": "stderr",
          "text": "/anaconda/envs/azureml_py38/lib/python3.8/site-packages/lightning_fabric/accelerators/cuda.py:235: UserWarning: Can't initialize NVML\n  warnings.warn(\"Can't initialize NVML\")\nGPU available: False, used: False\nTPU available: False, using: 0 TPU cores\nIPU available: False, using: 0 IPUs\nHPU available: False, using: 0 HPUs\n/anaconda/envs/azureml_py38/lib/python3.8/site-packages/pytorch_lightning/loops/utilities.py:94: PossibleUserWarning: `max_epochs` was not set. Setting it to 1000 epochs. To train without an epoch limit, set `max_epochs=-1`.\n  rank_zero_warn(\nThe following callbacks returned in `LightningModule.configure_callbacks` will override existing callbacks passed to Trainer: ModelCheckpoint\n\n  | Name      | Type                   | Params\n-----------------------------------------------------\n0 | net       | Sequential             | 339 K \n1 | logratios | LogRatioEstimator_1dim | 89.3 K\n-----------------------------------------------------\n429 K     Trainable params\n0         Non-trainable params\n429 K     Total params\n3.433     Total estimated model params size (MB)\n"
        }
      ],
      "execution_count": 11,
      "metadata": {
        "jupyter": {
          "source_hidden": false,
          "outputs_hidden": false
        },
        "nteract": {
          "transient": {
            "deleting": false
          }
        },
        "gather": {
          "logged": 1706476833979
        }
      }
    },
    {
      "cell_type": "code",
      "source": [],
      "outputs": [],
      "execution_count": null,
      "metadata": {
        "jupyter": {
          "source_hidden": false,
          "outputs_hidden": false
        },
        "nteract": {
          "transient": {
            "deleting": false
          }
        }
      }
    }
  ],
  "metadata": {
    "kernelspec": {
      "name": "python38-azureml",
      "language": "python",
      "display_name": "Python 3.8 - AzureML"
    },
    "language_info": {
      "name": "python",
      "version": "3.8.5",
      "mimetype": "text/x-python",
      "codemirror_mode": {
        "name": "ipython",
        "version": 3
      },
      "pygments_lexer": "ipython3",
      "nbconvert_exporter": "python",
      "file_extension": ".py"
    },
    "microsoft": {
      "ms_spell_check": {
        "ms_spell_check_language": "en"
      },
      "host": {
        "AzureML": {
          "notebookHasBeenCompleted": true
        }
      }
    },
    "kernel_info": {
      "name": "python38-azureml"
    },
    "nteract": {
      "version": "nteract-front-end@1.0.0"
    }
  },
  "nbformat": 4,
  "nbformat_minor": 2
}